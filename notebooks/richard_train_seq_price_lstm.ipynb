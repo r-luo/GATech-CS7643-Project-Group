{
 "cells": [
  {
   "cell_type": "code",
   "execution_count": 1,
   "id": "619802ef-8335-4789-b02c-7740569430b8",
   "metadata": {},
   "outputs": [
    {
     "name": "stdout",
     "output_type": "stream",
     "text": [
      "Cuda available: True\n"
     ]
    }
   ],
   "source": [
    "%run _common.ipynb"
   ]
  },
  {
   "cell_type": "code",
   "execution_count": 32,
   "id": "459f259a-334e-426f-bf39-a844be16b95d",
   "metadata": {},
   "outputs": [],
   "source": [
    "from src import model_data as md\n",
    "from matplotlib import pylab as plt\n",
    "import pandas as pd"
   ]
  },
  {
   "cell_type": "code",
   "execution_count": 3,
   "id": "58ef9b59-f331-49d4-8b59-6c5fb03e9f01",
   "metadata": {},
   "outputs": [],
   "source": [
    "pipeline = md.MultiTickerPipeline(\n",
    "    target=\"price\",\n",
    "    target_type=\"sequence\",\n",
    "    model_seq_len=30,\n",
    "    max_overlap=20,\n",
    "    train_periods=[\n",
    "        (\"2012-01-01\", \"2019-12-31\"),\n",
    "    ],\n",
    "    test_periods=[\n",
    "        (\"2020-01-01\", \"2021-04-01\"),\n",
    "    ],\n",
    "    normalization_method=\"log\",\n",
    "    cross_validation_folds=5\n",
    ")"
   ]
  },
  {
   "cell_type": "raw",
   "id": "a781c662-af1b-4563-a9ee-2d7afbc10d21",
   "metadata": {
    "tags": []
   },
   "source": [
    "pipeline.prepare_data([\"_all_\"])"
   ]
  },
  {
   "cell_type": "code",
   "execution_count": 4,
   "id": "8df57c8f-f3df-4890-906f-ee43de77db26",
   "metadata": {},
   "outputs": [
    {
     "name": "stderr",
     "output_type": "stream",
     "text": [
      "INFO:src.model_data:Loading generated data from /home/rluo/raid/classes/gatech/cs7643/GATech-CS7643-Project-Group/data/model_data/price-sequence-96tickers...\n",
      "INFO:src.model_data:  Loading train folds...\n",
      "INFO:src.model_data:  Loading test arrays...\n"
     ]
    }
   ],
   "source": [
    "pipeline.load_data('price-sequence-96tickers')"
   ]
  },
  {
   "cell_type": "code",
   "execution_count": 5,
   "id": "eed1a257-5979-48e1-a8ec-accce8c71339",
   "metadata": {},
   "outputs": [],
   "source": [
    "train_data = pipeline._train_out\n",
    "test_data = pipeline._test_out"
   ]
  },
  {
   "cell_type": "code",
   "execution_count": 6,
   "id": "d1f9d19b-c180-4c7f-af17-54f4c45c68fb",
   "metadata": {},
   "outputs": [],
   "source": [
    "fold5 = train_data[4]\n",
    "train = fold5['train']\n",
    "valid = fold5['valid']"
   ]
  },
  {
   "cell_type": "code",
   "execution_count": 7,
   "id": "91eb7948-3393-4c1f-b7f4-a620f8c6f6cf",
   "metadata": {},
   "outputs": [],
   "source": [
    "device = \"cuda:1\""
   ]
  },
  {
   "cell_type": "code",
   "execution_count": 8,
   "id": "4dc3a5fb-7e34-43aa-8340-2a1588d68cb5",
   "metadata": {},
   "outputs": [],
   "source": [
    "# x_train, y_train = torch.from_numpy(train['x']).to(device), torch.from_numpy(train['y']).to(device)\n",
    "x_valid, y_valid = torch.from_numpy(valid['x'].astype(\"float32\")).to(device), torch.from_numpy(valid['y'].astype(\"float32\")).to(device)\n",
    "x_test, y_test = torch.from_numpy(test_data['x'].astype(\"float32\")).to(device), torch.from_numpy(test_data['y'].astype(\"float32\")).to(device)"
   ]
  },
  {
   "cell_type": "code",
   "execution_count": 9,
   "id": "3c31da20-39e8-4f8d-aeb6-23c01ecf5dd4",
   "metadata": {},
   "outputs": [],
   "source": [
    "class SeqDataset(torch.utils.data.Dataset):\n",
    "    def __init__(self, datadict):\n",
    "        self.x = datadict['x'].astype(\"float32\")\n",
    "        self.y = datadict['y'].astype(\"float32\")\n",
    "        \n",
    "    def __len__(self):\n",
    "        return self.x.shape[0]\n",
    "\n",
    "    def __getitem__(self, index):\n",
    "        return self.x[index], self.y[index]"
   ]
  },
  {
   "cell_type": "code",
   "execution_count": 10,
   "id": "a4cc02a7-0291-408a-a470-0add20447e99",
   "metadata": {},
   "outputs": [],
   "source": [
    "class SeqModel(nn.Module):\n",
    "    def __init__(self, input_dim, hidden_dim, num_layers, output_dim):\n",
    "        super().__init__()\n",
    "        self.hidden_dim = hidden_dim\n",
    "        self.num_layers = num_layers\n",
    "        #\n",
    "        self.lstm = nn.LSTM(input_dim, hidden_dim, num_layers, batch_first=True)\n",
    "        self.fc = nn.Linear(hidden_dim, output_dim)\n",
    "\n",
    "    def forward(self, x):\n",
    "        h0 = torch.zeros(self.num_layers, x.size(0), self.hidden_dim).requires_grad_().to(device)\n",
    "        c0 = torch.zeros(self.num_layers, x.size(0), self.hidden_dim).requires_grad_().to(device)\n",
    "        out, (hn, cn) = self.lstm(x, (h0.detach(), c0.detach()))\n",
    "        out = self.fc(out)\n",
    "        return out\n"
   ]
  },
  {
   "cell_type": "code",
   "execution_count": 11,
   "id": "dcc31b71-2b73-4e2f-ba58-59a653767009",
   "metadata": {},
   "outputs": [],
   "source": [
    "input_dim = x_valid.shape[2]\n",
    "output_dim = y_valid.shape[2]"
   ]
  },
  {
   "cell_type": "code",
   "execution_count": 12,
   "id": "fc718aa3-6b21-4e12-95bc-bae3ce5cc70a",
   "metadata": {},
   "outputs": [],
   "source": [
    "hidden_dim = 128\n",
    "num_layers = 2\n",
    "num_epochs = 400\n",
    "learning_rate = 0.001"
   ]
  },
  {
   "cell_type": "code",
   "execution_count": 13,
   "id": "e62ac5bc-1eb7-4132-b905-330b8c683e78",
   "metadata": {},
   "outputs": [],
   "source": [
    "data_loader_params = {\n",
    "    \"batch_size\": 64,\n",
    "    \"shuffle\": True,\n",
    "    \"num_workers\": 10\n",
    "}"
   ]
  },
  {
   "cell_type": "code",
   "execution_count": 14,
   "id": "3f39817e-a0c2-4ddc-aed8-c4b644d7e692",
   "metadata": {},
   "outputs": [],
   "source": [
    "train_set = SeqDataset(train)"
   ]
  },
  {
   "cell_type": "code",
   "execution_count": 15,
   "id": "fa2298b6-9dd5-4890-b823-08b1b828c8cb",
   "metadata": {},
   "outputs": [],
   "source": [
    "train_loader = torch.utils.data.DataLoader(train_set, **data_loader_params)"
   ]
  },
  {
   "cell_type": "code",
   "execution_count": 16,
   "id": "c6331ec1-f64d-4df1-94bb-bb1d23c2c58d",
   "metadata": {},
   "outputs": [],
   "source": [
    "model = SeqModel(input_dim, hidden_dim, num_layers, output_dim).to(device)"
   ]
  },
  {
   "cell_type": "code",
   "execution_count": 17,
   "id": "ab7b0804-330f-424f-b2ce-aa1ecfbf121f",
   "metadata": {},
   "outputs": [],
   "source": [
    "optimizer = torch.optim.Adam(model.parameters(), lr=learning_rate)"
   ]
  },
  {
   "cell_type": "code",
   "execution_count": 18,
   "id": "c89a046d-ca12-4619-9661-1950d70128b5",
   "metadata": {},
   "outputs": [],
   "source": [
    "criterion = nn.L1Loss(reduction='mean')"
   ]
  },
  {
   "cell_type": "code",
   "execution_count": 19,
   "id": "69da9fc0-d6f1-43a8-a611-47a31b0cd5ef",
   "metadata": {},
   "outputs": [],
   "source": [
    "num_epochs = 400\n",
    "early_stopping_epochs = 10"
   ]
  },
  {
   "cell_type": "code",
   "execution_count": 20,
   "id": "01922543-2e2d-4afb-97c8-62cf0d0c0052",
   "metadata": {
    "scrolled": true,
    "tags": []
   },
   "outputs": [
    {
     "name": "stdout",
     "output_type": "stream",
     "text": [
      "Epoch 0, train loss: 78.27, validation loss: 142.31, last day valid loss: 143.12\n",
      "Epoch 1, train loss: 65.04, validation loss: 127.09, last day valid loss: 127.88\n",
      "Epoch 2, train loss: 52.37, validation loss: 113.08, last day valid loss: 113.79\n",
      "Epoch 3, train loss: 46.10, validation loss: 103.96, last day valid loss: 104.56\n",
      "Epoch 4, train loss: 42.18, validation loss: 97.33, last day valid loss: 97.69\n",
      "Epoch 5, train loss: 39.13, validation loss: 91.79, last day valid loss: 92.15\n",
      "Epoch 6, train loss: 36.89, validation loss: 87.16, last day valid loss: 87.48\n",
      "Epoch 7, train loss: 34.85, validation loss: 82.93, last day valid loss: 83.18\n",
      "Epoch 8, train loss: 33.35, validation loss: 79.26, last day valid loss: 79.48\n",
      "Epoch 9, train loss: 31.85, validation loss: 76.04, last day valid loss: 76.23\n",
      "Epoch 10, train loss: 30.99, validation loss: 73.48, last day valid loss: 73.68\n",
      "Epoch 11, train loss: 29.65, validation loss: 70.68, last day valid loss: 70.81\n",
      "Epoch 12, train loss: 29.00, validation loss: 68.36, last day valid loss: 68.48\n",
      "Epoch 13, train loss: 27.75, validation loss: 66.27, last day valid loss: 66.33\n",
      "Epoch 14, train loss: 26.98, validation loss: 64.34, last day valid loss: 64.40\n",
      "Epoch 15, train loss: 26.38, validation loss: 62.60, last day valid loss: 62.65\n",
      "Epoch 16, train loss: 25.54, validation loss: 60.79, last day valid loss: 60.84\n",
      "Epoch 17, train loss: 25.04, validation loss: 59.46, last day valid loss: 59.50\n",
      "Epoch 18, train loss: 24.84, validation loss: 57.63, last day valid loss: 57.63\n",
      "Epoch 19, train loss: 23.49, validation loss: 56.27, last day valid loss: 56.21\n",
      "Epoch 20, train loss: 22.98, validation loss: 55.24, last day valid loss: 55.16\n",
      "Epoch 21, train loss: 22.38, validation loss: 53.94, last day valid loss: 53.85\n",
      "Epoch 22, train loss: 21.89, validation loss: 52.85, last day valid loss: 52.77\n",
      "Epoch 23, train loss: 21.40, validation loss: 51.87, last day valid loss: 51.79\n",
      "Epoch 24, train loss: 20.98, validation loss: 50.89, last day valid loss: 50.82\n",
      "Epoch 25, train loss: 20.56, validation loss: 49.87, last day valid loss: 49.83\n",
      "Epoch 26, train loss: 20.15, validation loss: 49.30, last day valid loss: 49.24\n",
      "Epoch 27, train loss: 19.79, validation loss: 48.73, last day valid loss: 48.73\n",
      "Epoch 28, train loss: 19.46, validation loss: 48.16, last day valid loss: 48.12\n",
      "Epoch 29, train loss: 19.15, validation loss: 47.11, last day valid loss: 47.08\n",
      "Epoch 30, train loss: 18.76, validation loss: 46.54, last day valid loss: 46.51\n",
      "Epoch 31, train loss: 18.37, validation loss: 45.79, last day valid loss: 45.77\n",
      "Epoch 32, train loss: 18.13, validation loss: 45.14, last day valid loss: 45.08\n",
      "Epoch 33, train loss: 17.80, validation loss: 44.51, last day valid loss: 44.50\n",
      "Epoch 34, train loss: 17.80, validation loss: 44.40, last day valid loss: 44.34\n",
      "Epoch 35, train loss: 17.22, validation loss: 43.51, last day valid loss: 43.44\n",
      "Epoch 36, train loss: 16.93, validation loss: 43.04, last day valid loss: 42.98\n",
      "Epoch 37, train loss: 16.76, validation loss: 42.44, last day valid loss: 42.33\n",
      "Epoch 38, train loss: 16.33, validation loss: 42.12, last day valid loss: 42.02\n",
      "Epoch 39, train loss: 16.12, validation loss: 41.56, last day valid loss: 41.47\n",
      "Epoch 40, train loss: 16.11, validation loss: 41.36, last day valid loss: 41.20\n",
      "Epoch 41, train loss: 15.56, validation loss: 41.17, last day valid loss: 41.10\n",
      "Epoch 42, train loss: 15.34, validation loss: 40.27, last day valid loss: 40.12\n",
      "Epoch 43, train loss: 15.08, validation loss: 39.82, last day valid loss: 39.67\n",
      "Epoch 44, train loss: 14.88, validation loss: 39.57, last day valid loss: 39.43\n",
      "Epoch 45, train loss: 14.61, validation loss: 38.99, last day valid loss: 38.85\n",
      "Epoch 46, train loss: 14.33, validation loss: 38.96, last day valid loss: 38.86\n",
      "Epoch 47, train loss: 14.06, validation loss: 38.38, last day valid loss: 38.28\n",
      "Epoch 48, train loss: 13.89, validation loss: 38.10, last day valid loss: 38.01\n",
      "Epoch 49, train loss: 13.66, validation loss: 37.41, last day valid loss: 37.24\n",
      "Epoch 50, train loss: 13.39, validation loss: 37.15, last day valid loss: 37.01\n",
      "Epoch 51, train loss: 13.28, validation loss: 37.03, last day valid loss: 36.89\n",
      "Epoch 52, train loss: 13.03, validation loss: 36.82, last day valid loss: 36.68\n",
      "Epoch 53, train loss: 12.92, validation loss: 36.31, last day valid loss: 36.17\n",
      "Epoch 54, train loss: 12.69, validation loss: 35.86, last day valid loss: 35.73\n",
      "Epoch 55, train loss: 12.63, validation loss: 35.60, last day valid loss: 35.39\n",
      "Epoch 56, train loss: 12.47, validation loss: 35.55, last day valid loss: 35.31\n",
      "Epoch 57, train loss: 12.32, validation loss: 35.31, last day valid loss: 35.10\n",
      "Epoch 58, train loss: 11.94, validation loss: 34.66, last day valid loss: 34.54\n",
      "Epoch 59, train loss: 11.78, validation loss: 34.92, last day valid loss: 34.89\n",
      "Epoch 60, train loss: 11.55, validation loss: 34.58, last day valid loss: 34.38\n",
      "Epoch 61, train loss: 11.44, validation loss: 33.96, last day valid loss: 33.80\n",
      "Epoch 62, train loss: 11.16, validation loss: 33.63, last day valid loss: 33.52\n",
      "Epoch 63, train loss: 11.10, validation loss: 33.26, last day valid loss: 33.09\n",
      "Epoch 64, train loss: 10.94, validation loss: 33.05, last day valid loss: 32.89\n",
      "Epoch 65, train loss: 10.79, validation loss: 32.81, last day valid loss: 32.63\n",
      "Epoch 66, train loss: 10.75, validation loss: 32.74, last day valid loss: 32.58\n",
      "Epoch 67, train loss: 10.47, validation loss: 32.59, last day valid loss: 32.35\n",
      "Epoch 68, train loss: 10.50, validation loss: 32.10, last day valid loss: 31.90\n",
      "Epoch 69, train loss: 10.20, validation loss: 31.73, last day valid loss: 31.55\n",
      "Epoch 70, train loss: 10.06, validation loss: 31.51, last day valid loss: 31.38\n",
      "Epoch 71, train loss: 9.96, validation loss: 31.15, last day valid loss: 30.99\n",
      "Epoch 72, train loss: 10.08, validation loss: 31.61, last day valid loss: 31.40\n",
      "Epoch 73, train loss: 9.59, validation loss: 30.88, last day valid loss: 30.65\n",
      "Epoch 74, train loss: 9.49, validation loss: 30.51, last day valid loss: 30.31\n",
      "Epoch 75, train loss: 9.40, validation loss: 30.32, last day valid loss: 30.11\n",
      "Epoch 76, train loss: 9.22, validation loss: 30.05, last day valid loss: 29.88\n",
      "Epoch 77, train loss: 9.07, validation loss: 29.88, last day valid loss: 29.70\n",
      "Epoch 78, train loss: 8.91, validation loss: 29.90, last day valid loss: 29.74\n",
      "Epoch 79, train loss: 8.79, validation loss: 29.43, last day valid loss: 29.25\n",
      "Epoch 80, train loss: 8.69, validation loss: 29.20, last day valid loss: 28.98\n",
      "Epoch 81, train loss: 8.77, validation loss: 29.25, last day valid loss: 29.03\n",
      "Epoch 82, train loss: 8.55, validation loss: 28.81, last day valid loss: 28.63\n",
      "Epoch 83, train loss: 8.41, validation loss: 28.90, last day valid loss: 28.76\n",
      "Epoch 84, train loss: 8.36, validation loss: 28.92, last day valid loss: 28.79\n",
      "Epoch 85, train loss: 8.20, validation loss: 27.84, last day valid loss: 27.58\n",
      "Epoch 86, train loss: 8.22, validation loss: 27.94, last day valid loss: 27.65\n",
      "Epoch 87, train loss: 8.04, validation loss: 27.64, last day valid loss: 27.48\n",
      "Epoch 88, train loss: 7.94, validation loss: 27.20, last day valid loss: 26.98\n",
      "Epoch 89, train loss: 7.80, validation loss: 27.03, last day valid loss: 26.85\n",
      "Epoch 90, train loss: 8.02, validation loss: 28.03, last day valid loss: 27.93\n",
      "Epoch 91, train loss: 7.65, validation loss: 26.66, last day valid loss: 26.42\n",
      "Epoch 92, train loss: 7.51, validation loss: 26.17, last day valid loss: 25.90\n",
      "Epoch 93, train loss: 7.45, validation loss: 26.01, last day valid loss: 25.72\n",
      "Epoch 94, train loss: 7.32, validation loss: 26.11, last day valid loss: 25.92\n",
      "Epoch 95, train loss: 7.19, validation loss: 25.45, last day valid loss: 25.18\n",
      "Epoch 96, train loss: 7.17, validation loss: 25.31, last day valid loss: 25.09\n",
      "Epoch 97, train loss: 6.99, validation loss: 25.00, last day valid loss: 24.73\n",
      "Epoch 98, train loss: 6.83, validation loss: 24.46, last day valid loss: 24.19\n",
      "Epoch 99, train loss: 6.76, validation loss: 24.48, last day valid loss: 24.25\n",
      "Epoch 100, train loss: 6.63, validation loss: 24.14, last day valid loss: 23.93\n",
      "Epoch 101, train loss: 6.62, validation loss: 23.71, last day valid loss: 23.43\n",
      "Epoch 102, train loss: 6.45, validation loss: 23.88, last day valid loss: 23.64\n",
      "Epoch 103, train loss: 6.42, validation loss: 23.59, last day valid loss: 23.33\n",
      "Epoch 104, train loss: 6.47, validation loss: 24.29, last day valid loss: 23.91\n",
      "Epoch 105, train loss: 6.32, validation loss: 23.03, last day valid loss: 22.77\n",
      "Epoch 106, train loss: 6.14, validation loss: 23.36, last day valid loss: 23.05\n",
      "Epoch 107, train loss: 6.12, validation loss: 22.96, last day valid loss: 22.67\n",
      "Epoch 108, train loss: 6.13, validation loss: 22.65, last day valid loss: 22.35\n",
      "Epoch 109, train loss: 5.90, validation loss: 22.13, last day valid loss: 21.83\n",
      "Epoch 110, train loss: 5.85, validation loss: 22.23, last day valid loss: 22.04\n",
      "Epoch 111, train loss: 5.80, validation loss: 21.90, last day valid loss: 21.61\n",
      "Epoch 112, train loss: 5.73, validation loss: 21.79, last day valid loss: 21.48\n",
      "Epoch 113, train loss: 5.68, validation loss: 21.36, last day valid loss: 21.02\n",
      "Epoch 114, train loss: 5.50, validation loss: 21.21, last day valid loss: 20.97\n",
      "Epoch 115, train loss: 5.39, validation loss: 21.33, last day valid loss: 21.03\n",
      "Epoch 116, train loss: 5.45, validation loss: 20.64, last day valid loss: 20.34\n",
      "Epoch 117, train loss: 5.40, validation loss: 20.61, last day valid loss: 20.35\n",
      "Epoch 118, train loss: 5.41, validation loss: 20.31, last day valid loss: 19.96\n",
      "Epoch 119, train loss: 5.29, validation loss: 21.15, last day valid loss: 21.00\n",
      "Epoch 120, train loss: 5.24, validation loss: 20.18, last day valid loss: 19.92\n",
      "Epoch 121, train loss: 5.13, validation loss: 19.77, last day valid loss: 19.45\n",
      "Epoch 122, train loss: 5.07, validation loss: 19.66, last day valid loss: 19.30\n",
      "Epoch 123, train loss: 4.99, validation loss: 19.28, last day valid loss: 18.98\n",
      "Epoch 124, train loss: 4.98, validation loss: 19.00, last day valid loss: 18.67\n",
      "Epoch 125, train loss: 4.89, validation loss: 18.98, last day valid loss: 18.69\n",
      "Epoch 126, train loss: 4.80, validation loss: 18.83, last day valid loss: 18.51\n",
      "Epoch 127, train loss: 4.75, validation loss: 18.72, last day valid loss: 18.36\n",
      "Epoch 128, train loss: 4.72, validation loss: 18.59, last day valid loss: 18.31\n",
      "Epoch 129, train loss: 4.69, validation loss: 18.34, last day valid loss: 17.99\n",
      "Epoch 130, train loss: 4.61, validation loss: 18.46, last day valid loss: 18.16\n",
      "Epoch 131, train loss: 4.69, validation loss: 19.71, last day valid loss: 19.52\n",
      "Epoch 132, train loss: 4.58, validation loss: 17.92, last day valid loss: 17.62\n",
      "Epoch 133, train loss: 4.49, validation loss: 17.99, last day valid loss: 17.78\n",
      "Epoch 134, train loss: 4.42, validation loss: 17.82, last day valid loss: 17.63\n",
      "Epoch 135, train loss: 4.40, validation loss: 17.34, last day valid loss: 17.04\n",
      "Epoch 136, train loss: 4.38, validation loss: 17.13, last day valid loss: 16.83\n",
      "Epoch 137, train loss: 4.31, validation loss: 17.07, last day valid loss: 16.75\n",
      "Epoch 138, train loss: 4.19, validation loss: 17.38, last day valid loss: 17.13\n",
      "Epoch 139, train loss: 4.23, validation loss: 16.80, last day valid loss: 16.47\n",
      "Epoch 140, train loss: 4.22, validation loss: 16.66, last day valid loss: 16.34\n",
      "Epoch 141, train loss: 4.28, validation loss: 17.57, last day valid loss: 17.35\n",
      "Epoch 142, train loss: 4.14, validation loss: 16.58, last day valid loss: 16.32\n",
      "Epoch 143, train loss: 4.07, validation loss: 16.31, last day valid loss: 16.07\n",
      "Epoch 144, train loss: 4.27, validation loss: 16.47, last day valid loss: 16.24\n",
      "Epoch 145, train loss: 4.11, validation loss: 16.73, last day valid loss: 16.48\n",
      "Epoch 146, train loss: 4.03, validation loss: 16.37, last day valid loss: 16.10\n",
      "Epoch 147, train loss: 3.94, validation loss: 16.01, last day valid loss: 15.75\n",
      "Epoch 148, train loss: 3.98, validation loss: 16.60, last day valid loss: 16.27\n",
      "Epoch 149, train loss: 4.05, validation loss: 16.04, last day valid loss: 15.87\n",
      "Epoch 150, train loss: 3.95, validation loss: 16.29, last day valid loss: 16.05\n",
      "Epoch 151, train loss: 3.94, validation loss: 15.63, last day valid loss: 15.31\n",
      "Epoch 152, train loss: 3.78, validation loss: 15.46, last day valid loss: 15.19\n",
      "Epoch 153, train loss: 3.84, validation loss: 15.71, last day valid loss: 15.44\n",
      "Epoch 154, train loss: 3.71, validation loss: 15.25, last day valid loss: 14.89\n",
      "Epoch 155, train loss: 3.69, validation loss: 15.25, last day valid loss: 15.01\n",
      "Epoch 156, train loss: 3.80, validation loss: 15.31, last day valid loss: 14.97\n",
      "Epoch 157, train loss: 3.70, validation loss: 15.20, last day valid loss: 14.87\n",
      "Epoch 158, train loss: 3.62, validation loss: 14.72, last day valid loss: 14.37\n",
      "Epoch 159, train loss: 3.57, validation loss: 15.24, last day valid loss: 14.93\n",
      "Epoch 160, train loss: 3.67, validation loss: 14.81, last day valid loss: 14.49\n",
      "Epoch 161, train loss: 3.76, validation loss: 14.18, last day valid loss: 13.89\n",
      "Epoch 162, train loss: 3.53, validation loss: 14.27, last day valid loss: 14.06\n",
      "Epoch 163, train loss: 3.50, validation loss: 14.60, last day valid loss: 14.28\n",
      "Epoch 164, train loss: 3.66, validation loss: 14.55, last day valid loss: 14.23\n",
      "Epoch 165, train loss: 3.57, validation loss: 14.08, last day valid loss: 13.79\n",
      "Epoch 166, train loss: 3.51, validation loss: 14.23, last day valid loss: 14.03\n",
      "Epoch 167, train loss: 3.44, validation loss: 14.58, last day valid loss: 14.19\n",
      "Epoch 168, train loss: 3.54, validation loss: 13.67, last day valid loss: 13.32\n",
      "Epoch 169, train loss: 3.43, validation loss: 14.15, last day valid loss: 13.90\n",
      "Epoch 170, train loss: 3.50, validation loss: 14.20, last day valid loss: 13.98\n",
      "Epoch 171, train loss: 3.38, validation loss: 13.70, last day valid loss: 13.41\n",
      "Epoch 172, train loss: 3.56, validation loss: 14.36, last day valid loss: 14.03\n",
      "Epoch 173, train loss: 3.41, validation loss: 13.50, last day valid loss: 13.15\n",
      "Epoch 174, train loss: 3.39, validation loss: 13.34, last day valid loss: 13.03\n",
      "Epoch 175, train loss: 3.32, validation loss: 13.89, last day valid loss: 13.70\n",
      "Epoch 176, train loss: 3.44, validation loss: 13.54, last day valid loss: 13.34\n",
      "Epoch 177, train loss: 3.25, validation loss: 13.52, last day valid loss: 13.24\n",
      "Epoch 178, train loss: 3.25, validation loss: 13.46, last day valid loss: 13.15\n",
      "Epoch 179, train loss: 3.23, validation loss: 13.33, last day valid loss: 13.03\n",
      "Epoch 180, train loss: 3.18, validation loss: 12.72, last day valid loss: 12.36\n",
      "Epoch 181, train loss: 3.26, validation loss: 12.80, last day valid loss: 12.50\n",
      "Epoch 182, train loss: 3.10, validation loss: 12.70, last day valid loss: 12.42\n",
      "Epoch 183, train loss: 3.09, validation loss: 12.79, last day valid loss: 12.47\n",
      "Epoch 184, train loss: 3.10, validation loss: 12.70, last day valid loss: 12.48\n",
      "Epoch 185, train loss: 3.18, validation loss: 12.86, last day valid loss: 12.58\n",
      "Epoch 186, train loss: 3.15, validation loss: 12.76, last day valid loss: 12.46\n",
      "Epoch 187, train loss: 3.17, validation loss: 12.20, last day valid loss: 11.93\n",
      "Epoch 188, train loss: 3.10, validation loss: 12.01, last day valid loss: 11.72\n",
      "Epoch 189, train loss: 3.00, validation loss: 12.91, last day valid loss: 12.68\n",
      "Epoch 190, train loss: 3.11, validation loss: 12.37, last day valid loss: 12.00\n",
      "Epoch 191, train loss: 3.05, validation loss: 12.07, last day valid loss: 11.77\n",
      "Epoch 192, train loss: 3.15, validation loss: 11.83, last day valid loss: 11.44\n",
      "Epoch 193, train loss: 3.03, validation loss: 12.13, last day valid loss: 11.87\n",
      "Epoch 194, train loss: 2.97, validation loss: 12.58, last day valid loss: 12.52\n",
      "Epoch 195, train loss: 2.93, validation loss: 11.58, last day valid loss: 11.24\n",
      "Epoch 196, train loss: 2.92, validation loss: 11.43, last day valid loss: 11.13\n",
      "Epoch 197, train loss: 2.94, validation loss: 11.56, last day valid loss: 11.21\n",
      "Epoch 198, train loss: 2.96, validation loss: 11.10, last day valid loss: 10.80\n",
      "Epoch 199, train loss: 2.89, validation loss: 11.33, last day valid loss: 11.02\n",
      "Epoch 200, train loss: 3.04, validation loss: 11.12, last day valid loss: 10.88\n",
      "Epoch 201, train loss: 2.95, validation loss: 10.88, last day valid loss: 10.51\n",
      "Epoch 202, train loss: 2.97, validation loss: 10.90, last day valid loss: 10.58\n",
      "Epoch 203, train loss: 2.85, validation loss: 10.99, last day valid loss: 10.63\n",
      "Epoch 204, train loss: 2.84, validation loss: 11.80, last day valid loss: 11.53\n",
      "Epoch 205, train loss: 2.85, validation loss: 10.95, last day valid loss: 10.57\n",
      "Epoch 206, train loss: 2.86, validation loss: 10.77, last day valid loss: 10.48\n",
      "Epoch 207, train loss: 2.83, validation loss: 10.62, last day valid loss: 10.30\n",
      "Epoch 208, train loss: 2.80, validation loss: 10.77, last day valid loss: 10.50\n",
      "Epoch 209, train loss: 2.81, validation loss: 10.72, last day valid loss: 10.52\n",
      "Epoch 210, train loss: 2.72, validation loss: 10.46, last day valid loss: 10.11\n",
      "Epoch 211, train loss: 2.75, validation loss: 10.63, last day valid loss: 10.34\n",
      "Epoch 212, train loss: 2.80, validation loss: 10.80, last day valid loss: 10.49\n",
      "Epoch 213, train loss: 2.80, validation loss: 10.19, last day valid loss: 9.75\n",
      "Epoch 214, train loss: 2.77, validation loss: 11.03, last day valid loss: 10.76\n",
      "Epoch 215, train loss: 2.70, validation loss: 9.96, last day valid loss: 9.65\n",
      "Epoch 216, train loss: 2.73, validation loss: 10.42, last day valid loss: 10.20\n",
      "Epoch 217, train loss: 2.70, validation loss: 9.75, last day valid loss: 9.41\n",
      "Epoch 218, train loss: 2.82, validation loss: 9.87, last day valid loss: 9.51\n",
      "Epoch 219, train loss: 2.62, validation loss: 9.63, last day valid loss: 9.24\n",
      "Epoch 220, train loss: 2.72, validation loss: 9.65, last day valid loss: 9.31\n",
      "Epoch 221, train loss: 2.64, validation loss: 9.95, last day valid loss: 9.73\n",
      "Epoch 222, train loss: 2.69, validation loss: 9.76, last day valid loss: 9.41\n",
      "Epoch 223, train loss: 2.63, validation loss: 9.48, last day valid loss: 9.14\n",
      "Epoch 224, train loss: 2.67, validation loss: 9.96, last day valid loss: 9.56\n",
      "Epoch 225, train loss: 2.63, validation loss: 9.34, last day valid loss: 9.06\n",
      "Epoch 226, train loss: 2.63, validation loss: 9.64, last day valid loss: 9.31\n",
      "Epoch 227, train loss: 2.56, validation loss: 9.37, last day valid loss: 9.00\n",
      "Epoch 228, train loss: 2.60, validation loss: 9.31, last day valid loss: 9.02\n",
      "Epoch 229, train loss: 2.60, validation loss: 8.99, last day valid loss: 8.66\n",
      "Epoch 230, train loss: 2.52, validation loss: 9.16, last day valid loss: 8.83\n",
      "Epoch 231, train loss: 2.53, validation loss: 9.21, last day valid loss: 8.85\n",
      "Epoch 232, train loss: 2.53, validation loss: 9.36, last day valid loss: 8.97\n",
      "Epoch 233, train loss: 2.64, validation loss: 8.90, last day valid loss: 8.61\n",
      "Epoch 234, train loss: 2.53, validation loss: 9.14, last day valid loss: 8.78\n",
      "Epoch 235, train loss: 2.58, validation loss: 9.12, last day valid loss: 8.78\n",
      "Epoch 236, train loss: 2.59, validation loss: 8.77, last day valid loss: 8.51\n",
      "Epoch 237, train loss: 2.46, validation loss: 8.85, last day valid loss: 8.44\n",
      "Epoch 238, train loss: 2.45, validation loss: 8.66, last day valid loss: 8.26\n",
      "Epoch 239, train loss: 2.57, validation loss: 8.52, last day valid loss: 8.23\n",
      "Epoch 240, train loss: 2.36, validation loss: 8.30, last day valid loss: 7.90\n",
      "Epoch 241, train loss: 2.47, validation loss: 8.46, last day valid loss: 8.11\n",
      "Epoch 242, train loss: 2.42, validation loss: 8.46, last day valid loss: 8.19\n",
      "Epoch 243, train loss: 2.51, validation loss: 8.21, last day valid loss: 7.95\n",
      "Epoch 244, train loss: 2.52, validation loss: 8.32, last day valid loss: 8.01\n",
      "Epoch 245, train loss: 2.41, validation loss: 8.39, last day valid loss: 8.18\n",
      "Epoch 246, train loss: 2.45, validation loss: 8.14, last day valid loss: 7.91\n",
      "Epoch 247, train loss: 2.49, validation loss: 8.56, last day valid loss: 8.27\n",
      "Epoch 248, train loss: 2.42, validation loss: 7.90, last day valid loss: 7.64\n",
      "Epoch 249, train loss: 2.32, validation loss: 8.15, last day valid loss: 7.87\n",
      "Epoch 250, train loss: 2.43, validation loss: 7.82, last day valid loss: 7.51\n",
      "Epoch 251, train loss: 2.59, validation loss: 8.05, last day valid loss: 7.70\n",
      "Epoch 252, train loss: 2.47, validation loss: 8.04, last day valid loss: 7.80\n",
      "Epoch 253, train loss: 2.31, validation loss: 7.66, last day valid loss: 7.38\n",
      "Epoch 254, train loss: 2.41, validation loss: 7.78, last day valid loss: 7.49\n",
      "Epoch 255, train loss: 2.37, validation loss: 8.14, last day valid loss: 7.99\n",
      "Epoch 256, train loss: 2.30, validation loss: 7.97, last day valid loss: 7.76\n",
      "Epoch 257, train loss: 2.24, validation loss: 7.35, last day valid loss: 7.16\n",
      "Epoch 258, train loss: 2.30, validation loss: 7.39, last day valid loss: 7.06\n",
      "Epoch 259, train loss: 2.28, validation loss: 7.98, last day valid loss: 7.54\n",
      "Epoch 260, train loss: 2.31, validation loss: 7.37, last day valid loss: 7.15\n",
      "Epoch 261, train loss: 2.27, validation loss: 7.26, last day valid loss: 6.98\n",
      "Epoch 262, train loss: 2.35, validation loss: 7.24, last day valid loss: 6.97\n",
      "Epoch 263, train loss: 2.29, validation loss: 7.22, last day valid loss: 6.90\n",
      "Epoch 264, train loss: 2.24, validation loss: 7.00, last day valid loss: 6.74\n",
      "Epoch 265, train loss: 2.24, validation loss: 7.82, last day valid loss: 7.65\n",
      "Epoch 266, train loss: 2.19, validation loss: 6.98, last day valid loss: 6.73\n",
      "Epoch 267, train loss: 2.19, validation loss: 7.06, last day valid loss: 6.78\n",
      "Epoch 268, train loss: 2.21, validation loss: 6.76, last day valid loss: 6.54\n",
      "Epoch 269, train loss: 2.16, validation loss: 7.68, last day valid loss: 7.36\n",
      "Epoch 270, train loss: 2.19, validation loss: 6.81, last day valid loss: 6.50\n",
      "Epoch 271, train loss: 2.24, validation loss: 6.66, last day valid loss: 6.40\n",
      "Epoch 272, train loss: 2.22, validation loss: 6.77, last day valid loss: 6.46\n",
      "Epoch 273, train loss: 2.21, validation loss: 6.56, last day valid loss: 6.22\n",
      "Epoch 274, train loss: 2.20, validation loss: 6.69, last day valid loss: 6.37\n",
      "Epoch 275, train loss: 2.16, validation loss: 6.63, last day valid loss: 6.29\n",
      "Epoch 276, train loss: 2.18, validation loss: 6.70, last day valid loss: 6.40\n",
      "Epoch 277, train loss: 2.15, validation loss: 6.46, last day valid loss: 6.19\n",
      "Epoch 278, train loss: 2.12, validation loss: 6.65, last day valid loss: 6.32\n",
      "Epoch 279, train loss: 2.16, validation loss: 6.56, last day valid loss: 6.19\n",
      "Epoch 280, train loss: 2.22, validation loss: 6.89, last day valid loss: 6.55\n",
      "Epoch 281, train loss: 2.14, validation loss: 6.32, last day valid loss: 6.04\n",
      "Epoch 282, train loss: 2.13, validation loss: 6.36, last day valid loss: 5.98\n",
      "Epoch 283, train loss: 2.26, validation loss: 6.18, last day valid loss: 5.82\n",
      "Epoch 284, train loss: 2.12, validation loss: 6.54, last day valid loss: 6.18\n",
      "Epoch 285, train loss: 2.16, validation loss: 6.25, last day valid loss: 5.87\n",
      "Epoch 286, train loss: 2.07, validation loss: 6.05, last day valid loss: 5.73\n",
      "Epoch 287, train loss: 2.26, validation loss: 6.00, last day valid loss: 5.73\n",
      "Epoch 288, train loss: 2.12, validation loss: 5.68, last day valid loss: 5.33\n",
      "Epoch 289, train loss: 2.10, validation loss: 5.62, last day valid loss: 5.32\n",
      "Epoch 290, train loss: 2.07, validation loss: 6.38, last day valid loss: 5.99\n",
      "Epoch 291, train loss: 2.03, validation loss: 5.93, last day valid loss: 5.66\n",
      "Epoch 292, train loss: 2.08, validation loss: 5.80, last day valid loss: 5.53\n",
      "Epoch 293, train loss: 2.08, validation loss: 5.80, last day valid loss: 5.42\n",
      "Epoch 294, train loss: 2.11, validation loss: 5.78, last day valid loss: 5.42\n",
      "Epoch 295, train loss: 2.01, validation loss: 5.87, last day valid loss: 5.63\n",
      "Epoch 296, train loss: 2.07, validation loss: 5.51, last day valid loss: 5.21\n",
      "Epoch 297, train loss: 2.02, validation loss: 5.76, last day valid loss: 5.56\n",
      "Epoch 298, train loss: 2.05, validation loss: 5.43, last day valid loss: 5.09\n",
      "Epoch 299, train loss: 2.09, validation loss: 5.55, last day valid loss: 5.24\n",
      "Epoch 300, train loss: 2.04, validation loss: 5.95, last day valid loss: 5.74\n",
      "Epoch 301, train loss: 1.98, validation loss: 5.72, last day valid loss: 5.36\n",
      "Epoch 302, train loss: 2.01, validation loss: 5.28, last day valid loss: 4.91\n",
      "Epoch 303, train loss: 2.07, validation loss: 5.57, last day valid loss: 5.22\n",
      "Epoch 304, train loss: 2.05, validation loss: 5.35, last day valid loss: 4.96\n",
      "Epoch 305, train loss: 2.05, validation loss: 5.41, last day valid loss: 5.06\n",
      "Epoch 306, train loss: 1.94, validation loss: 5.20, last day valid loss: 4.82\n",
      "Epoch 307, train loss: 1.89, validation loss: 5.40, last day valid loss: 5.12\n",
      "Epoch 308, train loss: 2.02, validation loss: 5.30, last day valid loss: 4.90\n",
      "Epoch 309, train loss: 1.94, validation loss: 4.99, last day valid loss: 4.62\n",
      "Epoch 310, train loss: 1.98, validation loss: 5.15, last day valid loss: 4.87\n",
      "Epoch 311, train loss: 1.94, validation loss: 5.72, last day valid loss: 5.49\n",
      "Epoch 312, train loss: 2.01, validation loss: 4.80, last day valid loss: 4.41\n",
      "Epoch 313, train loss: 1.86, validation loss: 4.88, last day valid loss: 4.56\n",
      "Epoch 314, train loss: 1.93, validation loss: 5.44, last day valid loss: 5.14\n",
      "Epoch 315, train loss: 1.90, validation loss: 5.02, last day valid loss: 4.82\n",
      "Epoch 316, train loss: 1.94, validation loss: 4.95, last day valid loss: 4.57\n",
      "Epoch 317, train loss: 1.87, validation loss: 5.25, last day valid loss: 5.14\n",
      "Epoch 318, train loss: 1.87, validation loss: 4.80, last day valid loss: 4.45\n",
      "Epoch 319, train loss: 1.86, validation loss: 4.90, last day valid loss: 4.52\n",
      "Epoch 320, train loss: 1.94, validation loss: 4.88, last day valid loss: 4.47\n",
      "Epoch 321, train loss: 1.84, validation loss: 4.81, last day valid loss: 4.53\n",
      "Epoch 322, train loss: 1.92, validation loss: 4.73, last day valid loss: 4.47\n",
      "Epoch 323, train loss: 1.90, validation loss: 5.73, last day valid loss: 5.45\n",
      "Epoch 324, train loss: 1.91, validation loss: 4.44, last day valid loss: 4.08\n",
      "Epoch 325, train loss: 1.85, validation loss: 5.25, last day valid loss: 5.07\n",
      "Epoch 326, train loss: 1.90, validation loss: 4.95, last day valid loss: 4.60\n",
      "Epoch 327, train loss: 1.88, validation loss: 4.55, last day valid loss: 4.32\n",
      "Epoch 328, train loss: 2.00, validation loss: 4.89, last day valid loss: 4.59\n",
      "Epoch 329, train loss: 2.03, validation loss: 4.77, last day valid loss: 4.51\n",
      "Epoch 330, train loss: 1.92, validation loss: 4.58, last day valid loss: 4.31\n",
      "Epoch 331, train loss: 1.88, validation loss: 4.74, last day valid loss: 4.47\n",
      "Epoch 332, train loss: 1.84, validation loss: 4.67, last day valid loss: 4.31\n",
      "Epoch 333, train loss: 2.03, validation loss: 5.15, last day valid loss: 4.88\n",
      "Epoch 334, train loss: 1.90, validation loss: 5.13, last day valid loss: 4.81\n",
      "Validation loss not improved in the last 10 epochs, breaking...\n",
      "test loss: 18.99, last day test loss: 19.57\n"
     ]
    }
   ],
   "source": [
    "train_hist = []\n",
    "valid_hist = []\n",
    "min_observed_valid_loss = np.inf\n",
    "\n",
    "for epoch in range(num_epochs):\n",
    "    train_loss_per_batch = []\n",
    "    for x, y in train_loader:\n",
    "        x = x.to(device)\n",
    "        y = y.to(device)\n",
    "        model.zero_grad()\n",
    "        y_pred = model(x)\n",
    "        loss = criterion(y_pred, y)\n",
    "        \n",
    "        loss.backward()\n",
    "        optimizer.step()\n",
    "        train_loss_per_batch.append(loss.item())\n",
    "        del x, y\n",
    "        torch.cuda.empty_cache()\n",
    "    train_loss_epoch = np.mean(train_loss_per_batch)\n",
    "    \n",
    "    with torch.no_grad():\n",
    "        y_valid_pred = model(x_valid)\n",
    "        valid_loss_epoch = criterion(y_valid_pred, y_valid)\n",
    "\n",
    "        # last-day loss\n",
    "        last_loss_valid = criterion(y_valid_pred[:, -1, :], y_valid[:, -1, :])\n",
    "\n",
    "        del y_valid_pred\n",
    "        torch.cuda.empty_cache()\n",
    "\n",
    "    min_observed_valid_loss = min(min_observed_valid_loss, valid_loss_epoch)\n",
    "    \n",
    "    train_hist.append(train_loss_epoch)\n",
    "    valid_hist.append(valid_loss_epoch)\n",
    "    \n",
    "    print(f\"Epoch {epoch}, train loss: {train_loss_epoch:.2f}, validation loss: {valid_loss_epoch:.2f}, last day valid loss: {last_loss_valid:.2f}\")\n",
    "    \n",
    "    if epoch > early_stopping_epochs:\n",
    "        if min_observed_valid_loss < min(valid_hist[-10:]):\n",
    "            print(f\"Validation loss not improved in the last {early_stopping_epochs} epochs, breaking...\")\n",
    "            break\n",
    "\n",
    "y_test_pred = model(x_test)\n",
    "test_loss = criterion(y_test_pred, y_test)\n",
    "last_loss_test = criterion(y_test_pred[:, -1, :], y_test[:, -1, :])\n",
    "print(f\"test loss: {test_loss:.2f}, last day test loss: {last_loss_test:.2f}\")"
   ]
  },
  {
   "cell_type": "code",
   "execution_count": 64,
   "id": "711e6b7e-e58e-42f8-b3e5-d5026e9d8be3",
   "metadata": {},
   "outputs": [],
   "source": [
    "ticker = \"AMZN\""
   ]
  },
  {
   "cell_type": "code",
   "execution_count": 65,
   "id": "03df5558-19ec-4737-ba07-7f12dc2bd807",
   "metadata": {},
   "outputs": [],
   "source": [
    "ticker_ind = np.argwhere(test_data['ticker'] == ticker).squeeze()"
   ]
  },
  {
   "cell_type": "code",
   "execution_count": 66,
   "id": "ba284be7-9f7b-4f06-b0b2-6a3350daba2c",
   "metadata": {},
   "outputs": [],
   "source": [
    "ticker_ypred = y_test_pred.cpu().detach().numpy()[ticker_ind, -1, :]\n",
    "ticker_y = y_test.cpu().detach().numpy()[ticker_ind, -1, :]\n",
    "ticker_dates = test_data['prediction_date'][ticker_ind]"
   ]
  },
  {
   "cell_type": "code",
   "execution_count": 68,
   "id": "513b0b92-949c-44a5-8e56-542787a0eb30",
   "metadata": {},
   "outputs": [
    {
     "data": {
      "text/plain": [
       "[<matplotlib.lines.Line2D at 0x7fb64e70d130>]"
      ]
     },
     "execution_count": 68,
     "metadata": {},
     "output_type": "execute_result"
    },
    {
     "data": {
      "image/png": "[encoded data removed]",
      "text/plain": [
       "<Figure size 720x288 with 1 Axes>"
      ]
     },
     "metadata": {
      "needs_background": "light"
     },
     "output_type": "display_data"
    }
   ],
   "source": [
    "fig, ax = plt.subplots(figsize=(10, 4))\n",
    "ax.plot(pd.to_datetime(ticker_dates), ticker_y)\n",
    "ax.plot(pd.to_datetime(ticker_dates), ticker_ypred, color=\"C2\")"
   ]
  },
  {
   "cell_type": "code",
   "execution_count": 69,
   "id": "976b0ad6-2078-470d-adad-6d16ed87f897",
   "metadata": {},
   "outputs": [
    {
     "data": {
      "text/plain": [
       "tensor(0., device='cuda:1')"
      ]
     },
     "execution_count": 69,
     "metadata": {},
     "output_type": "execute_result"
    }
   ],
   "source": [
    "criterion(y_test[ticker_ind, -1, :], y_test[ticker_ind, -1, :])"
   ]
  },
  {
   "cell_type": "code",
   "execution_count": 63,
   "id": "378b70c4-1482-4782-9ec8-8e595d1af830",
   "metadata": {},
   "outputs": [
    {
     "data": {
      "text/plain": [
       "tensor(0.0255, device='cuda:1', grad_fn=<MeanBackward0>)"
      ]
     },
     "execution_count": 63,
     "metadata": {},
     "output_type": "execute_result"
    }
   ],
   "source": [
    "(\n",
    "    torch.abs(y_test_pred[ticker_ind, -1, :] - y_test[ticker_ind, -1, :]) / y_test[ticker_ind, -1, :]\n",
    ").mean()"
   ]
  },
  {
   "cell_type": "code",
   "execution_count": null,
   "id": "2d8ef01b-eeb8-44a4-99e4-1b2f3ebf29b3",
   "metadata": {},
   "outputs": [],
   "source": []
  }
 ],
 "metadata": {
  "kernelspec": {
   "display_name": "Python 3",
   "language": "python",
   "name": "python3"
  },
  "language_info": {
   "codemirror_mode": {
    "name": "ipython",
    "version": 3
   },
   "file_extension": ".py",
   "mimetype": "text/x-python",
   "name": "python",
   "nbconvert_exporter": "python",
   "pygments_lexer": "ipython3",
   "version": "3.8.8"
  }
 },
 "nbformat": 4,
 "nbformat_minor": 5
}
