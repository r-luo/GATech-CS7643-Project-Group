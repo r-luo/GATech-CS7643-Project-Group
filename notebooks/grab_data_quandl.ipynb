{
 "cells": [
  {
   "cell_type": "code",
   "execution_count": 1,
   "id": "d035f9f2-334d-43bf-848a-044e0d1ddcce",
   "metadata": {},
   "outputs": [],
   "source": [
    "import quandl\n",
    "from pathlib import Path\n",
    "import progressbar\n",
    "import pandas as pd"
   ]
  },
  {
   "cell_type": "code",
   "execution_count": 2,
   "id": "2f19a71b-dd95-4715-a4cf-e27a240aa925",
   "metadata": {},
   "outputs": [],
   "source": [
    "data_path = Path(\".\").absolute().parent.joinpath(\"data\")"
   ]
  },
  {
   "cell_type": "code",
   "execution_count": 4,
   "id": "c0ee2982-544a-49dd-a917-27affd71447a",
   "metadata": {},
   "outputs": [],
   "source": [
    "tickers = \"AAPL,ADBE,ADI,ADP,ADSK,AEP,ALGN,ALXN,AMAT,AMD,AMGN,AMZN,ANSS,ASML,ATVI,AVGO,BIDU,BIIB,BKNG,CDNS,CDW,CERN,CHKP,CHTR,CMCSA,COST,CPRT,CSCO,CSX,CTAS,CTSH,DLTR,DOCU,DXCM,EA,EBAY,EXC,FAST,FB,FISV,FOX,FOXA,GILD,GOOG,GOOGL,IDXX,ILMN,INCY,INTC,INTU,ISRG,JD,KDP,KHC,KLAC,LRCX,LULU,MAR,MCHP,MDLZ,MELI,MNST,MRNA,MRVL,MSFT,MTCH,MU,MXIM,NFLX,NTES,NVDA,NXPI,OKTA,ORLY,PAYX,PCAR,PDD,PEP,PTON,PYPL,QCOM,REGN,ROST,SBUX,SGEN,SIRI,SNPS,SPLK,SWKS,TCOM,TEAM,TMUS,TSLA,TXN,VRSK,VRSN,VRTX,WBA,WDAY,XEL,XLNX,ZM\".split(\",\")"
   ]
  },
  {
   "cell_type": "code",
   "execution_count": 2,
   "id": "89012b7f-3d25-475b-9db5-2b1f74ccfab4",
   "metadata": {},
   "outputs": [],
   "source": [
    "quandl.ApiConfig.api_key = 'YqugyYVjbFGQHHdSsQJ8'"
   ]
  },
  {
   "cell_type": "code",
   "execution_count": 12,
   "id": "fe0e102a-1474-4dcd-875e-8abb03b13928",
   "metadata": {},
   "outputs": [
    {
     "name": "stderr",
     "output_type": "stream",
     "text": [
      "100% (102 of 102) |######################| Elapsed Time: 0:04:42 Time:  0:04:42\n"
     ]
    }
   ],
   "source": [
    "for ticker in progressbar.progressbar(tickers):\n",
    "    eod = quandl.get(f'EOD/{ticker}')\n",
    "    eod.to_csv(data_path.joinpath(f\"{ticker}.csv\"))"
   ]
  },
  {
   "cell_type": "code",
   "execution_count": 7,
   "id": "9a3a3fe3-f822-4dc7-a36c-c7b477d922e7",
   "metadata": {},
   "outputs": [],
   "source": [
    "sharadar_files = list(data_path.joinpath(\"sharadar/full\").glob(\"*.csv\"))"
   ]
  },
  {
   "cell_type": "code",
   "execution_count": 21,
   "id": "95badc08-4ec8-4a43-ad84-5bafc40d1789",
   "metadata": {},
   "outputs": [
    {
     "data": {
      "text/plain": [
       "'daily'"
      ]
     },
     "execution_count": 21,
     "metadata": {},
     "output_type": "execute_result"
    }
   ],
   "source": [
    "sharadar_files[0].name.split(\".\")[0]"
   ]
  },
  {
   "cell_type": "code",
   "execution_count": 9,
   "id": "a5b5c99a-3951-4e73-8b9c-b03f9670904a",
   "metadata": {},
   "outputs": [],
   "source": [
    "sharadar_dfs = {\n",
    "    f.name.split(\".\")[0]: pd.read_csv(f)\n",
    "    for f in sharadar_files\n",
    "}"
   ]
  },
  {
   "cell_type": "code",
   "execution_count": 4,
   "id": "6304d55a-57d6-436f-88de-78459bc997c8",
   "metadata": {},
   "outputs": [],
   "source": [
    "save_path = data_path.joinpath(\"sharadar\")"
   ]
  },
  {
   "cell_type": "code",
   "execution_count": 38,
   "id": "f7fe38f6-7c49-4176-a510-28ad8de3c578",
   "metadata": {},
   "outputs": [],
   "source": [
    "sharadar_dfs['actions'][sharadar_dfs['actions']['ticker'].isin(tickers)].to_csv(save_path.joinpath(\"actions.csv\"))"
   ]
  },
  {
   "cell_type": "code",
   "execution_count": 42,
   "id": "7a75c919-7e8d-4d9b-9944-38a0013f0000",
   "metadata": {},
   "outputs": [],
   "source": [
    "sharadar_dfs['daily'][sharadar_dfs['daily']['ticker'].isin(tickers)].to_csv(save_path.joinpath(\"daily.csv\"))"
   ]
  },
  {
   "cell_type": "code",
   "execution_count": 43,
   "id": "957b18a2-fca1-4952-aa08-f5da9b89d38f",
   "metadata": {},
   "outputs": [],
   "source": [
    "sharadar_dfs['sf1'][sharadar_dfs['sf1']['ticker'].isin(tickers)].to_csv(save_path.joinpath(\"sf1.csv\"))"
   ]
  },
  {
   "cell_type": "code",
   "execution_count": 45,
   "id": "2aa9c015-82b7-4abd-bb60-040837490575",
   "metadata": {},
   "outputs": [],
   "source": [
    "sharadar_dfs['tickers'][sharadar_dfs['tickers']['ticker'].isin(tickers)].to_csv(save_path.joinpath(\"tickers.csv\"))"
   ]
  },
  {
   "cell_type": "code",
   "execution_count": null,
   "id": "c2d8d19c-c8d0-400e-a0ac-11690be70f37",
   "metadata": {},
   "outputs": [],
   "source": []
  },
  {
   "cell_type": "code",
   "execution_count": 5,
   "id": "5297dd3f-3cba-4fd0-a024-d81968a1c08c",
   "metadata": {},
   "outputs": [],
   "source": [
    "sf1 = pd.read_csv(save_path.joinpath(\"sf1.csv\"))"
   ]
  },
  {
   "cell_type": "code",
   "execution_count": 6,
   "id": "144b3e18-4f59-4d4b-b968-7a36314b6afe",
   "metadata": {},
   "outputs": [
    {
     "data": {
      "text/html": [
       "<div>\n",
       "<style scoped>\n",
       "    .dataframe tbody tr th:only-of-type {\n",
       "        vertical-align: middle;\n",
       "    }\n",
       "\n",
       "    .dataframe tbody tr th {\n",
       "        vertical-align: top;\n",
       "    }\n",
       "\n",
       "    .dataframe thead th {\n",
       "        text-align: right;\n",
       "    }\n",
       "</style>\n",
       "<table border=\"1\" class=\"dataframe\">\n",
       "  <thead>\n",
       "    <tr style=\"text-align: right;\">\n",
       "      <th></th>\n",
       "      <th>Unnamed: 0</th>\n",
       "      <th>ticker</th>\n",
       "      <th>dimension</th>\n",
       "      <th>calendardate</th>\n",
       "      <th>datekey</th>\n",
       "      <th>reportperiod</th>\n",
       "      <th>lastupdated</th>\n",
       "      <th>accoci</th>\n",
       "      <th>assets</th>\n",
       "      <th>assetsavg</th>\n",
       "      <th>...</th>\n",
       "      <th>sharesbas</th>\n",
       "      <th>shareswa</th>\n",
       "      <th>shareswadil</th>\n",
       "      <th>sps</th>\n",
       "      <th>tangibles</th>\n",
       "      <th>taxassets</th>\n",
       "      <th>taxexp</th>\n",
       "      <th>taxliabilities</th>\n",
       "      <th>tbvps</th>\n",
       "      <th>workingcapital</th>\n",
       "    </tr>\n",
       "  </thead>\n",
       "  <tbody>\n",
       "    <tr>\n",
       "      <th>0</th>\n",
       "      <td>3880</td>\n",
       "      <td>AAPL</td>\n",
       "      <td>ARQ</td>\n",
       "      <td>1997-09-30</td>\n",
       "      <td>1997-12-05</td>\n",
       "      <td>1997-09-26</td>\n",
       "      <td>2021-01-28</td>\n",
       "      <td>0.0</td>\n",
       "      <td>4.233000e+09</td>\n",
       "      <td>NaN</td>\n",
       "      <td>...</td>\n",
       "      <td>1.433526e+10</td>\n",
       "      <td>1.411894e+10</td>\n",
       "      <td>NaN</td>\n",
       "      <td>NaN</td>\n",
       "      <td>4.233000e+09</td>\n",
       "      <td>259000000.0</td>\n",
       "      <td>NaN</td>\n",
       "      <td>264000000.0</td>\n",
       "      <td>0.300</td>\n",
       "      <td>1.606000e+09</td>\n",
       "    </tr>\n",
       "    <tr>\n",
       "      <th>1</th>\n",
       "      <td>3881</td>\n",
       "      <td>AAPL</td>\n",
       "      <td>ARQ</td>\n",
       "      <td>1997-12-31</td>\n",
       "      <td>1998-02-09</td>\n",
       "      <td>1997-12-26</td>\n",
       "      <td>2021-01-28</td>\n",
       "      <td>0.0</td>\n",
       "      <td>4.126000e+09</td>\n",
       "      <td>NaN</td>\n",
       "      <td>...</td>\n",
       "      <td>1.487002e+10</td>\n",
       "      <td>1.433477e+10</td>\n",
       "      <td>1.566197e+10</td>\n",
       "      <td>0.110</td>\n",
       "      <td>4.126000e+09</td>\n",
       "      <td>233000000.0</td>\n",
       "      <td>0.0</td>\n",
       "      <td>261000000.0</td>\n",
       "      <td>0.288</td>\n",
       "      <td>1.704000e+09</td>\n",
       "    </tr>\n",
       "    <tr>\n",
       "      <th>2</th>\n",
       "      <td>3882</td>\n",
       "      <td>AAPL</td>\n",
       "      <td>ARQ</td>\n",
       "      <td>1998-03-31</td>\n",
       "      <td>1998-05-11</td>\n",
       "      <td>1998-03-27</td>\n",
       "      <td>2021-01-28</td>\n",
       "      <td>0.0</td>\n",
       "      <td>3.963000e+09</td>\n",
       "      <td>NaN</td>\n",
       "      <td>...</td>\n",
       "      <td>1.490054e+10</td>\n",
       "      <td>1.478053e+10</td>\n",
       "      <td>1.634248e+10</td>\n",
       "      <td>0.095</td>\n",
       "      <td>3.963000e+09</td>\n",
       "      <td>201000000.0</td>\n",
       "      <td>4000000.0</td>\n",
       "      <td>238000000.0</td>\n",
       "      <td>0.268</td>\n",
       "      <td>1.829000e+09</td>\n",
       "    </tr>\n",
       "    <tr>\n",
       "      <th>3</th>\n",
       "      <td>3883</td>\n",
       "      <td>AAPL</td>\n",
       "      <td>ARQ</td>\n",
       "      <td>1998-06-30</td>\n",
       "      <td>1998-08-10</td>\n",
       "      <td>1998-06-26</td>\n",
       "      <td>2021-01-28</td>\n",
       "      <td>0.0</td>\n",
       "      <td>4.041000e+09</td>\n",
       "      <td>NaN</td>\n",
       "      <td>...</td>\n",
       "      <td>1.507961e+10</td>\n",
       "      <td>1.490362e+10</td>\n",
       "      <td>1.924003e+10</td>\n",
       "      <td>0.094</td>\n",
       "      <td>4.041000e+09</td>\n",
       "      <td>192000000.0</td>\n",
       "      <td>8000000.0</td>\n",
       "      <td>213000000.0</td>\n",
       "      <td>0.271</td>\n",
       "      <td>1.986000e+09</td>\n",
       "    </tr>\n",
       "    <tr>\n",
       "      <th>4</th>\n",
       "      <td>3884</td>\n",
       "      <td>AAPL</td>\n",
       "      <td>ARQ</td>\n",
       "      <td>1998-09-30</td>\n",
       "      <td>1998-12-23</td>\n",
       "      <td>1998-09-25</td>\n",
       "      <td>2021-01-28</td>\n",
       "      <td>0.0</td>\n",
       "      <td>4.289000e+09</td>\n",
       "      <td>NaN</td>\n",
       "      <td>...</td>\n",
       "      <td>1.515582e+10</td>\n",
       "      <td>1.511810e+10</td>\n",
       "      <td>1.880670e+10</td>\n",
       "      <td>0.103</td>\n",
       "      <td>4.289000e+09</td>\n",
       "      <td>182000000.0</td>\n",
       "      <td>8000000.0</td>\n",
       "      <td>173000000.0</td>\n",
       "      <td>0.284</td>\n",
       "      <td>2.178000e+09</td>\n",
       "    </tr>\n",
       "  </tbody>\n",
       "</table>\n",
       "<p>5 rows × 112 columns</p>\n",
       "</div>"
      ],
      "text/plain": [
       "   Unnamed: 0 ticker dimension calendardate     datekey reportperiod  \\\n",
       "0        3880   AAPL       ARQ   1997-09-30  1997-12-05   1997-09-26   \n",
       "1        3881   AAPL       ARQ   1997-12-31  1998-02-09   1997-12-26   \n",
       "2        3882   AAPL       ARQ   1998-03-31  1998-05-11   1998-03-27   \n",
       "3        3883   AAPL       ARQ   1998-06-30  1998-08-10   1998-06-26   \n",
       "4        3884   AAPL       ARQ   1998-09-30  1998-12-23   1998-09-25   \n",
       "\n",
       "  lastupdated  accoci        assets  assetsavg  ...     sharesbas  \\\n",
       "0  2021-01-28     0.0  4.233000e+09        NaN  ...  1.433526e+10   \n",
       "1  2021-01-28     0.0  4.126000e+09        NaN  ...  1.487002e+10   \n",
       "2  2021-01-28     0.0  3.963000e+09        NaN  ...  1.490054e+10   \n",
       "3  2021-01-28     0.0  4.041000e+09        NaN  ...  1.507961e+10   \n",
       "4  2021-01-28     0.0  4.289000e+09        NaN  ...  1.515582e+10   \n",
       "\n",
       "       shareswa   shareswadil    sps     tangibles    taxassets     taxexp  \\\n",
       "0  1.411894e+10           NaN    NaN  4.233000e+09  259000000.0        NaN   \n",
       "1  1.433477e+10  1.566197e+10  0.110  4.126000e+09  233000000.0        0.0   \n",
       "2  1.478053e+10  1.634248e+10  0.095  3.963000e+09  201000000.0  4000000.0   \n",
       "3  1.490362e+10  1.924003e+10  0.094  4.041000e+09  192000000.0  8000000.0   \n",
       "4  1.511810e+10  1.880670e+10  0.103  4.289000e+09  182000000.0  8000000.0   \n",
       "\n",
       "   taxliabilities  tbvps  workingcapital  \n",
       "0     264000000.0  0.300    1.606000e+09  \n",
       "1     261000000.0  0.288    1.704000e+09  \n",
       "2     238000000.0  0.268    1.829000e+09  \n",
       "3     213000000.0  0.271    1.986000e+09  \n",
       "4     173000000.0  0.284    2.178000e+09  \n",
       "\n",
       "[5 rows x 112 columns]"
      ]
     },
     "execution_count": 6,
     "metadata": {},
     "output_type": "execute_result"
    }
   ],
   "source": [
    "sf1.head()"
   ]
  },
  {
   "cell_type": "code",
   "execution_count": 8,
   "id": "555dc1d4-e752-4fcc-90a0-7bfe3ff3e82d",
   "metadata": {},
   "outputs": [
    {
     "data": {
      "text/plain": [
       "[PosixPath('/home/rluo/raid/classes/gatech/cs7643/GATech-CS7643-Project-Group/data/sharadar/full/actions.csv'),\n",
       " PosixPath('/home/rluo/raid/classes/gatech/cs7643/GATech-CS7643-Project-Group/data/sharadar/full/indicators.csv'),\n",
       " PosixPath('/home/rluo/raid/classes/gatech/cs7643/GATech-CS7643-Project-Group/data/sharadar/full/tickers.csv'),\n",
       " PosixPath('/home/rluo/raid/classes/gatech/cs7643/GATech-CS7643-Project-Group/data/sharadar/full/sp500.csv'),\n",
       " PosixPath('/home/rluo/raid/classes/gatech/cs7643/GATech-CS7643-Project-Group/data/sharadar/full/daily.csv'),\n",
       " PosixPath('/home/rluo/raid/classes/gatech/cs7643/GATech-CS7643-Project-Group/data/sharadar/full/sf1.csv')]"
      ]
     },
     "execution_count": 8,
     "metadata": {},
     "output_type": "execute_result"
    }
   ],
   "source": [
    "sharadar_files"
   ]
  },
  {
   "cell_type": "code",
   "execution_count": 12,
   "id": "0bbdd557-483a-4412-84fb-4a1a856ec204",
   "metadata": {},
   "outputs": [
    {
     "data": {
      "text/plain": [
       "array('[Entity] The dimension field allows you to take different dimensional views of data over time. ARQ: Quarterly; excluding restatements; MRQ: Quarterly; including restatements; ARY: annual; excluding restatements; MRY: annual; including restatements; ART: trailing-twelve-months; excluding restatements; MRT: trailing-twelve-months; including restatements.',\n",
       "      dtype=object)"
      ]
     },
     "execution_count": 12,
     "metadata": {},
     "output_type": "execute_result"
    }
   ],
   "source": [
    "sharadar_dfs['indicators'][sharadar_dfs['indicators']['indicator'] == \"dimension\"]['description'].values.squeeze()"
   ]
  },
  {
   "cell_type": "code",
   "execution_count": null,
   "id": "4c007385-7e83-4c5f-bb24-96ee15582248",
   "metadata": {},
   "outputs": [],
   "source": []
  },
  {
   "cell_type": "code",
   "execution_count": null,
   "id": "3db0ce1d-1bfa-447c-af92-6f5b9575e279",
   "metadata": {},
   "outputs": [],
   "source": []
  }
 ],
 "metadata": {
  "kernelspec": {
   "display_name": "Python 3",
   "language": "python",
   "name": "python3"
  },
  "language_info": {
   "codemirror_mode": {
    "name": "ipython",
    "version": 3
   },
   "file_extension": ".py",
   "mimetype": "text/x-python",
   "name": "python",
   "nbconvert_exporter": "python",
   "pygments_lexer": "ipython3",
   "version": "3.8.8"
  }
 },
 "nbformat": 4,
 "nbformat_minor": 5
}
