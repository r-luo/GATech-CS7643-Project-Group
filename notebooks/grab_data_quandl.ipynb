{
 "cells": [
  {
   "cell_type": "code",
   "execution_count": 11,
   "id": "d035f9f2-334d-43bf-848a-044e0d1ddcce",
   "metadata": {},
   "outputs": [],
   "source": [
    "import quandl\n",
    "from pathlib import Path\n",
    "import progressbar"
   ]
  },
  {
   "cell_type": "code",
   "execution_count": 9,
   "id": "2f19a71b-dd95-4715-a4cf-e27a240aa925",
   "metadata": {},
   "outputs": [
    {
     "data": {
      "text/plain": [
       "PosixPath('/home/rluo/raid/classes/gatech/cs7643/GATech-CS7643-Project-Group/data')"
      ]
     },
     "execution_count": 9,
     "metadata": {},
     "output_type": "execute_result"
    }
   ],
   "source": [
    "Path(\".\").absolute().parent.joinpath(\"data\")"
   ]
  },
  {
   "cell_type": "code",
   "execution_count": 4,
   "id": "c0ee2982-544a-49dd-a917-27affd71447a",
   "metadata": {},
   "outputs": [],
   "source": [
    "tickers = \"AAPL,ADBE,ADI,ADP,ADSK,AEP,ALGN,ALXN,AMAT,AMD,AMGN,AMZN,ANSS,ASML,ATVI,AVGO,BIDU,BIIB,BKNG,CDNS,CDW,CERN,CHKP,CHTR,CMCSA,COST,CPRT,CSCO,CSX,CTAS,CTSH,DLTR,DOCU,DXCM,EA,EBAY,EXC,FAST,FB,FISV,FOX,FOXA,GILD,GOOG,GOOGL,IDXX,ILMN,INCY,INTC,INTU,ISRG,JD,KDP,KHC,KLAC,LRCX,LULU,MAR,MCHP,MDLZ,MELI,MNST,MRNA,MRVL,MSFT,MTCH,MU,MXIM,NFLX,NTES,NVDA,NXPI,OKTA,ORLY,PAYX,PCAR,PDD,PEP,PTON,PYPL,QCOM,REGN,ROST,SBUX,SGEN,SIRI,SNPS,SPLK,SWKS,TCOM,TEAM,TMUS,TSLA,TXN,VRSK,VRSN,VRTX,WBA,WDAY,XEL,XLNX,ZM\".split(\",\")"
   ]
  },
  {
   "cell_type": "code",
   "execution_count": 2,
   "id": "89012b7f-3d25-475b-9db5-2b1f74ccfab4",
   "metadata": {},
   "outputs": [],
   "source": [
    "quandl.ApiConfig.api_key = 'YqugyYVjbFGQHHdSsQJ8'"
   ]
  },
  {
   "cell_type": "code",
   "execution_count": null,
   "id": "fe0e102a-1474-4dcd-875e-8abb03b13928",
   "metadata": {},
   "outputs": [
    {
     "name": "stderr",
     "output_type": "stream",
     "text": [
      "  9% (10 of 102) |##                     | Elapsed Time: 0:00:39 ETA:   0:06:02"
     ]
    }
   ],
   "source": [
    "for ticker in progressbar.progressbar(tickers):\n",
    "    eod = quandl.get(f'EOD/{ticker}')\n",
    "    eod.to_csv(Path(\".\").absolute().parent.joinpath(\"data\").joinpath(f\"{ticker}.csv\"))"
   ]
  },
  {
   "cell_type": "code",
   "execution_count": null,
   "id": "9afacd52-f58f-4c5c-af16-323ea8548259",
   "metadata": {},
   "outputs": [],
   "source": []
  }
 ],
 "metadata": {
  "kernelspec": {
   "display_name": "Python 3",
   "language": "python",
   "name": "python3"
  },
  "language_info": {
   "codemirror_mode": {
    "name": "ipython",
    "version": 3
   },
   "file_extension": ".py",
   "mimetype": "text/x-python",
   "name": "python",
   "nbconvert_exporter": "python",
   "pygments_lexer": "ipython3",
   "version": "3.8.8"
  }
 },
 "nbformat": 4,
 "nbformat_minor": 5
}
