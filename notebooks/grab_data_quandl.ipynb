{
 "cells": [
  {
   "cell_type": "code",
   "execution_count": 23,
   "id": "d035f9f2-334d-43bf-848a-044e0d1ddcce",
   "metadata": {},
   "outputs": [],
   "source": [
    "import quandl\n",
    "from pathlib import Path\n",
    "import progressbar\n",
    "import pandas as pd"
   ]
  },
  {
   "cell_type": "code",
   "execution_count": 13,
   "id": "2f19a71b-dd95-4715-a4cf-e27a240aa925",
   "metadata": {},
   "outputs": [],
   "source": [
    "data_path = Path(\".\").absolute().parent.joinpath(\"data\")"
   ]
  },
  {
   "cell_type": "code",
   "execution_count": 4,
   "id": "c0ee2982-544a-49dd-a917-27affd71447a",
   "metadata": {},
   "outputs": [],
   "source": [
    "tickers = \"AAPL,ADBE,ADI,ADP,ADSK,AEP,ALGN,ALXN,AMAT,AMD,AMGN,AMZN,ANSS,ASML,ATVI,AVGO,BIDU,BIIB,BKNG,CDNS,CDW,CERN,CHKP,CHTR,CMCSA,COST,CPRT,CSCO,CSX,CTAS,CTSH,DLTR,DOCU,DXCM,EA,EBAY,EXC,FAST,FB,FISV,FOX,FOXA,GILD,GOOG,GOOGL,IDXX,ILMN,INCY,INTC,INTU,ISRG,JD,KDP,KHC,KLAC,LRCX,LULU,MAR,MCHP,MDLZ,MELI,MNST,MRNA,MRVL,MSFT,MTCH,MU,MXIM,NFLX,NTES,NVDA,NXPI,OKTA,ORLY,PAYX,PCAR,PDD,PEP,PTON,PYPL,QCOM,REGN,ROST,SBUX,SGEN,SIRI,SNPS,SPLK,SWKS,TCOM,TEAM,TMUS,TSLA,TXN,VRSK,VRSN,VRTX,WBA,WDAY,XEL,XLNX,ZM\".split(\",\")"
   ]
  },
  {
   "cell_type": "code",
   "execution_count": 2,
   "id": "89012b7f-3d25-475b-9db5-2b1f74ccfab4",
   "metadata": {},
   "outputs": [],
   "source": [
    "quandl.ApiConfig.api_key = 'YqugyYVjbFGQHHdSsQJ8'"
   ]
  },
  {
   "cell_type": "code",
   "execution_count": 12,
   "id": "fe0e102a-1474-4dcd-875e-8abb03b13928",
   "metadata": {},
   "outputs": [
    {
     "name": "stderr",
     "output_type": "stream",
     "text": [
      "100% (102 of 102) |######################| Elapsed Time: 0:04:42 Time:  0:04:42\n"
     ]
    }
   ],
   "source": [
    "for ticker in progressbar.progressbar(tickers):\n",
    "    eod = quandl.get(f'EOD/{ticker}')\n",
    "    eod.to_csv(data_path.joinpath(f\"{ticker}.csv\"))"
   ]
  },
  {
   "cell_type": "code",
   "execution_count": 16,
   "id": "9a3a3fe3-f822-4dc7-a36c-c7b477d922e7",
   "metadata": {},
   "outputs": [],
   "source": [
    "sharadar_files = list(data_path.joinpath(\"sharadar/full\").glob(\"*.csv\"))"
   ]
  },
  {
   "cell_type": "code",
   "execution_count": 21,
   "id": "95badc08-4ec8-4a43-ad84-5bafc40d1789",
   "metadata": {},
   "outputs": [
    {
     "data": {
      "text/plain": [
       "'daily'"
      ]
     },
     "execution_count": 21,
     "metadata": {},
     "output_type": "execute_result"
    }
   ],
   "source": [
    "sharadar_files[0].name.split(\".\")[0]"
   ]
  },
  {
   "cell_type": "code",
   "execution_count": 24,
   "id": "a5b5c99a-3951-4e73-8b9c-b03f9670904a",
   "metadata": {},
   "outputs": [],
   "source": [
    "sharadar_dfs = {\n",
    "    f.name.split(\".\")[0]: pd.read_csv(f)\n",
    "    for f in sharadar_files\n",
    "}"
   ]
  },
  {
   "cell_type": "code",
   "execution_count": 37,
   "id": "6304d55a-57d6-436f-88de-78459bc997c8",
   "metadata": {},
   "outputs": [],
   "source": [
    "save_path = data_path.joinpath(\"sharadar\")"
   ]
  },
  {
   "cell_type": "code",
   "execution_count": 38,
   "id": "f7fe38f6-7c49-4176-a510-28ad8de3c578",
   "metadata": {},
   "outputs": [],
   "source": [
    "sharadar_dfs['actions'][sharadar_dfs['actions']['ticker'].isin(tickers)].to_csv(save_path.joinpath(\"actions.csv\"))"
   ]
  },
  {
   "cell_type": "code",
   "execution_count": 42,
   "id": "7a75c919-7e8d-4d9b-9944-38a0013f0000",
   "metadata": {},
   "outputs": [],
   "source": [
    "sharadar_dfs['daily'][sharadar_dfs['daily']['ticker'].isin(tickers)].to_csv(save_path.joinpath(\"daily.csv\"))"
   ]
  },
  {
   "cell_type": "code",
   "execution_count": 43,
   "id": "957b18a2-fca1-4952-aa08-f5da9b89d38f",
   "metadata": {},
   "outputs": [],
   "source": [
    "sharadar_dfs['sf1'][sharadar_dfs['sf1']['ticker'].isin(tickers)].to_csv(save_path.joinpath(\"sf1.csv\"))"
   ]
  },
  {
   "cell_type": "code",
   "execution_count": 45,
   "id": "2aa9c015-82b7-4abd-bb60-040837490575",
   "metadata": {},
   "outputs": [],
   "source": [
    "sharadar_dfs['tickers'][sharadar_dfs['tickers']['ticker'].isin(tickers)].to_csv(save_path.joinpath(\"tickers.csv\"))"
   ]
  },
  {
   "cell_type": "code",
   "execution_count": null,
   "id": "afb7ea77-28b6-43ca-bfe9-45ea9fa4685b",
   "metadata": {},
   "outputs": [],
   "source": []
  }
 ],
 "metadata": {
  "kernelspec": {
   "display_name": "Python 3",
   "language": "python",
   "name": "python3"
  },
  "language_info": {
   "codemirror_mode": {
    "name": "ipython",
    "version": 3
   },
   "file_extension": ".py",
   "mimetype": "text/x-python",
   "name": "python",
   "nbconvert_exporter": "python",
   "pygments_lexer": "ipython3",
   "version": "3.8.8"
  }
 },
 "nbformat": 4,
 "nbformat_minor": 5
}
