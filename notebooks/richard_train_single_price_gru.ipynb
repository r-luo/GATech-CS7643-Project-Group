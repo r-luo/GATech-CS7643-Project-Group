{
 "cells": [
  {
   "cell_type": "code",
   "execution_count": 1,
   "id": "619802ef-8335-4789-b02c-7740569430b8",
   "metadata": {},
   "outputs": [
    {
     "name": "stdout",
     "output_type": "stream",
     "text": [
      "Cuda available: True\n"
     ]
    }
   ],
   "source": [
    "%run _common.ipynb"
   ]
  },
  {
   "cell_type": "code",
   "execution_count": 2,
   "id": "459f259a-334e-426f-bf39-a844be16b95d",
   "metadata": {},
   "outputs": [],
   "source": [
    "from src import model_data as md\n",
    "from matplotlib import pylab as plt\n",
    "import pandas as pd"
   ]
  },
  {
   "cell_type": "code",
   "execution_count": 3,
   "id": "58ef9b59-f331-49d4-8b59-6c5fb03e9f01",
   "metadata": {},
   "outputs": [],
   "source": [
    "pipeline = md.MultiTickerPipeline(\n",
    "    target=\"price\",\n",
    "    target_type=\"single\",\n",
    "    model_seq_len=30,\n",
    "    max_overlap=20,\n",
    "    train_periods=[\n",
    "        (\"2012-01-01\", \"2019-12-31\"),\n",
    "    ],\n",
    "    test_periods=[\n",
    "        (\"2020-01-01\", \"2021-04-01\"),\n",
    "    ],\n",
    "    normalization_method=\"log\",\n",
    "    cross_validation_folds=5\n",
    ")"
   ]
  },
  {
   "cell_type": "raw",
   "id": "082d6219-f242-4407-89e4-27fbc5506e33",
   "metadata": {
    "tags": []
   },
   "source": [
    "pipeline.prepare_data([\"_all_\"])"
   ]
  },
  {
   "cell_type": "code",
   "execution_count": 4,
   "id": "8df57c8f-f3df-4890-906f-ee43de77db26",
   "metadata": {},
   "outputs": [
    {
     "name": "stderr",
     "output_type": "stream",
     "text": [
      "INFO:src.model_data:Loading generated data from /home/rluo/raid/classes/gatech/cs7643/GATech-CS7643-Project-Group/data/model_data/price-single-96tickers...\n",
      "INFO:src.model_data:  Loading train folds...\n",
      "INFO:src.model_data:  Loading test arrays...\n"
     ]
    }
   ],
   "source": [
    "pipeline.load_data('price-single-96tickers')"
   ]
  },
  {
   "cell_type": "code",
   "execution_count": 5,
   "id": "eed1a257-5979-48e1-a8ec-accce8c71339",
   "metadata": {},
   "outputs": [],
   "source": [
    "train_data = pipeline._train_out\n",
    "test_data = pipeline._test_out"
   ]
  },
  {
   "cell_type": "code",
   "execution_count": 6,
   "id": "d1f9d19b-c180-4c7f-af17-54f4c45c68fb",
   "metadata": {},
   "outputs": [],
   "source": [
    "fold5 = train_data[4]\n",
    "train = fold5['train']\n",
    "valid = fold5['valid']"
   ]
  },
  {
   "cell_type": "code",
   "execution_count": 7,
   "id": "91eb7948-3393-4c1f-b7f4-a620f8c6f6cf",
   "metadata": {},
   "outputs": [],
   "source": [
    "device = \"cuda:2\""
   ]
  },
  {
   "cell_type": "code",
   "execution_count": 8,
   "id": "4dc3a5fb-7e34-43aa-8340-2a1588d68cb5",
   "metadata": {},
   "outputs": [],
   "source": [
    "# x_train, y_train = torch.from_numpy(train['x']).to(device), torch.from_numpy(train['y']).to(device)\n",
    "x_valid, y_valid = torch.from_numpy(valid['x'].astype(\"float32\")).to(device), torch.from_numpy(valid['y'].astype(\"float32\")).to(device)\n",
    "x_test, y_test = torch.from_numpy(test_data['x'].astype(\"float32\")).to(device), torch.from_numpy(test_data['y'].astype(\"float32\")).to(device)"
   ]
  },
  {
   "cell_type": "code",
   "execution_count": 9,
   "id": "3c31da20-39e8-4f8d-aeb6-23c01ecf5dd4",
   "metadata": {},
   "outputs": [],
   "source": [
    "class SeqDataset(torch.utils.data.Dataset):\n",
    "    def __init__(self, datadict):\n",
    "        self.x = datadict['x'].astype(\"float32\")\n",
    "        self.y = datadict['y'].astype(\"float32\")\n",
    "        \n",
    "    def __len__(self):\n",
    "        return self.x.shape[0]\n",
    "\n",
    "    def __getitem__(self, index):\n",
    "        return self.x[index], self.y[index]"
   ]
  },
  {
   "cell_type": "code",
   "execution_count": 10,
   "id": "a4cc02a7-0291-408a-a470-0add20447e99",
   "metadata": {},
   "outputs": [],
   "source": [
    "class SeqModel(nn.Module):\n",
    "    def __init__(self, input_dim, hidden_dim, num_layers, output_dim):\n",
    "        super().__init__()\n",
    "        self.hidden_dim = hidden_dim\n",
    "        self.num_layers = num_layers\n",
    "        #\n",
    "        self.lstm = nn.GRU(input_dim, hidden_dim, num_layers, batch_first=True)\n",
    "        self.fc = nn.Linear(hidden_dim, output_dim)\n",
    "\n",
    "    def forward(self, x):\n",
    "        h0 = torch.zeros(self.num_layers, x.size(0), self.hidden_dim).requires_grad_().to(device)\n",
    "        out, (hn) = self.lstm(x, (h0.detach()))\n",
    "        out = self.fc(out[:, -1, :])\n",
    "        return out\n"
   ]
  },
  {
   "cell_type": "code",
   "execution_count": 11,
   "id": "dcc31b71-2b73-4e2f-ba58-59a653767009",
   "metadata": {},
   "outputs": [],
   "source": [
    "input_dim = x_valid.shape[2]\n",
    "output_dim = y_valid.shape[1]"
   ]
  },
  {
   "cell_type": "code",
   "execution_count": 12,
   "id": "fc718aa3-6b21-4e12-95bc-bae3ce5cc70a",
   "metadata": {},
   "outputs": [],
   "source": [
    "hidden_dim = 128\n",
    "num_layers = 2\n",
    "num_epochs = 400\n",
    "learning_rate = 0.001"
   ]
  },
  {
   "cell_type": "code",
   "execution_count": 13,
   "id": "e62ac5bc-1eb7-4132-b905-330b8c683e78",
   "metadata": {},
   "outputs": [],
   "source": [
    "data_loader_params = {\n",
    "    \"batch_size\": 64,\n",
    "    \"shuffle\": True,\n",
    "    \"num_workers\": 10\n",
    "}"
   ]
  },
  {
   "cell_type": "code",
   "execution_count": 14,
   "id": "3f39817e-a0c2-4ddc-aed8-c4b644d7e692",
   "metadata": {},
   "outputs": [],
   "source": [
    "train_set = SeqDataset(train)"
   ]
  },
  {
   "cell_type": "code",
   "execution_count": 15,
   "id": "fa2298b6-9dd5-4890-b823-08b1b828c8cb",
   "metadata": {},
   "outputs": [],
   "source": [
    "train_loader = torch.utils.data.DataLoader(train_set, **data_loader_params)"
   ]
  },
  {
   "cell_type": "code",
   "execution_count": 16,
   "id": "c6331ec1-f64d-4df1-94bb-bb1d23c2c58d",
   "metadata": {},
   "outputs": [],
   "source": [
    "model = SeqModel(input_dim, hidden_dim, num_layers, output_dim).to(device)"
   ]
  },
  {
   "cell_type": "code",
   "execution_count": 17,
   "id": "ab7b0804-330f-424f-b2ce-aa1ecfbf121f",
   "metadata": {},
   "outputs": [],
   "source": [
    "optimizer = torch.optim.Adam(model.parameters(), lr=learning_rate)"
   ]
  },
  {
   "cell_type": "code",
   "execution_count": 18,
   "id": "c89a046d-ca12-4619-9661-1950d70128b5",
   "metadata": {},
   "outputs": [],
   "source": [
    "criterion = nn.L1Loss(reduction='mean')"
   ]
  },
  {
   "cell_type": "code",
   "execution_count": 19,
   "id": "69da9fc0-d6f1-43a8-a611-47a31b0cd5ef",
   "metadata": {},
   "outputs": [],
   "source": [
    "num_epochs = 400\n",
    "early_stopping_epochs = 10"
   ]
  },
  {
   "cell_type": "code",
   "execution_count": 20,
   "id": "01922543-2e2d-4afb-97c8-62cf0d0c0052",
   "metadata": {
    "scrolled": true,
    "tags": []
   },
   "outputs": [
    {
     "name": "stdout",
     "output_type": "stream",
     "text": [
      "Epoch 0, train loss: 80.01, validation loss: 144.41\n",
      "Epoch 1, train loss: 64.54, validation loss: 126.50\n",
      "Epoch 2, train loss: 52.35, validation loss: 113.25\n",
      "Epoch 3, train loss: 46.61, validation loss: 104.73\n",
      "Epoch 4, train loss: 42.84, validation loss: 98.28\n",
      "Epoch 5, train loss: 40.12, validation loss: 93.18\n",
      "Epoch 6, train loss: 38.01, validation loss: 88.60\n",
      "Epoch 7, train loss: 36.73, validation loss: 84.66\n",
      "Epoch 8, train loss: 34.90, validation loss: 81.73\n",
      "Epoch 9, train loss: 33.25, validation loss: 78.54\n",
      "Epoch 10, train loss: 32.47, validation loss: 75.86\n",
      "Epoch 11, train loss: 31.19, validation loss: 73.48\n",
      "Epoch 12, train loss: 30.19, validation loss: 71.26\n",
      "Epoch 13, train loss: 29.46, validation loss: 69.46\n",
      "Epoch 14, train loss: 28.82, validation loss: 67.83\n",
      "Epoch 15, train loss: 28.30, validation loss: 67.02\n",
      "Epoch 16, train loss: 27.68, validation loss: 65.18\n",
      "Epoch 17, train loss: 27.13, validation loss: 63.77\n",
      "Epoch 18, train loss: 26.52, validation loss: 62.50\n",
      "Epoch 19, train loss: 26.05, validation loss: 61.52\n",
      "Epoch 20, train loss: 25.58, validation loss: 60.32\n",
      "Epoch 21, train loss: 25.13, validation loss: 59.27\n",
      "Epoch 22, train loss: 24.81, validation loss: 58.43\n",
      "Epoch 23, train loss: 24.28, validation loss: 57.55\n",
      "Epoch 24, train loss: 24.29, validation loss: 56.65\n",
      "Epoch 25, train loss: 23.75, validation loss: 55.77\n",
      "Epoch 26, train loss: 23.26, validation loss: 55.39\n",
      "Epoch 27, train loss: 23.12, validation loss: 55.25\n",
      "Epoch 28, train loss: 22.77, validation loss: 53.74\n",
      "Epoch 29, train loss: 22.38, validation loss: 53.33\n",
      "Epoch 30, train loss: 22.47, validation loss: 53.01\n",
      "Epoch 31, train loss: 22.22, validation loss: 52.32\n",
      "Epoch 32, train loss: 22.18, validation loss: 52.04\n",
      "Epoch 33, train loss: 21.57, validation loss: 51.27\n",
      "Epoch 34, train loss: 21.37, validation loss: 51.19\n",
      "Epoch 35, train loss: 21.23, validation loss: 50.64\n",
      "Epoch 36, train loss: 20.91, validation loss: 50.62\n",
      "Epoch 37, train loss: 20.74, validation loss: 50.62\n",
      "Epoch 38, train loss: 20.89, validation loss: 49.47\n",
      "Epoch 39, train loss: 20.43, validation loss: 48.92\n",
      "Epoch 40, train loss: 20.26, validation loss: 48.66\n",
      "Epoch 41, train loss: 20.09, validation loss: 48.31\n",
      "Epoch 42, train loss: 20.18, validation loss: 48.00\n",
      "Epoch 43, train loss: 19.99, validation loss: 48.10\n",
      "Epoch 44, train loss: 19.59, validation loss: 47.69\n",
      "Epoch 45, train loss: 19.68, validation loss: 47.11\n",
      "Epoch 46, train loss: 19.37, validation loss: 46.77\n",
      "Epoch 47, train loss: 19.50, validation loss: 46.76\n",
      "Epoch 48, train loss: 19.22, validation loss: 46.74\n",
      "Epoch 49, train loss: 19.09, validation loss: 46.08\n",
      "Epoch 50, train loss: 19.22, validation loss: 46.41\n",
      "Epoch 51, train loss: 18.66, validation loss: 45.75\n",
      "Epoch 52, train loss: 18.78, validation loss: 46.03\n",
      "Epoch 53, train loss: 18.66, validation loss: 45.55\n",
      "Epoch 54, train loss: 18.59, validation loss: 46.12\n",
      "Epoch 55, train loss: 18.31, validation loss: 45.72\n",
      "Epoch 56, train loss: 18.27, validation loss: 45.42\n",
      "Epoch 57, train loss: 18.18, validation loss: 44.58\n",
      "Epoch 58, train loss: 18.05, validation loss: 44.62\n",
      "Epoch 59, train loss: 17.89, validation loss: 44.74\n",
      "Epoch 60, train loss: 17.80, validation loss: 44.08\n",
      "Epoch 61, train loss: 17.70, validation loss: 44.19\n",
      "Epoch 62, train loss: 17.65, validation loss: 44.86\n",
      "Epoch 63, train loss: 17.50, validation loss: 43.53\n",
      "Epoch 64, train loss: 17.41, validation loss: 43.57\n",
      "Epoch 65, train loss: 17.29, validation loss: 43.40\n",
      "Epoch 66, train loss: 17.64, validation loss: 42.89\n",
      "Epoch 67, train loss: 17.16, validation loss: 44.06\n",
      "Epoch 68, train loss: 17.16, validation loss: 44.05\n",
      "Epoch 69, train loss: 17.06, validation loss: 43.45\n",
      "Epoch 70, train loss: 17.27, validation loss: 42.73\n",
      "Epoch 71, train loss: 16.86, validation loss: 42.88\n",
      "Epoch 72, train loss: 16.80, validation loss: 42.15\n",
      "Epoch 73, train loss: 16.69, validation loss: 42.19\n",
      "Epoch 74, train loss: 16.88, validation loss: 42.14\n",
      "Epoch 75, train loss: 16.69, validation loss: 42.29\n",
      "Epoch 76, train loss: 16.31, validation loss: 42.17\n",
      "Epoch 77, train loss: 16.35, validation loss: 41.44\n",
      "Epoch 78, train loss: 16.32, validation loss: 41.21\n",
      "Epoch 79, train loss: 16.01, validation loss: 41.11\n",
      "Epoch 80, train loss: 16.04, validation loss: 41.05\n",
      "Epoch 81, train loss: 15.95, validation loss: 40.97\n",
      "Epoch 82, train loss: 15.79, validation loss: 40.56\n",
      "Epoch 83, train loss: 16.19, validation loss: 41.47\n",
      "Epoch 84, train loss: 15.71, validation loss: 40.84\n",
      "Epoch 85, train loss: 15.66, validation loss: 40.17\n",
      "Epoch 86, train loss: 15.54, validation loss: 39.98\n",
      "Epoch 87, train loss: 15.49, validation loss: 40.75\n",
      "Epoch 88, train loss: 15.29, validation loss: 39.95\n",
      "Epoch 89, train loss: 15.50, validation loss: 39.41\n",
      "Epoch 90, train loss: 15.25, validation loss: 39.32\n",
      "Epoch 91, train loss: 15.24, validation loss: 40.16\n",
      "Epoch 92, train loss: 15.09, validation loss: 39.08\n",
      "Epoch 93, train loss: 15.00, validation loss: 40.15\n",
      "Epoch 94, train loss: 15.09, validation loss: 39.28\n",
      "Epoch 95, train loss: 15.01, validation loss: 38.83\n",
      "Epoch 96, train loss: 15.11, validation loss: 39.36\n",
      "Epoch 97, train loss: 14.89, validation loss: 38.41\n",
      "Epoch 98, train loss: 14.62, validation loss: 38.62\n",
      "Epoch 99, train loss: 14.75, validation loss: 38.99\n",
      "Epoch 100, train loss: 14.77, validation loss: 39.17\n",
      "Epoch 101, train loss: 14.51, validation loss: 38.48\n",
      "Epoch 102, train loss: 14.42, validation loss: 38.05\n",
      "Epoch 103, train loss: 14.29, validation loss: 38.65\n",
      "Epoch 104, train loss: 14.14, validation loss: 38.32\n",
      "Epoch 105, train loss: 14.15, validation loss: 38.86\n",
      "Epoch 106, train loss: 14.62, validation loss: 37.77\n",
      "Epoch 107, train loss: 13.95, validation loss: 37.53\n",
      "Epoch 108, train loss: 14.03, validation loss: 37.56\n",
      "Epoch 109, train loss: 13.97, validation loss: 37.44\n",
      "Epoch 110, train loss: 13.72, validation loss: 37.11\n",
      "Epoch 111, train loss: 14.05, validation loss: 37.18\n",
      "Epoch 112, train loss: 14.18, validation loss: 37.07\n",
      "Epoch 113, train loss: 13.68, validation loss: 37.97\n",
      "Epoch 114, train loss: 13.60, validation loss: 37.29\n",
      "Epoch 115, train loss: 13.54, validation loss: 37.95\n",
      "Epoch 116, train loss: 13.57, validation loss: 37.21\n",
      "Epoch 117, train loss: 13.38, validation loss: 36.84\n",
      "Epoch 118, train loss: 13.60, validation loss: 37.00\n",
      "Epoch 119, train loss: 13.56, validation loss: 36.24\n",
      "Epoch 120, train loss: 13.41, validation loss: 37.66\n",
      "Epoch 121, train loss: 13.18, validation loss: 36.15\n",
      "Epoch 122, train loss: 13.17, validation loss: 35.96\n",
      "Epoch 123, train loss: 13.20, validation loss: 36.54\n",
      "Epoch 124, train loss: 13.06, validation loss: 35.85\n",
      "Epoch 125, train loss: 12.93, validation loss: 36.80\n",
      "Epoch 126, train loss: 13.07, validation loss: 35.86\n",
      "Epoch 127, train loss: 12.99, validation loss: 36.59\n",
      "Epoch 128, train loss: 12.81, validation loss: 35.75\n",
      "Epoch 129, train loss: 12.90, validation loss: 37.77\n",
      "Epoch 130, train loss: 12.81, validation loss: 35.15\n",
      "Epoch 131, train loss: 12.66, validation loss: 35.36\n",
      "Epoch 132, train loss: 12.67, validation loss: 35.80\n",
      "Epoch 133, train loss: 12.59, validation loss: 35.14\n",
      "Epoch 134, train loss: 12.45, validation loss: 36.16\n",
      "Epoch 135, train loss: 12.46, validation loss: 35.72\n",
      "Epoch 136, train loss: 12.39, validation loss: 35.94\n",
      "Epoch 137, train loss: 12.28, validation loss: 34.80\n",
      "Epoch 138, train loss: 12.35, validation loss: 35.49\n",
      "Epoch 139, train loss: 12.29, validation loss: 35.00\n",
      "Epoch 140, train loss: 12.14, validation loss: 34.33\n",
      "Epoch 141, train loss: 12.04, validation loss: 35.17\n",
      "Epoch 142, train loss: 12.37, validation loss: 34.47\n",
      "Epoch 143, train loss: 11.96, validation loss: 35.14\n",
      "Epoch 144, train loss: 11.97, validation loss: 35.17\n",
      "Epoch 145, train loss: 11.93, validation loss: 34.72\n",
      "Epoch 146, train loss: 11.85, validation loss: 35.15\n",
      "Epoch 147, train loss: 11.77, validation loss: 34.30\n",
      "Epoch 148, train loss: 11.68, validation loss: 33.99\n",
      "Epoch 149, train loss: 11.61, validation loss: 33.80\n",
      "Epoch 150, train loss: 11.76, validation loss: 34.34\n",
      "Epoch 151, train loss: 11.75, validation loss: 34.77\n",
      "Epoch 152, train loss: 11.62, validation loss: 33.46\n",
      "Epoch 153, train loss: 11.47, validation loss: 34.05\n",
      "Epoch 154, train loss: 11.57, validation loss: 34.81\n",
      "Epoch 155, train loss: 11.44, validation loss: 33.76\n",
      "Epoch 156, train loss: 11.29, validation loss: 33.31\n",
      "Epoch 157, train loss: 11.29, validation loss: 33.12\n",
      "Epoch 158, train loss: 11.21, validation loss: 33.51\n",
      "Epoch 159, train loss: 11.77, validation loss: 33.73\n",
      "Epoch 160, train loss: 11.18, validation loss: 33.54\n",
      "Epoch 161, train loss: 11.18, validation loss: 35.59\n",
      "Epoch 162, train loss: 11.17, validation loss: 32.78\n",
      "Epoch 163, train loss: 11.10, validation loss: 32.86\n",
      "Epoch 164, train loss: 11.04, validation loss: 32.54\n",
      "Epoch 165, train loss: 11.17, validation loss: 33.40\n",
      "Epoch 166, train loss: 10.90, validation loss: 33.07\n",
      "Epoch 167, train loss: 10.87, validation loss: 32.84\n",
      "Epoch 168, train loss: 10.84, validation loss: 32.66\n",
      "Epoch 169, train loss: 10.79, validation loss: 32.51\n",
      "Epoch 170, train loss: 10.73, validation loss: 32.21\n",
      "Epoch 171, train loss: 10.78, validation loss: 32.18\n",
      "Epoch 172, train loss: 10.84, validation loss: 33.21\n",
      "Epoch 173, train loss: 10.79, validation loss: 32.82\n",
      "Epoch 174, train loss: 10.69, validation loss: 31.90\n",
      "Epoch 175, train loss: 10.61, validation loss: 33.23\n",
      "Epoch 176, train loss: 10.67, validation loss: 31.83\n",
      "Epoch 177, train loss: 10.46, validation loss: 32.39\n",
      "Epoch 178, train loss: 10.61, validation loss: 31.41\n",
      "Epoch 179, train loss: 10.51, validation loss: 32.25\n",
      "Epoch 180, train loss: 10.45, validation loss: 31.69\n",
      "Epoch 181, train loss: 10.28, validation loss: 31.25\n",
      "Epoch 182, train loss: 10.24, validation loss: 31.64\n",
      "Epoch 183, train loss: 10.33, validation loss: 32.38\n",
      "Epoch 184, train loss: 10.38, validation loss: 30.93\n",
      "Epoch 185, train loss: 10.34, validation loss: 31.05\n",
      "Epoch 186, train loss: 10.26, validation loss: 34.65\n",
      "Epoch 187, train loss: 10.22, validation loss: 31.01\n",
      "Epoch 188, train loss: 10.35, validation loss: 30.86\n",
      "Epoch 189, train loss: 10.16, validation loss: 31.35\n",
      "Epoch 190, train loss: 10.00, validation loss: 31.45\n",
      "Epoch 191, train loss: 10.03, validation loss: 30.88\n",
      "Epoch 192, train loss: 9.94, validation loss: 30.80\n",
      "Epoch 193, train loss: 9.86, validation loss: 30.78\n",
      "Epoch 194, train loss: 9.81, validation loss: 30.95\n",
      "Epoch 195, train loss: 10.09, validation loss: 30.47\n",
      "Epoch 196, train loss: 9.79, validation loss: 30.17\n",
      "Epoch 197, train loss: 9.91, validation loss: 30.77\n",
      "Epoch 198, train loss: 9.61, validation loss: 30.74\n",
      "Epoch 199, train loss: 9.76, validation loss: 31.07\n",
      "Epoch 200, train loss: 9.74, validation loss: 30.34\n",
      "Epoch 201, train loss: 9.62, validation loss: 32.03\n",
      "Epoch 202, train loss: 9.78, validation loss: 30.24\n",
      "Epoch 203, train loss: 9.42, validation loss: 29.76\n",
      "Epoch 204, train loss: 9.50, validation loss: 29.74\n",
      "Epoch 205, train loss: 9.44, validation loss: 30.25\n",
      "Epoch 206, train loss: 9.49, validation loss: 30.44\n",
      "Epoch 207, train loss: 9.26, validation loss: 31.08\n",
      "Epoch 208, train loss: 9.38, validation loss: 30.18\n",
      "Epoch 209, train loss: 9.31, validation loss: 30.69\n",
      "Epoch 210, train loss: 9.36, validation loss: 29.39\n",
      "Epoch 211, train loss: 9.24, validation loss: 29.61\n",
      "Epoch 212, train loss: 9.24, validation loss: 29.11\n",
      "Epoch 213, train loss: 9.19, validation loss: 29.66\n",
      "Epoch 214, train loss: 9.07, validation loss: 30.86\n",
      "Epoch 215, train loss: 9.29, validation loss: 30.01\n",
      "Epoch 216, train loss: 9.06, validation loss: 29.17\n",
      "Epoch 217, train loss: 9.15, validation loss: 29.27\n",
      "Epoch 218, train loss: 9.13, validation loss: 28.64\n",
      "Epoch 219, train loss: 9.11, validation loss: 29.05\n",
      "Epoch 220, train loss: 9.24, validation loss: 28.80\n",
      "Epoch 221, train loss: 8.97, validation loss: 29.96\n",
      "Epoch 222, train loss: 8.97, validation loss: 29.76\n",
      "Epoch 223, train loss: 8.90, validation loss: 28.28\n",
      "Epoch 224, train loss: 8.94, validation loss: 29.14\n",
      "Epoch 225, train loss: 8.88, validation loss: 29.69\n",
      "Epoch 226, train loss: 8.86, validation loss: 28.30\n",
      "Epoch 227, train loss: 8.85, validation loss: 29.63\n",
      "Epoch 228, train loss: 8.76, validation loss: 28.96\n",
      "Epoch 229, train loss: 8.76, validation loss: 28.59\n",
      "Epoch 230, train loss: 8.74, validation loss: 29.18\n",
      "Epoch 231, train loss: 8.68, validation loss: 28.07\n",
      "Epoch 232, train loss: 8.60, validation loss: 28.60\n",
      "Epoch 233, train loss: 8.77, validation loss: 28.71\n",
      "Epoch 234, train loss: 8.71, validation loss: 28.52\n",
      "Epoch 235, train loss: 8.72, validation loss: 29.51\n",
      "Epoch 236, train loss: 8.49, validation loss: 28.03\n",
      "Epoch 237, train loss: 8.40, validation loss: 28.05\n",
      "Epoch 238, train loss: 8.34, validation loss: 27.73\n",
      "Epoch 239, train loss: 8.36, validation loss: 27.80\n",
      "Epoch 240, train loss: 8.26, validation loss: 27.24\n",
      "Epoch 241, train loss: 8.25, validation loss: 27.36\n",
      "Epoch 242, train loss: 8.20, validation loss: 27.03\n",
      "Epoch 243, train loss: 8.20, validation loss: 27.14\n",
      "Epoch 244, train loss: 8.14, validation loss: 27.70\n",
      "Epoch 245, train loss: 8.37, validation loss: 28.75\n",
      "Epoch 246, train loss: 8.28, validation loss: 27.73\n",
      "Epoch 247, train loss: 8.19, validation loss: 27.77\n",
      "Epoch 248, train loss: 8.10, validation loss: 27.36\n",
      "Epoch 249, train loss: 8.16, validation loss: 26.68\n",
      "Epoch 250, train loss: 8.24, validation loss: 27.49\n",
      "Epoch 251, train loss: 8.03, validation loss: 27.53\n",
      "Epoch 252, train loss: 8.12, validation loss: 27.20\n",
      "Epoch 253, train loss: 7.93, validation loss: 27.87\n",
      "Epoch 254, train loss: 7.93, validation loss: 26.38\n",
      "Epoch 255, train loss: 7.95, validation loss: 27.31\n",
      "Epoch 256, train loss: 7.95, validation loss: 27.16\n",
      "Epoch 257, train loss: 7.88, validation loss: 26.42\n",
      "Epoch 258, train loss: 7.82, validation loss: 27.27\n",
      "Epoch 259, train loss: 7.81, validation loss: 29.15\n",
      "Epoch 260, train loss: 7.83, validation loss: 25.99\n",
      "Epoch 261, train loss: 7.78, validation loss: 26.14\n",
      "Epoch 262, train loss: 7.74, validation loss: 27.70\n",
      "Epoch 263, train loss: 7.78, validation loss: 26.30\n",
      "Epoch 264, train loss: 7.75, validation loss: 26.32\n",
      "Epoch 265, train loss: 7.78, validation loss: 26.16\n",
      "Epoch 266, train loss: 7.56, validation loss: 26.77\n",
      "Epoch 267, train loss: 7.62, validation loss: 26.61\n",
      "Epoch 268, train loss: 7.60, validation loss: 25.52\n",
      "Epoch 269, train loss: 7.43, validation loss: 26.69\n",
      "Epoch 270, train loss: 7.60, validation loss: 25.52\n",
      "Epoch 271, train loss: 7.47, validation loss: 25.45\n",
      "Epoch 272, train loss: 7.42, validation loss: 25.48\n",
      "Epoch 273, train loss: 7.62, validation loss: 25.26\n",
      "Epoch 274, train loss: 7.44, validation loss: 25.73\n",
      "Epoch 275, train loss: 7.43, validation loss: 26.39\n",
      "Epoch 276, train loss: 7.32, validation loss: 25.65\n",
      "Epoch 277, train loss: 7.31, validation loss: 26.26\n",
      "Epoch 278, train loss: 7.31, validation loss: 25.27\n",
      "Epoch 279, train loss: 7.37, validation loss: 24.98\n",
      "Epoch 280, train loss: 7.37, validation loss: 26.54\n",
      "Epoch 281, train loss: 7.37, validation loss: 24.66\n",
      "Epoch 282, train loss: 7.28, validation loss: 25.19\n",
      "Epoch 283, train loss: 7.20, validation loss: 26.27\n",
      "Epoch 284, train loss: 7.07, validation loss: 25.36\n",
      "Epoch 285, train loss: 7.06, validation loss: 23.98\n",
      "Epoch 286, train loss: 7.20, validation loss: 24.73\n",
      "Epoch 287, train loss: 7.11, validation loss: 24.46\n",
      "Epoch 288, train loss: 7.03, validation loss: 24.81\n",
      "Epoch 289, train loss: 6.95, validation loss: 25.32\n",
      "Epoch 290, train loss: 7.04, validation loss: 24.64\n",
      "Epoch 291, train loss: 7.01, validation loss: 24.26\n",
      "Epoch 292, train loss: 7.04, validation loss: 24.41\n",
      "Epoch 293, train loss: 7.00, validation loss: 24.52\n",
      "Epoch 294, train loss: 6.92, validation loss: 23.85\n",
      "Epoch 295, train loss: 6.83, validation loss: 24.37\n",
      "Epoch 296, train loss: 6.82, validation loss: 24.12\n",
      "Epoch 297, train loss: 6.79, validation loss: 24.55\n",
      "Epoch 298, train loss: 6.75, validation loss: 23.93\n",
      "Epoch 299, train loss: 6.68, validation loss: 24.17\n",
      "Epoch 300, train loss: 6.83, validation loss: 23.74\n",
      "Epoch 301, train loss: 6.76, validation loss: 24.33\n",
      "Epoch 302, train loss: 6.74, validation loss: 23.44\n",
      "Epoch 303, train loss: 6.75, validation loss: 23.46\n",
      "Epoch 304, train loss: 6.66, validation loss: 23.83\n",
      "Epoch 305, train loss: 6.65, validation loss: 23.59\n",
      "Epoch 306, train loss: 6.59, validation loss: 22.86\n",
      "Epoch 307, train loss: 6.62, validation loss: 23.54\n",
      "Epoch 308, train loss: 6.69, validation loss: 24.10\n",
      "Epoch 309, train loss: 6.65, validation loss: 23.60\n",
      "Epoch 310, train loss: 6.56, validation loss: 23.69\n",
      "Epoch 311, train loss: 6.57, validation loss: 23.03\n",
      "Epoch 312, train loss: 6.65, validation loss: 23.93\n",
      "Epoch 313, train loss: 6.68, validation loss: 23.39\n",
      "Epoch 314, train loss: 6.54, validation loss: 23.04\n",
      "Epoch 315, train loss: 6.59, validation loss: 23.20\n",
      "Epoch 316, train loss: 6.55, validation loss: 23.09\n",
      "Validation loss not improved in the last 10 epochs, breaking...\n",
      "test loss: 42.87\n"
     ]
    }
   ],
   "source": [
    "train_hist = []\n",
    "valid_hist = []\n",
    "min_observed_valid_loss = np.inf\n",
    "\n",
    "for epoch in range(num_epochs):\n",
    "    train_loss_per_batch = []\n",
    "    for x, y in train_loader:\n",
    "        x = x.to(device)\n",
    "        y = y.to(device)\n",
    "        model.zero_grad()\n",
    "        y_pred = model(x)\n",
    "        loss = criterion(y_pred, y)\n",
    "        \n",
    "        loss.backward()\n",
    "        optimizer.step()\n",
    "        train_loss_per_batch.append(loss.item())\n",
    "        del x, y\n",
    "        torch.cuda.empty_cache()\n",
    "    train_loss_epoch = np.mean(train_loss_per_batch)\n",
    "    \n",
    "    with torch.no_grad():\n",
    "        y_valid_pred = model(x_valid)\n",
    "        valid_loss_epoch = criterion(y_valid_pred, y_valid)\n",
    "        del y_valid_pred\n",
    "        torch.cuda.empty_cache()\n",
    "\n",
    "    min_observed_valid_loss = min(min_observed_valid_loss, valid_loss_epoch)\n",
    "    \n",
    "    train_hist.append(train_loss_epoch)\n",
    "    valid_hist.append(valid_loss_epoch)\n",
    "    \n",
    "    print(f\"Epoch {epoch}, train loss: {train_loss_epoch:.2f}, validation loss: {valid_loss_epoch:.2f}\")\n",
    "    \n",
    "    if epoch > early_stopping_epochs:\n",
    "        if min_observed_valid_loss < min(valid_hist[-10:]):\n",
    "            print(f\"Validation loss not improved in the last {early_stopping_epochs} epochs, breaking...\")\n",
    "            break\n",
    "\n",
    "y_test_pred = model(x_test)\n",
    "test_loss = criterion(y_test_pred, y_test)\n",
    "print(f\"test loss: {test_loss:.2f}\")"
   ]
  },
  {
   "cell_type": "code",
   "execution_count": 1,
   "id": "711e6b7e-e58e-42f8-b3e5-d5026e9d8be3",
   "metadata": {},
   "outputs": [],
   "source": [
    "ticker = \"AMZN\""
   ]
  },
  {
   "cell_type": "code",
   "execution_count": 33,
   "id": "03df5558-19ec-4737-ba07-7f12dc2bd807",
   "metadata": {},
   "outputs": [],
   "source": [
    "ticker_ind = np.argwhere(test_data['ticker'] == ticker).squeeze()"
   ]
  },
  {
   "cell_type": "code",
   "execution_count": 34,
   "id": "ba284be7-9f7b-4f06-b0b2-6a3350daba2c",
   "metadata": {},
   "outputs": [],
   "source": [
    "ticker_ypred = y_test_pred.cpu().detach().numpy()[ticker_ind, :]\n",
    "ticker_y = y_test.cpu().detach().numpy()[ticker_ind, :]\n",
    "ticker_dates = test_data['prediction_date'][ticker_ind]"
   ]
  },
  {
   "cell_type": "code",
   "execution_count": 35,
   "id": "513b0b92-949c-44a5-8e56-542787a0eb30",
   "metadata": {},
   "outputs": [
    {
     "data": {
      "text/plain": [
       "[<matplotlib.lines.Line2D at 0x7f8c3d2c9f40>]"
      ]
     },
     "execution_count": 35,
     "metadata": {},
     "output_type": "execute_result"
    },
    {
     "data": {
      "image/png": "[encoded data removed]",
      "text/plain": [
       "<Figure size 432x288 with 1 Axes>"
      ]
     },
     "metadata": {
      "needs_background": "light"
     },
     "output_type": "display_data"
    }
   ],
   "source": [
    "fig, ax = plt.subplots(figsize=(6, 4))\n",
    "ax.plot(pd.to_datetime(ticker_dates), ticker_y)\n",
    "ax.plot(pd.to_datetime(ticker_dates), ticker_ypred, color=\"C2\")"
   ]
  },
  {
   "cell_type": "code",
   "execution_count": 36,
   "id": "a509c86b-a65b-430f-9d0c-07d739896bbf",
   "metadata": {},
   "outputs": [
    {
     "data": {
      "text/plain": [
       "tensor(4.5884, device='cuda:2', grad_fn=<L1LossBackward>)"
      ]
     },
     "execution_count": 36,
     "metadata": {},
     "output_type": "execute_result"
    }
   ],
   "source": [
    "criterion(y_test_pred[ticker_ind, :], y_test[ticker_ind, :])"
   ]
  },
  {
   "cell_type": "code",
   "execution_count": 95,
   "id": "87fade3b-ab6b-455a-8d5e-b037b677f56a",
   "metadata": {},
   "outputs": [
    {
     "data": {
      "text/plain": [
       "torch.Size([64, 30, 53])"
      ]
     },
     "execution_count": 95,
     "metadata": {},
     "output_type": "execute_result"
    }
   ],
   "source": [
    "x.shape"
   ]
  },
  {
   "cell_type": "code",
   "execution_count": 96,
   "id": "e7518070-aaf6-4bc4-8132-ee19e5907dec",
   "metadata": {},
   "outputs": [
    {
     "data": {
      "text/plain": [
       "torch.Size([64, 30, 1])"
      ]
     },
     "execution_count": 96,
     "metadata": {},
     "output_type": "execute_result"
    }
   ],
   "source": [
    "y.shape"
   ]
  },
  {
   "cell_type": "code",
   "execution_count": 94,
   "id": "dfb65646-77c0-489e-af72-57713702443e",
   "metadata": {},
   "outputs": [
    {
     "data": {
      "text/plain": [
       "torch.Size([64, 30, 1])"
      ]
     },
     "execution_count": 94,
     "metadata": {},
     "output_type": "execute_result"
    }
   ],
   "source": [
    "model(x.to(device)).shape"
   ]
  },
  {
   "cell_type": "code",
   "execution_count": null,
   "id": "2d8ef01b-eeb8-44a4-99e4-1b2f3ebf29b3",
   "metadata": {},
   "outputs": [],
   "source": []
  }
 ],
 "metadata": {
  "kernelspec": {
   "display_name": "Python 3",
   "language": "python",
   "name": "python3"
  },
  "language_info": {
   "codemirror_mode": {
    "name": "ipython",
    "version": 3
   },
   "file_extension": ".py",
   "mimetype": "text/x-python",
   "name": "python",
   "nbconvert_exporter": "python",
   "pygments_lexer": "ipython3",
   "version": "3.8.8"
  }
 },
 "nbformat": 4,
 "nbformat_minor": 5
}
