{
 "cells": [
  {
   "cell_type": "code",
   "execution_count": 1,
   "id": "619802ef-8335-4789-b02c-7740569430b8",
   "metadata": {},
   "outputs": [
    {
     "name": "stdout",
     "output_type": "stream",
     "text": [
      "Cuda available: True\n"
     ]
    }
   ],
   "source": [
    "%run _common.ipynb"
   ]
  },
  {
   "cell_type": "code",
   "execution_count": 2,
   "id": "459f259a-334e-426f-bf39-a844be16b95d",
   "metadata": {},
   "outputs": [],
   "source": [
    "from src import model_data as md\n",
    "from matplotlib import pylab as plt\n",
    "import pandas as pd"
   ]
  },
  {
   "cell_type": "code",
   "execution_count": 3,
   "id": "58ef9b59-f331-49d4-8b59-6c5fb03e9f01",
   "metadata": {},
   "outputs": [],
   "source": [
    "pipeline = md.MultiTickerPipeline(\n",
    "    target=\"return\",\n",
    "    target_type=\"single\",\n",
    "    model_seq_len=30,\n",
    "    max_overlap=20,\n",
    "    train_periods=[\n",
    "        (\"2012-01-01\", \"2019-12-31\"),\n",
    "    ],\n",
    "    test_periods=[\n",
    "        (\"2020-01-01\", \"2021-04-01\"),\n",
    "    ],\n",
    "    normalization_method=\"log\",\n",
    "    cross_validation_folds=5\n",
    ")"
   ]
  },
  {
   "cell_type": "raw",
   "id": "02a3adbd-146c-413a-9e87-e8cd870d8c18",
   "metadata": {
    "tags": []
   },
   "source": [
    "pipeline.prepare_data([\"_all_\"])"
   ]
  },
  {
   "cell_type": "code",
   "execution_count": 4,
   "id": "8df57c8f-f3df-4890-906f-ee43de77db26",
   "metadata": {},
   "outputs": [
    {
     "name": "stderr",
     "output_type": "stream",
     "text": [
      "INFO:src.model_data:Loading generated data from /home/rluo/raid/classes/gatech/cs7643/GATech-CS7643-Project-Group/data/model_data/return-single-96tickers...\n",
      "INFO:src.model_data:  Loading train folds...\n",
      "INFO:src.model_data:  Loading test arrays...\n"
     ]
    }
   ],
   "source": [
    "pipeline.load_data('return-single-96tickers')"
   ]
  },
  {
   "cell_type": "code",
   "execution_count": 5,
   "id": "f185fd3f-3bba-477e-bb37-59a48643b7b5",
   "metadata": {},
   "outputs": [
    {
     "name": "stderr",
     "output_type": "stream",
     "text": [
      "INFO:src.model_data:Loading generated data from /home/rluo/raid/classes/gatech/cs7643/GATech-CS7643-Project-Group/data/model_data/price-single-96tickers...\n",
      "INFO:src.model_data:  Loading train folds...\n",
      "INFO:src.model_data:  Loading test arrays...\n"
     ]
    }
   ],
   "source": [
    "price_pipeline = md.MultiTickerPipeline()\n",
    "price_pipeline.load_data('price-single-96tickers')"
   ]
  },
  {
   "cell_type": "code",
   "execution_count": 9,
   "id": "eed1a257-5979-48e1-a8ec-accce8c71339",
   "metadata": {},
   "outputs": [],
   "source": [
    "train_data = pipeline._train_out\n",
    "test_data = pipeline._test_out"
   ]
  },
  {
   "cell_type": "code",
   "execution_count": 10,
   "id": "d1f9d19b-c180-4c7f-af17-54f4c45c68fb",
   "metadata": {},
   "outputs": [],
   "source": [
    "fold5 = train_data[4]\n",
    "train = fold5['train']\n",
    "valid = fold5['valid']"
   ]
  },
  {
   "cell_type": "code",
   "execution_count": 11,
   "id": "91eb7948-3393-4c1f-b7f4-a620f8c6f6cf",
   "metadata": {},
   "outputs": [],
   "source": [
    "device = \"cuda:2\""
   ]
  },
  {
   "cell_type": "code",
   "execution_count": 12,
   "id": "4dc3a5fb-7e34-43aa-8340-2a1588d68cb5",
   "metadata": {},
   "outputs": [],
   "source": [
    "# x_train, y_train = torch.from_numpy(train['x']).to(device), torch.from_numpy(train['y']).to(device)\n",
    "x_valid, y_valid = torch.from_numpy(valid['x'].astype(\"float32\")).to(device), torch.from_numpy(valid['y'].astype(\"float32\")).to(device)\n",
    "x_test, y_test = torch.from_numpy(test_data['x'].astype(\"float32\")).to(device), torch.from_numpy(test_data['y'].astype(\"float32\")).to(device)"
   ]
  },
  {
   "cell_type": "code",
   "execution_count": 13,
   "id": "3c31da20-39e8-4f8d-aeb6-23c01ecf5dd4",
   "metadata": {},
   "outputs": [],
   "source": [
    "class SeqDataset(torch.utils.data.Dataset):\n",
    "    def __init__(self, datadict):\n",
    "        self.x = datadict['x'].astype(\"float32\")\n",
    "        self.y = datadict['y'].astype(\"float32\")\n",
    "        \n",
    "    def __len__(self):\n",
    "        return self.x.shape[0]\n",
    "\n",
    "    def __getitem__(self, index):\n",
    "        return self.x[index], self.y[index]"
   ]
  },
  {
   "cell_type": "code",
   "execution_count": 14,
   "id": "a4cc02a7-0291-408a-a470-0add20447e99",
   "metadata": {},
   "outputs": [],
   "source": [
    "class SeqModel(nn.Module):\n",
    "    def __init__(self, input_dim, hidden_dim, num_layers, output_dim):\n",
    "        super().__init__()\n",
    "        self.hidden_dim = hidden_dim\n",
    "        self.num_layers = num_layers\n",
    "        #\n",
    "        self.lstm = nn.GRU(input_dim, hidden_dim, num_layers, batch_first=True)\n",
    "        self.fc = nn.Linear(hidden_dim, output_dim)\n",
    "\n",
    "    def forward(self, x):\n",
    "        h0 = torch.zeros(self.num_layers, x.size(0), self.hidden_dim).requires_grad_().to(device)\n",
    "        out, (hn) = self.lstm(x, (h0.detach()))\n",
    "        out = self.fc(out[:, -1, :])\n",
    "        return out\n"
   ]
  },
  {
   "cell_type": "code",
   "execution_count": 15,
   "id": "dcc31b71-2b73-4e2f-ba58-59a653767009",
   "metadata": {},
   "outputs": [],
   "source": [
    "input_dim = x_valid.shape[2]\n",
    "output_dim = y_valid.shape[1]"
   ]
  },
  {
   "cell_type": "code",
   "execution_count": 16,
   "id": "fc718aa3-6b21-4e12-95bc-bae3ce5cc70a",
   "metadata": {},
   "outputs": [],
   "source": [
    "hidden_dim = 128\n",
    "num_layers = 2\n",
    "num_epochs = 400\n",
    "learning_rate = 0.001"
   ]
  },
  {
   "cell_type": "code",
   "execution_count": 17,
   "id": "e62ac5bc-1eb7-4132-b905-330b8c683e78",
   "metadata": {},
   "outputs": [],
   "source": [
    "data_loader_params = {\n",
    "    \"batch_size\": 64,\n",
    "    \"shuffle\": True,\n",
    "    \"num_workers\": 10\n",
    "}"
   ]
  },
  {
   "cell_type": "code",
   "execution_count": 18,
   "id": "3f39817e-a0c2-4ddc-aed8-c4b644d7e692",
   "metadata": {},
   "outputs": [],
   "source": [
    "train_set = SeqDataset(train)"
   ]
  },
  {
   "cell_type": "code",
   "execution_count": 19,
   "id": "fa2298b6-9dd5-4890-b823-08b1b828c8cb",
   "metadata": {},
   "outputs": [],
   "source": [
    "train_loader = torch.utils.data.DataLoader(train_set, **data_loader_params)"
   ]
  },
  {
   "cell_type": "code",
   "execution_count": 20,
   "id": "c6331ec1-f64d-4df1-94bb-bb1d23c2c58d",
   "metadata": {},
   "outputs": [],
   "source": [
    "model = SeqModel(input_dim, hidden_dim, num_layers, output_dim).to(device)"
   ]
  },
  {
   "cell_type": "code",
   "execution_count": 21,
   "id": "ab7b0804-330f-424f-b2ce-aa1ecfbf121f",
   "metadata": {},
   "outputs": [],
   "source": [
    "optimizer = torch.optim.Adam(model.parameters(), lr=learning_rate)"
   ]
  },
  {
   "cell_type": "code",
   "execution_count": 22,
   "id": "c89a046d-ca12-4619-9661-1950d70128b5",
   "metadata": {},
   "outputs": [],
   "source": [
    "criterion = nn.L1Loss(reduction='mean')"
   ]
  },
  {
   "cell_type": "code",
   "execution_count": 23,
   "id": "69da9fc0-d6f1-43a8-a611-47a31b0cd5ef",
   "metadata": {},
   "outputs": [],
   "source": [
    "num_epochs = 400\n",
    "early_stopping_epochs = 10"
   ]
  },
  {
   "cell_type": "code",
   "execution_count": 24,
   "id": "01922543-2e2d-4afb-97c8-62cf0d0c0052",
   "metadata": {
    "scrolled": true,
    "tags": []
   },
   "outputs": [
    {
     "name": "stdout",
     "output_type": "stream",
     "text": [
      "Epoch 0, train loss: 0.0299, validation loss: 0.0148\n",
      "Epoch 1, train loss: 0.0158, validation loss: 0.0150\n",
      "Epoch 2, train loss: 0.0146, validation loss: 0.0234\n",
      "Epoch 3, train loss: 0.0138, validation loss: 0.0193\n",
      "Epoch 4, train loss: 0.0139, validation loss: 0.0192\n",
      "Epoch 5, train loss: 0.0139, validation loss: 0.0170\n",
      "Epoch 6, train loss: 0.0128, validation loss: 0.0155\n",
      "Epoch 7, train loss: 0.0128, validation loss: 0.0145\n",
      "Epoch 8, train loss: 0.0128, validation loss: 0.0152\n",
      "Epoch 9, train loss: 0.0128, validation loss: 0.0155\n",
      "Epoch 10, train loss: 0.0129, validation loss: 0.0138\n",
      "Epoch 11, train loss: 0.0128, validation loss: 0.0140\n",
      "Epoch 12, train loss: 0.0126, validation loss: 0.0137\n",
      "Epoch 13, train loss: 0.0126, validation loss: 0.0146\n",
      "Epoch 14, train loss: 0.0124, validation loss: 0.0137\n",
      "Epoch 15, train loss: 0.0124, validation loss: 0.0137\n",
      "Epoch 16, train loss: 0.0126, validation loss: 0.0139\n",
      "Epoch 17, train loss: 0.0126, validation loss: 0.0155\n",
      "Epoch 18, train loss: 0.0123, validation loss: 0.0137\n",
      "Epoch 19, train loss: 0.0123, validation loss: 0.0140\n",
      "Epoch 20, train loss: 0.0122, validation loss: 0.0137\n",
      "Epoch 21, train loss: 0.0126, validation loss: 0.0137\n",
      "Epoch 22, train loss: 0.0123, validation loss: 0.0137\n",
      "Epoch 23, train loss: 0.0123, validation loss: 0.0137\n",
      "Epoch 24, train loss: 0.0122, validation loss: 0.0137\n",
      "Epoch 25, train loss: 0.0121, validation loss: 0.0140\n",
      "Epoch 26, train loss: 0.0123, validation loss: 0.0137\n",
      "Epoch 27, train loss: 0.0123, validation loss: 0.0141\n",
      "Epoch 28, train loss: 0.0124, validation loss: 0.0142\n",
      "Epoch 29, train loss: 0.0122, validation loss: 0.0141\n",
      "Epoch 30, train loss: 0.0122, validation loss: 0.0136\n",
      "Epoch 31, train loss: 0.0124, validation loss: 0.0137\n",
      "Epoch 32, train loss: 0.0123, validation loss: 0.0140\n",
      "Epoch 33, train loss: 0.0123, validation loss: 0.0136\n",
      "Epoch 34, train loss: 0.0122, validation loss: 0.0137\n",
      "Epoch 35, train loss: 0.0123, validation loss: 0.0138\n",
      "Epoch 36, train loss: 0.0122, validation loss: 0.0141\n",
      "Epoch 37, train loss: 0.0121, validation loss: 0.0139\n",
      "Epoch 38, train loss: 0.0122, validation loss: 0.0137\n",
      "Epoch 39, train loss: 0.0122, validation loss: 0.0141\n",
      "Epoch 40, train loss: 0.0122, validation loss: 0.0146\n",
      "Validation loss not improved in the last 10 epochs, breaking...\n",
      "test loss: 0.0216\n"
     ]
    }
   ],
   "source": [
    "train_hist = []\n",
    "valid_hist = []\n",
    "min_observed_valid_loss = np.inf\n",
    "\n",
    "for epoch in range(num_epochs):\n",
    "    train_loss_per_batch = []\n",
    "    for x, y in train_loader:\n",
    "        x = x.to(device)\n",
    "        y = y.to(device)\n",
    "        model.zero_grad()\n",
    "        y_pred = model(x)\n",
    "        loss = criterion(y_pred, y)\n",
    "        \n",
    "        loss.backward()\n",
    "        optimizer.step()\n",
    "        train_loss_per_batch.append(loss.item())\n",
    "        del x, y\n",
    "        torch.cuda.empty_cache()\n",
    "    train_loss_epoch = np.mean(train_loss_per_batch)\n",
    "    \n",
    "    with torch.no_grad():\n",
    "        y_valid_pred = model(x_valid)\n",
    "        valid_loss_epoch = criterion(y_valid_pred, y_valid)\n",
    "        del y_valid_pred\n",
    "        torch.cuda.empty_cache()\n",
    "\n",
    "    min_observed_valid_loss = min(min_observed_valid_loss, valid_loss_epoch)\n",
    "    \n",
    "    train_hist.append(train_loss_epoch)\n",
    "    valid_hist.append(valid_loss_epoch)\n",
    "    \n",
    "    print(f\"Epoch {epoch}, train loss: {train_loss_epoch:.4f}, validation loss: {valid_loss_epoch:.4f}\")\n",
    "    \n",
    "    if epoch > early_stopping_epochs:\n",
    "        if min_observed_valid_loss < min(valid_hist[-10:]):\n",
    "            print(f\"Validation loss not improved in the last {early_stopping_epochs} epochs, breaking...\")\n",
    "            break\n",
    "\n",
    "y_test_pred = model(x_test)\n",
    "test_loss = criterion(y_test_pred, y_test)\n",
    "print(f\"test loss: {test_loss:.4f}\")"
   ]
  },
  {
   "cell_type": "code",
   "execution_count": 104,
   "id": "711e6b7e-e58e-42f8-b3e5-d5026e9d8be3",
   "metadata": {},
   "outputs": [],
   "source": [
    "ticker = \"MSFT\""
   ]
  },
  {
   "cell_type": "code",
   "execution_count": 105,
   "id": "03df5558-19ec-4737-ba07-7f12dc2bd807",
   "metadata": {},
   "outputs": [],
   "source": [
    "ticker_ind = np.argwhere(test_data['ticker'] == ticker).squeeze()"
   ]
  },
  {
   "cell_type": "code",
   "execution_count": 106,
   "id": "ba284be7-9f7b-4f06-b0b2-6a3350daba2c",
   "metadata": {},
   "outputs": [],
   "source": [
    "ticker_ypred = y_test_pred.cpu().detach().numpy()[ticker_ind, :]\n",
    "ticker_y = y_test.cpu().detach().numpy()[ticker_ind, :]\n",
    "ticker_dates = test_data['prediction_date'][ticker_ind]"
   ]
  },
  {
   "cell_type": "code",
   "execution_count": 107,
   "id": "7d37a541-a0a6-4715-bfde-875f0eff882b",
   "metadata": {},
   "outputs": [],
   "source": [
    "ticker_price_pred = (\n",
    "    price_pipeline._test_out['x'].astype(\"float32\")[ticker_ind, -1, 0].reshape(-1, 1) * \n",
    "    (1 + ticker_ypred)\n",
    ")\n",
    "ticker_price = price_pipeline._test_out['y'].astype(\"float32\")[ticker_ind, :]"
   ]
  },
  {
   "cell_type": "code",
   "execution_count": 111,
   "id": "513b0b92-949c-44a5-8e56-542787a0eb30",
   "metadata": {},
   "outputs": [
    {
     "data": {
      "text/plain": [
       "[<matplotlib.lines.Line2D at 0x7f94e2b9c9a0>]"
      ]
     },
     "execution_count": 111,
     "metadata": {},
     "output_type": "execute_result"
    },
    {
     "data": {
      "image/png": "[encoded data removed]",
      "text/plain": [
       "<Figure size 720x288 with 1 Axes>"
      ]
     },
     "metadata": {
      "needs_background": "light"
     },
     "output_type": "display_data"
    }
   ],
   "source": [
    "fig, ax = plt.subplots(figsize=(10, 4))\n",
    "ax.plot(pd.to_datetime(ticker_dates), ticker_price)\n",
    "ax.plot(pd.to_datetime(ticker_dates), ticker_price_pred, color=\"C2\")"
   ]
  },
  {
   "cell_type": "code",
   "execution_count": 109,
   "id": "a509c86b-a65b-430f-9d0c-07d739896bbf",
   "metadata": {},
   "outputs": [
    {
     "data": {
      "text/plain": [
       "3.6405084"
      ]
     },
     "execution_count": 109,
     "metadata": {},
     "output_type": "execute_result"
    }
   ],
   "source": [
    "np.abs(ticker_price_pred - ticker_price).mean()"
   ]
  },
  {
   "cell_type": "code",
   "execution_count": 101,
   "id": "12827e07-200e-41cc-8291-d998e26280c0",
   "metadata": {},
   "outputs": [],
   "source": [
    "y_valid_pred = model(x_valid)"
   ]
  },
  {
   "cell_type": "code",
   "execution_count": 102,
   "id": "1ddd9448-1ba8-4650-b5e0-cf35e5f7192a",
   "metadata": {},
   "outputs": [
    {
     "data": {
      "image/png": "[encoded data removed]",
      "text/plain": [
       "<Figure size 432x288 with 1 Axes>"
      ]
     },
     "metadata": {
      "needs_background": "light"
     },
     "output_type": "display_data"
    }
   ],
   "source": [
    "_ = plt.hist(y_valid_pred.cpu().detach().numpy(), bins=100)"
   ]
  },
  {
   "cell_type": "code",
   "execution_count": 103,
   "id": "18bff2e9-d0be-4113-ac59-4d048a48a908",
   "metadata": {},
   "outputs": [
    {
     "data": {
      "image/png": "[encoded data removed]",
      "text/plain": [
       "<Figure size 432x288 with 1 Axes>"
      ]
     },
     "metadata": {
      "needs_background": "light"
     },
     "output_type": "display_data"
    }
   ],
   "source": [
    "_ = plt.hist(y_valid.cpu().detach().numpy(), bins=100)"
   ]
  },
  {
   "cell_type": "code",
   "execution_count": 70,
   "id": "2d8ef01b-eeb8-44a4-99e4-1b2f3ebf29b3",
   "metadata": {},
   "outputs": [],
   "source": [
    "all_test_pred = (\n",
    "    price_pipeline._test_out['x'].astype(\"float32\")[:, -1, 0].reshape(-1, 1) * \n",
    "    (1 + y_test_pred.cpu().detach().numpy())\n",
    ")"
   ]
  },
  {
   "cell_type": "code",
   "execution_count": 76,
   "id": "26dc7ec9-766c-42ce-9d87-1c0a19315d6c",
   "metadata": {},
   "outputs": [
    {
     "data": {
      "text/plain": [
       "(27360, 1)"
      ]
     },
     "execution_count": 76,
     "metadata": {},
     "output_type": "execute_result"
    }
   ],
   "source": [
    "price_pipeline._test_out['y'].astype(\"float32\").shape"
   ]
  },
  {
   "cell_type": "code",
   "execution_count": 73,
   "id": "d83ec158-df32-4efd-b712-cda0c7d384b0",
   "metadata": {},
   "outputs": [
    {
     "data": {
      "text/plain": [
       "(27360, 1)"
      ]
     },
     "execution_count": 73,
     "metadata": {},
     "output_type": "execute_result"
    }
   ],
   "source": [
    "all_test_pred.shape"
   ]
  },
  {
   "cell_type": "code",
   "execution_count": 74,
   "id": "1588ea91-a67a-4841-bf3e-f10821b110d2",
   "metadata": {},
   "outputs": [
    {
     "data": {
      "text/plain": [
       "(27360,)"
      ]
     },
     "execution_count": 74,
     "metadata": {},
     "output_type": "execute_result"
    }
   ],
   "source": [
    "test_data['prediction_date'].shape"
   ]
  },
  {
   "cell_type": "code",
   "execution_count": 75,
   "id": "801ff3c7-bdca-41d2-9c97-6fc92e5b5f51",
   "metadata": {},
   "outputs": [
    {
     "data": {
      "text/plain": [
       "(27360,)"
      ]
     },
     "execution_count": 75,
     "metadata": {},
     "output_type": "execute_result"
    }
   ],
   "source": [
    "test_data['ticker'].shape"
   ]
  },
  {
   "cell_type": "code",
   "execution_count": 77,
   "id": "53595023-1707-466d-b14c-d4a3306073d9",
   "metadata": {},
   "outputs": [],
   "source": [
    "test_pred_df = pd.DataFrame(\n",
    "    {\n",
    "        \"y_pred\": all_test_pred.squeeze(),\n",
    "        \"y\": price_pipeline._test_out['y'].astype(\"float32\").squeeze(),\n",
    "        \"date\": test_data['prediction_date'],\n",
    "        \"ticker\": test_data['ticker']\n",
    "    }\n",
    ")"
   ]
  },
  {
   "cell_type": "code",
   "execution_count": 85,
   "id": "d42eaa71-908e-4e00-b4e6-db5419ebc819",
   "metadata": {},
   "outputs": [],
   "source": [
    "test_pred_pivot = test_pred_df[['y_pred', \"date\", \"ticker\"]].pivot(values=\"y_pred\", columns=\"ticker\", index=\"date\")\n",
    "test_actual_pivot = test_pred_df[['y', \"date\", \"ticker\"]].pivot(values=\"y\", columns=\"ticker\", index=\"date\")"
   ]
  },
  {
   "cell_type": "code",
   "execution_count": 86,
   "id": "3b49507e-bf58-4328-a875-884618af323c",
   "metadata": {},
   "outputs": [],
   "source": [
    "test_pred_pivot.to_csv(\"../outputs/predicted_price_gru_model_with_return.csv\")\n",
    "test_actual_pivot.to_csv(\"../outputs/actual_price_gru_model_with_return.csv\")"
   ]
  },
  {
   "cell_type": "code",
   "execution_count": 92,
   "id": "ffb0c917-8b87-4c1e-9c0e-27691089625e",
   "metadata": {},
   "outputs": [
    {
     "data": {
      "text/plain": [
       "<matplotlib.axes._subplots.AxesSubplot at 0x7f9590f521c0>"
      ]
     },
     "execution_count": 92,
     "metadata": {},
     "output_type": "execute_result"
    },
    {
     "data": {
      "image/png": "[encoded data removed]",
      "text/plain": [
       "<Figure size 720x288 with 1 Axes>"
      ]
     },
     "metadata": {
      "needs_background": "light"
     },
     "output_type": "display_data"
    }
   ],
   "source": [
    "fig, ax = plt.subplots(figsize=(10, 4))\n",
    "test_pred_pivot[['AMZN']].plot(ax=ax)\n",
    "test_actual_pivot[['AMZN']].plot(ax=ax, color=\"C2\")"
   ]
  },
  {
   "cell_type": "code",
   "execution_count": null,
   "id": "2576cd05-956a-460a-bde6-2e18be8c9f6d",
   "metadata": {},
   "outputs": [],
   "source": []
  }
 ],
 "metadata": {
  "kernelspec": {
   "display_name": "Python 3",
   "language": "python",
   "name": "python3"
  },
  "language_info": {
   "codemirror_mode": {
    "name": "ipython",
    "version": 3
   },
   "file_extension": ".py",
   "mimetype": "text/x-python",
   "name": "python",
   "nbconvert_exporter": "python",
   "pygments_lexer": "ipython3",
   "version": "3.8.8"
  }
 },
 "nbformat": 4,
 "nbformat_minor": 5
}
