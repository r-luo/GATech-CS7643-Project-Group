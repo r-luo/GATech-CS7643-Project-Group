{
 "cells": [
  {
   "cell_type": "code",
   "execution_count": 1,
   "metadata": {},
   "outputs": [],
   "source": [
    "import pandas as pd\n",
    "from matplotlib import pyplot"
   ]
  },
  {
   "cell_type": "markdown",
   "metadata": {},
   "source": [
    "## Data Merge"
   ]
  },
  {
   "cell_type": "code",
   "execution_count": 12,
   "metadata": {},
   "outputs": [
    {
     "data": {
      "text/html": [
       "<div>\n",
       "<style scoped>\n",
       "    .dataframe tbody tr th:only-of-type {\n",
       "        vertical-align: middle;\n",
       "    }\n",
       "\n",
       "    .dataframe tbody tr th {\n",
       "        vertical-align: top;\n",
       "    }\n",
       "\n",
       "    .dataframe thead th {\n",
       "        text-align: right;\n",
       "    }\n",
       "</style>\n",
       "<table border=\"1\" class=\"dataframe\">\n",
       "  <thead>\n",
       "    <tr style=\"text-align: right;\">\n",
       "      <th></th>\n",
       "      <th>ticker</th>\n",
       "      <th>date</th>\n",
       "      <th>ev</th>\n",
       "      <th>evebit</th>\n",
       "      <th>evebitda</th>\n",
       "      <th>marketcap</th>\n",
       "      <th>pb</th>\n",
       "      <th>pe</th>\n",
       "      <th>ps</th>\n",
       "    </tr>\n",
       "  </thead>\n",
       "  <tbody>\n",
       "    <tr>\n",
       "      <th>0</th>\n",
       "      <td>AAPL</td>\n",
       "      <td>2020-12-18</td>\n",
       "      <td>2227783.2</td>\n",
       "      <td>33.2</td>\n",
       "      <td>28.5</td>\n",
       "      <td>2153363.2</td>\n",
       "      <td>33.0</td>\n",
       "      <td>37.5</td>\n",
       "      <td>7.8</td>\n",
       "    </tr>\n",
       "    <tr>\n",
       "      <th>1</th>\n",
       "      <td>ADBE</td>\n",
       "      <td>2020-12-18</td>\n",
       "      <td>242233.7</td>\n",
       "      <td>59.6</td>\n",
       "      <td>48.6</td>\n",
       "      <td>241274.7</td>\n",
       "      <td>20.6</td>\n",
       "      <td>62.5</td>\n",
       "      <td>19.4</td>\n",
       "    </tr>\n",
       "    <tr>\n",
       "      <th>2</th>\n",
       "      <td>ADI</td>\n",
       "      <td>2020-12-18</td>\n",
       "      <td>57501.9</td>\n",
       "      <td>38.2</td>\n",
       "      <td>24.8</td>\n",
       "      <td>53412.7</td>\n",
       "      <td>4.5</td>\n",
       "      <td>43.8</td>\n",
       "      <td>9.5</td>\n",
       "    </tr>\n",
       "    <tr>\n",
       "      <th>3</th>\n",
       "      <td>ADP</td>\n",
       "      <td>2020-12-18</td>\n",
       "      <td>77571.8</td>\n",
       "      <td>23.6</td>\n",
       "      <td>20.5</td>\n",
       "      <td>76860.6</td>\n",
       "      <td>13.2</td>\n",
       "      <td>30.9</td>\n",
       "      <td>5.3</td>\n",
       "    </tr>\n",
       "    <tr>\n",
       "      <th>4</th>\n",
       "      <td>ADSK</td>\n",
       "      <td>2020-12-18</td>\n",
       "      <td>67628.2</td>\n",
       "      <td>116.9</td>\n",
       "      <td>96.4</td>\n",
       "      <td>67066.3</td>\n",
       "      <td>967.8</td>\n",
       "      <td>156.4</td>\n",
       "      <td>18.4</td>\n",
       "    </tr>\n",
       "  </tbody>\n",
       "</table>\n",
       "</div>"
      ],
      "text/plain": [
       "  ticker       date         ev  evebit  evebitda  marketcap     pb     pe  \\\n",
       "0   AAPL 2020-12-18  2227783.2    33.2      28.5  2153363.2   33.0   37.5   \n",
       "1   ADBE 2020-12-18   242233.7    59.6      48.6   241274.7   20.6   62.5   \n",
       "2    ADI 2020-12-18    57501.9    38.2      24.8    53412.7    4.5   43.8   \n",
       "3    ADP 2020-12-18    77571.8    23.6      20.5    76860.6   13.2   30.9   \n",
       "4   ADSK 2020-12-18    67628.2   116.9      96.4    67066.3  967.8  156.4   \n",
       "\n",
       "     ps  \n",
       "0   7.8  \n",
       "1  19.4  \n",
       "2   9.5  \n",
       "3   5.3  \n",
       "4  18.4  "
      ]
     },
     "execution_count": 12,
     "metadata": {},
     "output_type": "execute_result"
    }
   ],
   "source": [
    "daily = pd.read_csv('daily.csv')\n",
    "daily = daily[['ticker', 'date', 'ev', 'evebit', 'evebitda', 'marketcap', 'pb', 'pe', 'ps']]\n",
    "daily['date'] = pd.to_datetime(daily['date'])\n",
    "daily.head()"
   ]
  },
  {
   "cell_type": "code",
   "execution_count": 13,
   "metadata": {
    "scrolled": true
   },
   "outputs": [
    {
     "data": {
      "text/html": [
       "<div>\n",
       "<style scoped>\n",
       "    .dataframe tbody tr th:only-of-type {\n",
       "        vertical-align: middle;\n",
       "    }\n",
       "\n",
       "    .dataframe tbody tr th {\n",
       "        vertical-align: top;\n",
       "    }\n",
       "\n",
       "    .dataframe thead th {\n",
       "        text-align: right;\n",
       "    }\n",
       "</style>\n",
       "<table border=\"1\" class=\"dataframe\">\n",
       "  <thead>\n",
       "    <tr style=\"text-align: right;\">\n",
       "      <th></th>\n",
       "      <th>ticker</th>\n",
       "      <th>date</th>\n",
       "      <th>accoci</th>\n",
       "      <th>assets</th>\n",
       "      <th>assetsc</th>\n",
       "      <th>assetsnc</th>\n",
       "      <th>bvps</th>\n",
       "      <th>capex</th>\n",
       "      <th>cashneq</th>\n",
       "      <th>cashnequsd</th>\n",
       "      <th>...</th>\n",
       "      <th>sharesbas</th>\n",
       "      <th>shareswa</th>\n",
       "      <th>shareswadil</th>\n",
       "      <th>sps</th>\n",
       "      <th>tangibles</th>\n",
       "      <th>taxassets</th>\n",
       "      <th>taxexp</th>\n",
       "      <th>taxliabilities</th>\n",
       "      <th>tbvps</th>\n",
       "      <th>workingcapital</th>\n",
       "    </tr>\n",
       "  </thead>\n",
       "  <tbody>\n",
       "    <tr>\n",
       "      <th>0</th>\n",
       "      <td>AAPL</td>\n",
       "      <td>1997-09-30</td>\n",
       "      <td>0.0</td>\n",
       "      <td>4.233000e+09</td>\n",
       "      <td>3.424000e+09</td>\n",
       "      <td>809000000.0</td>\n",
       "      <td>0.085</td>\n",
       "      <td>NaN</td>\n",
       "      <td>1.230000e+09</td>\n",
       "      <td>1.230000e+09</td>\n",
       "      <td>...</td>\n",
       "      <td>1.433526e+10</td>\n",
       "      <td>1.411894e+10</td>\n",
       "      <td>NaN</td>\n",
       "      <td>NaN</td>\n",
       "      <td>4.233000e+09</td>\n",
       "      <td>259000000.0</td>\n",
       "      <td>NaN</td>\n",
       "      <td>264000000.0</td>\n",
       "      <td>0.300</td>\n",
       "      <td>1.606000e+09</td>\n",
       "    </tr>\n",
       "    <tr>\n",
       "      <th>1</th>\n",
       "      <td>AAPL</td>\n",
       "      <td>1997-12-31</td>\n",
       "      <td>0.0</td>\n",
       "      <td>4.126000e+09</td>\n",
       "      <td>3.373000e+09</td>\n",
       "      <td>753000000.0</td>\n",
       "      <td>0.087</td>\n",
       "      <td>38000000.0</td>\n",
       "      <td>1.193000e+09</td>\n",
       "      <td>1.193000e+09</td>\n",
       "      <td>...</td>\n",
       "      <td>1.487002e+10</td>\n",
       "      <td>1.433477e+10</td>\n",
       "      <td>1.566197e+10</td>\n",
       "      <td>0.110</td>\n",
       "      <td>4.126000e+09</td>\n",
       "      <td>233000000.0</td>\n",
       "      <td>0.0</td>\n",
       "      <td>261000000.0</td>\n",
       "      <td>0.288</td>\n",
       "      <td>1.704000e+09</td>\n",
       "    </tr>\n",
       "    <tr>\n",
       "      <th>2</th>\n",
       "      <td>AAPL</td>\n",
       "      <td>1998-03-31</td>\n",
       "      <td>0.0</td>\n",
       "      <td>3.963000e+09</td>\n",
       "      <td>3.213000e+09</td>\n",
       "      <td>750000000.0</td>\n",
       "      <td>0.094</td>\n",
       "      <td>-5000000.0</td>\n",
       "      <td>1.285000e+09</td>\n",
       "      <td>1.285000e+09</td>\n",
       "      <td>...</td>\n",
       "      <td>1.490054e+10</td>\n",
       "      <td>1.478053e+10</td>\n",
       "      <td>1.634248e+10</td>\n",
       "      <td>0.095</td>\n",
       "      <td>3.963000e+09</td>\n",
       "      <td>201000000.0</td>\n",
       "      <td>4000000.0</td>\n",
       "      <td>238000000.0</td>\n",
       "      <td>0.268</td>\n",
       "      <td>1.829000e+09</td>\n",
       "    </tr>\n",
       "    <tr>\n",
       "      <th>3</th>\n",
       "      <td>AAPL</td>\n",
       "      <td>1998-06-30</td>\n",
       "      <td>0.0</td>\n",
       "      <td>4.041000e+09</td>\n",
       "      <td>3.375000e+09</td>\n",
       "      <td>666000000.0</td>\n",
       "      <td>0.100</td>\n",
       "      <td>17000000.0</td>\n",
       "      <td>1.203000e+09</td>\n",
       "      <td>1.203000e+09</td>\n",
       "      <td>...</td>\n",
       "      <td>1.507961e+10</td>\n",
       "      <td>1.490362e+10</td>\n",
       "      <td>1.924003e+10</td>\n",
       "      <td>0.094</td>\n",
       "      <td>4.041000e+09</td>\n",
       "      <td>192000000.0</td>\n",
       "      <td>8000000.0</td>\n",
       "      <td>213000000.0</td>\n",
       "      <td>0.271</td>\n",
       "      <td>1.986000e+09</td>\n",
       "    </tr>\n",
       "    <tr>\n",
       "      <th>4</th>\n",
       "      <td>AAPL</td>\n",
       "      <td>1998-09-30</td>\n",
       "      <td>0.0</td>\n",
       "      <td>4.289000e+09</td>\n",
       "      <td>3.698000e+09</td>\n",
       "      <td>591000000.0</td>\n",
       "      <td>0.109</td>\n",
       "      <td>-7000000.0</td>\n",
       "      <td>1.481000e+09</td>\n",
       "      <td>1.481000e+09</td>\n",
       "      <td>...</td>\n",
       "      <td>1.515582e+10</td>\n",
       "      <td>1.511810e+10</td>\n",
       "      <td>1.880670e+10</td>\n",
       "      <td>0.103</td>\n",
       "      <td>4.289000e+09</td>\n",
       "      <td>182000000.0</td>\n",
       "      <td>8000000.0</td>\n",
       "      <td>173000000.0</td>\n",
       "      <td>0.284</td>\n",
       "      <td>2.178000e+09</td>\n",
       "    </tr>\n",
       "  </tbody>\n",
       "</table>\n",
       "<p>5 rows × 84 columns</p>\n",
       "</div>"
      ],
      "text/plain": [
       "  ticker       date  accoci        assets       assetsc     assetsnc   bvps  \\\n",
       "0   AAPL 1997-09-30     0.0  4.233000e+09  3.424000e+09  809000000.0  0.085   \n",
       "1   AAPL 1997-12-31     0.0  4.126000e+09  3.373000e+09  753000000.0  0.087   \n",
       "2   AAPL 1998-03-31     0.0  3.963000e+09  3.213000e+09  750000000.0  0.094   \n",
       "3   AAPL 1998-06-30     0.0  4.041000e+09  3.375000e+09  666000000.0  0.100   \n",
       "4   AAPL 1998-09-30     0.0  4.289000e+09  3.698000e+09  591000000.0  0.109   \n",
       "\n",
       "        capex       cashneq    cashnequsd  ...     sharesbas      shareswa  \\\n",
       "0         NaN  1.230000e+09  1.230000e+09  ...  1.433526e+10  1.411894e+10   \n",
       "1  38000000.0  1.193000e+09  1.193000e+09  ...  1.487002e+10  1.433477e+10   \n",
       "2  -5000000.0  1.285000e+09  1.285000e+09  ...  1.490054e+10  1.478053e+10   \n",
       "3  17000000.0  1.203000e+09  1.203000e+09  ...  1.507961e+10  1.490362e+10   \n",
       "4  -7000000.0  1.481000e+09  1.481000e+09  ...  1.515582e+10  1.511810e+10   \n",
       "\n",
       "    shareswadil    sps     tangibles    taxassets     taxexp  taxliabilities  \\\n",
       "0           NaN    NaN  4.233000e+09  259000000.0        NaN     264000000.0   \n",
       "1  1.566197e+10  0.110  4.126000e+09  233000000.0        0.0     261000000.0   \n",
       "2  1.634248e+10  0.095  3.963000e+09  201000000.0  4000000.0     238000000.0   \n",
       "3  1.924003e+10  0.094  4.041000e+09  192000000.0  8000000.0     213000000.0   \n",
       "4  1.880670e+10  0.103  4.289000e+09  182000000.0  8000000.0     173000000.0   \n",
       "\n",
       "   tbvps  workingcapital  \n",
       "0  0.300    1.606000e+09  \n",
       "1  0.288    1.704000e+09  \n",
       "2  0.268    1.829000e+09  \n",
       "3  0.271    1.986000e+09  \n",
       "4  0.284    2.178000e+09  \n",
       "\n",
       "[5 rows x 84 columns]"
      ]
     },
     "execution_count": 13,
     "metadata": {},
     "output_type": "execute_result"
    }
   ],
   "source": [
    "sf1 = pd.read_csv('sf1.csv')\n",
    "sf1 = sf1[sf1['dimension'] == 'ARQ']\n",
    "sf1 = sf1.drop(['Unnamed: 0', 'dimension','datekey', 'reportperiod', 'lastupdated', \\\n",
    "                'pb', 'pe', 'ps', 'ev', 'evebit', 'evebitda', 'marketcap', \\\n",
    "                'sharefactor', 'roa', 'roe', 'roic', 'ros', 'prefdivis', 'netincdis', 'netincnci', \\\n",
    "                'ncfx', 'invcapavg', 'intexp', 'fxusd', 'equityavg', 'deposits', 'assetturnover', 'assetsavg'], axis=1)\n",
    "sf1 = sf1.rename(columns={'calendardate': 'date'})\n",
    "sf1['date'] = pd.to_datetime(sf1['date'])\n",
    "sf1.head()"
   ]
  },
  {
   "cell_type": "code",
   "execution_count": 15,
   "metadata": {
    "scrolled": true
   },
   "outputs": [
    {
     "name": "stdout",
     "output_type": "stream",
     "text": [
      "ALGN 5084\n",
      "ASML 4610\n",
      "AVGO 2943\n",
      "BIDU 3950\n",
      "CDW 1964\n",
      "CHTR 2839\n",
      "DOCU 747\n",
      "DXCM 4029\n",
      "FB 2241\n",
      "FOXA 528\n",
      "GOOGL 4193\n",
      "ILMN 5211\n",
      "ISRG 5240\n",
      "JD 1711\n",
      "KDP 3258\n",
      "KHC 1456\n",
      "LULU 3454\n",
      "MDLZ 4991\n",
      "MELI 3444\n",
      "MRNA 592\n",
      "MRVL 5230\n",
      "MTCH (5629, 1283)\n",
      "MTCH 1283\n",
      "NFLX 4757\n",
      "NXPI 2691\n",
      "NTES 4604\n",
      "OKTA 1012\n",
      "PDD 685\n",
      "PTON 391\n",
      "PYPL (1456, 1446)\n",
      "PYPL 1446\n",
      "SGEN 5057\n",
      "SPLK 2262\n",
      "TEAM (1346, 1345)\n",
      "TEAM 1345\n",
      "TCOM 4367\n",
      "TMUS 3523\n",
      "TSLA 2718\n",
      "VRSK 2900\n",
      "WDAY 2139\n",
      "ZM 502\n"
     ]
    }
   ],
   "source": [
    "ticker_list = daily.ticker.unique().tolist()\n",
    "\n",
    "for ticker in ticker_list:\n",
    "    temp_daily = daily[daily['ticker'] == ticker]\n",
    "    temp_daily = temp_daily.sort_values(by='date', ascending=False)\n",
    "    temp_sf1 = sf1[sf1['ticker'] == ticker]\n",
    "    temp_sf1 = temp_sf1.sort_values(by='date', ascending=False)\n",
    "    temp_sf1 = temp_sf1.drop_duplicates(subset=['date'], keep='first')\n",
    "    temp_data = temp_daily.merge(temp_sf1, on = ['ticker', 'date'], how='left')\n",
    "    eod = pd.read_csv('eod/{}.csv'.format(ticker))\n",
    "    eod.columns= eod.columns.str.strip().str.lower()\n",
    "    eod = eod.drop(['dividend', 'split'], axis=1)\n",
    "    eod['date'] = pd.to_datetime(eod['date'])\n",
    "    temp_data = temp_data.merge(eod, on='date')\n",
    "    if temp_daily.shape[0] != temp_data.shape[0]:\n",
    "        print(ticker, (temp_daily.shape[0], temp_data.shape[0]))\n",
    "    temp_data = temp_data.fillna(method='backfill', axis=0)\n",
    "    temp_data = temp_data[temp_data['date'] >= '2000-01-01']\n",
    "    if temp_data.shape[0] < 5355:\n",
    "        print(ticker, temp_data.shape[0])\n",
    "    temp_data.to_csv('cleaned_data/{}.csv'.format(ticker), index=False)"
   ]
  },
  {
   "cell_type": "raw",
   "metadata": {},
   "source": [
    "temp_daily = daily[daily['ticker'] == 'ADP']\n",
    "temp_daily = temp_daily.sort_values(by='date', ascending=False)\n",
    "temp_sf1 = sf1[sf1['ticker'] == 'ADP']\n",
    "temp_sf1 = temp_sf1.sort_values(by='date', ascending=False)\n",
    "temp_sf1 = temp_sf1.drop_duplicates(subset=['date'], keep='first')\n",
    "temp_data = temp_daily.merge(temp_sf1, on = ['ticker', 'date'], how='left')\n",
    "eod = pd.read_csv('eod/ADP.csv')\n",
    "eod.columns= eod.columns.str.strip().str.lower()\n",
    "eod = eod.drop(['dividend', 'split'], axis=1)\n",
    "eod['date'] = pd.to_datetime(eod['date'])\n",
    "temp_data = temp_data.merge(eod, on='date')\n",
    "print(temp_daily.shape[0], temp_data.shape[0])\n",
    "temp_data = temp_data.fillna(method='backfill', axis=0)\n",
    "temp_data = temp_data[temp_data['date'] >= '2000-01-01']\n",
    "temp_daily.to_csv('temp_daily.csv', index=False)\n",
    "temp_sf1.to_csv('temp_sf1.csv', index=False)\n",
    "temp_data.to_csv('merge.csv', index=False)"
   ]
  },
  {
   "cell_type": "markdown",
   "metadata": {},
   "source": [
    "## Feature Selection"
   ]
  },
  {
   "cell_type": "code",
   "execution_count": 14,
   "metadata": {},
   "outputs": [
    {
     "data": {
      "text/plain": [
       "(5355, 99)"
      ]
     },
     "execution_count": 14,
     "metadata": {},
     "output_type": "execute_result"
    }
   ],
   "source": [
    "data = pd.read_csv('cleaned_data/AAPL.csv')\n",
    "# data = pd.read_csv('cleaned_data/AAPL.csv', index_col=1)\n",
    "data = data.drop(['ticker', 'date'], axis=1)\n",
    "# X = data.to_numpy(dtype=float)\n",
    "y = data[['adj_close']]\n",
    "X = data.drop(['open', 'high', 'low', 'close', 'volume', \\\n",
    "               'adj_open', 'adj_high', 'adj_low', 'adj_close', 'adj_volume'], axis=1)\n",
    "data.shape"
   ]
  },
  {
   "cell_type": "code",
   "execution_count": 15,
   "metadata": {},
   "outputs": [
    {
     "name": "stdout",
     "output_type": "stream",
     "text": [
      "(5354, 1) (5354, 89)\n"
     ]
    }
   ],
   "source": [
    "y = y.iloc[:-1]\n",
    "X = X.iloc[1:]\n",
    "print(y.shape, X.shape)"
   ]
  },
  {
   "cell_type": "code",
   "execution_count": 16,
   "metadata": {},
   "outputs": [],
   "source": [
    "from sklearn.ensemble import RandomForestRegressor"
   ]
  },
  {
   "cell_type": "code",
   "execution_count": 27,
   "metadata": {},
   "outputs": [
    {
     "name": "stderr",
     "output_type": "stream",
     "text": [
      "<ipython-input-27-5ecd781835f6>:2: DataConversionWarning: A column-vector y was passed when a 1d array was expected. Please change the shape of y to (n_samples,), for example using ravel().\n",
      "  model.fit(X, y)\n"
     ]
    },
    {
     "name": "stdout",
     "output_type": "stream",
     "text": [
      "[1.32639414e+02 3.60584256e+01 1.43801686e+01 5.82322665e+02\n",
      " 5.04956574e+01 2.62327391e+00 1.02056455e+01 2.86444695e-03\n",
      " 8.79697994e-03 1.65974473e-03 1.48564454e-02 3.51189882e-03\n",
      " 2.56655474e-03 3.75252927e-03 3.67914299e-03 1.42599231e-03\n",
      " 1.23652899e-03 7.74700146e-01 6.82320842e-02 1.53189550e-02\n",
      " 3.34162807e-02 1.34732424e+01 1.23882568e-02 3.16956951e-03\n",
      " 6.22740470e-03 5.45633607e-03 7.79530354e+01 7.92587952e-04\n",
      " 3.04946909e-03 1.72613082e-03 1.68789882e-03 5.01435970e-03\n",
      " 8.69341645e-04 3.04021225e-03 2.19938670e-03 1.66489704e-03\n",
      " 2.29306396e+00 1.64914744e-03 2.88803676e-03 1.86101430e-03\n",
      " 9.82509056e-04 3.78744263e-03 3.76213749e-01 9.95981797e-02\n",
      " 2.60036196e+01 6.99495576e-03 2.07100419e-03 9.39928402e-02\n",
      " 2.76672247e-03 1.15484464e-02 1.97029286e-01 1.94348199e-03\n",
      " 5.31398690e-03 7.01644572e-03 3.87196584e-03 1.44612968e-01\n",
      " 2.69866608e-03 3.55883280e-03 3.37943002e-03 2.41102163e-03\n",
      " 1.35324672e-03 1.23944183e-03 2.78106538e-03 4.57830905e-03\n",
      " 2.66939873e+01 1.72507719e-03 4.37726468e-03 1.83350877e-03\n",
      " 2.74110946e+00 1.31550391e+01 7.11560883e-01 1.53500878e-02\n",
      " 4.73625192e-03 1.72284835e-03 1.07256535e-03 7.43092271e-04\n",
      " 2.10067871e-01 2.20103277e-02 3.60832572e-02 4.24754452e+00\n",
      " 7.19343145e-01 3.96140502e-01 4.80592765e-03 4.23301814e-03\n",
      " 1.78858539e-03 8.72071942e-04 3.42846495e-07 1.86829790e-02\n",
      " 5.87513071e-01]\n"
     ]
    },
    {
     "data": {
      "image/png": "[encoded data removed]",
      "text/plain": [
       "<Figure size 432x288 with 1 Axes>"
      ]
     },
     "metadata": {
      "needs_background": "light"
     },
     "output_type": "display_data"
    }
   ],
   "source": [
    "model = RandomForestRegressor(n_estimators=50, random_state=1)\n",
    "model.fit(X, y)\n",
    "importances = model.feature_importances_\n",
    "# show importance scores\n",
    "print(importances * 1000)\n",
    "# plot importance scores\n",
    "names = X.columns\n",
    "ticks = [i for i in range(len(names))]\n",
    "pyplot.bar(ticks, importances)\n",
    "pyplot.xticks(ticks, names)\n",
    "pyplot.show()"
   ]
  },
  {
   "cell_type": "code",
   "execution_count": 28,
   "metadata": {},
   "outputs": [
    {
     "name": "stdout",
     "output_type": "stream",
     "text": [
      "ev 13263.941390449465\n",
      "evebit 3605.842557460539\n",
      "evebitda 1438.0168563388004\n",
      "marketcap 58232.2664996403\n",
      "pb 5049.565735544047\n",
      "pe 262.3273912767745\n",
      "ps 1020.5645534055429\n",
      "accoci 0.28644469535655526\n",
      "assets 0.8796979942804883\n",
      "assetsc 0.16597447307531363\n",
      "assetsnc 1.4856445393118134\n",
      "bvps 0.35118988154713254\n",
      "capex 0.25665547384902265\n",
      "cashneq 0.3752529268494424\n",
      "cashnequsd 0.36791429932847936\n",
      "cor 0.1425992312486006\n",
      "consolinc 0.12365289935825827\n",
      "currentratio 77.47001464101791\n",
      "de 6.823208418283421\n",
      "debt 1.5318954994698177\n",
      "debtc 3.341628073764335\n",
      "debtnc 1347.3242402012543\n",
      "debtusd 1.238825683107546\n",
      "deferredrev 0.3169569514185737\n",
      "depamor 0.6227404699118159\n",
      "divyield 0.5456336067332769\n",
      "dps 7795.303535514313\n",
      "ebit 0.07925879517982126\n",
      "ebitda 0.3049469094957098\n",
      "ebitdamargin 0.17261308168988038\n",
      "ebitdausd 0.16878988241370968\n",
      "ebitusd 0.5014359700569284\n",
      "ebt 0.08693416451892962\n",
      "eps 0.3040212246783934\n",
      "epsdil 0.21993867008838003\n",
      "epsusd 0.16648970439873212\n",
      "equity 229.30639601423812\n",
      "equityusd 0.1649147436923553\n",
      "fcf 0.28880367615331765\n",
      "fcfps 0.18610143015456004\n",
      "gp 0.09825090557700465\n",
      "grossmargin 0.3787442627724911\n",
      "intangibles 37.62137492281365\n",
      "invcap 9.959817970192477\n",
      "inventory 2600.3619623342056\n",
      "investments 0.6994955758307563\n",
      "investmentsc 0.20710041895962333\n",
      "investmentsnc 9.399284023393102\n",
      "liabilities 0.2766722472095978\n",
      "liabilitiesc 1.154844636715844\n",
      "liabilitiesnc 19.702928621788303\n",
      "ncf 0.19434819852568816\n",
      "ncfbus 0.5313986903943151\n",
      "ncfcommon 0.7016445723942268\n",
      "ncfdebt 0.3871965842002072\n",
      "ncfdiv 14.461296777425195\n",
      "ncff 0.26986660836057347\n",
      "ncfi 0.35588327971362965\n",
      "ncfinv 0.33794300196700794\n",
      "ncfo 0.24110216315586286\n",
      "netinc 0.1353246724461503\n",
      "netinccmn 0.12394418284526477\n",
      "netinccmnusd 0.2781065381933936\n",
      "netmargin 0.45783090492691525\n",
      "opex 2669.3987315755444\n",
      "opinc 0.1725077189265852\n",
      "payables 0.43772646809404264\n",
      "payoutratio 0.18335087734664818\n",
      "pe1 274.11094572136017\n",
      "ppnenet 1315.5039066110046\n",
      "price 71.1560882968244\n",
      "ps1 1.535008784842277\n",
      "receivables 0.4736251918341206\n",
      "retearn 0.17228483471864905\n",
      "revenue 0.10725653473620143\n",
      "revenueusd 0.07430922710066945\n",
      "rnd 21.006787113950796\n",
      "sbcomp 2.2010327700373726\n",
      "sgna 3.6083257220128977\n",
      "sharesbas 424.75445230379376\n",
      "shareswa 71.93431449296318\n",
      "shareswadil 39.614050234632614\n",
      "sps 0.48059276546688406\n",
      "tangibles 0.42330181357097085\n",
      "taxassets 0.17885853916206437\n",
      "taxexp 0.08720719423346066\n",
      "taxliabilities 3.428464954568627e-05\n",
      "tbvps 1.8682979000577755\n",
      "workingcapital 58.75130707341465\n"
     ]
    }
   ],
   "source": [
    "for i in range(len(ticks)):\n",
    "    print(names[i], importances[i]*100000)"
   ]
  },
  {
   "cell_type": "markdown",
   "metadata": {},
   "source": [
    "### Ad-hoc Analysis"
   ]
  },
  {
   "cell_type": "code",
   "execution_count": 82,
   "metadata": {},
   "outputs": [
    {
     "data": {
      "image/png": "[encoded data removed]",
      "text/plain": [
       "<Figure size 432x288 with 1 Axes>"
      ]
     },
     "metadata": {
      "needs_background": "light"
     },
     "output_type": "display_data"
    }
   ],
   "source": [
    "y.plot()\n",
    "pyplot.show()"
   ]
  },
  {
   "cell_type": "code",
   "execution_count": 85,
   "metadata": {},
   "outputs": [
    {
     "data": {
      "image/png": "[encoded data removed]",
      "text/plain": [
       "<Figure size 432x288 with 1 Axes>"
      ]
     },
     "metadata": {
      "needs_background": "light"
     },
     "output_type": "display_data"
    }
   ],
   "source": [
    "y_diff = y.diff(1)\n",
    "y_diff = y_diff[1:]\n",
    "y_diff.plot()\n",
    "pyplot.show()"
   ]
  },
  {
   "cell_type": "code",
   "execution_count": 86,
   "metadata": {},
   "outputs": [
    {
     "data": {
      "image/png": "[encoded data removed]",
      "text/plain": [
       "<Figure size 432x288 with 1 Axes>"
      ]
     },
     "metadata": {
      "needs_background": "light"
     },
     "output_type": "display_data"
    }
   ],
   "source": [
    "y_diff2 = y_diff.diff(1)\n",
    "y_diff2 = y_diff2[1:]\n",
    "y_diff2.plot()\n",
    "pyplot.show()"
   ]
  },
  {
   "cell_type": "code",
   "execution_count": null,
   "metadata": {},
   "outputs": [],
   "source": [
    "from sklearn import preprocessing\n",
    "from sklearn.decomposition import PCA\n",
    "\n",
    "scaler = preprocessing.StandardScaler().fit(X)\n",
    "X_scaled = scaler.transform(X)\n",
    "pca = PCA()\n",
    "pca.fit(X)\n",
    "components = pca.transform(X)\n",
    "c = pd.DataFrame(components)\n",
    "c.to_csv('c.csv')"
   ]
  }
 ],
 "metadata": {
  "kernelspec": {
   "display_name": "Python 3",
   "language": "python",
   "name": "python3"
  },
  "language_info": {
   "codemirror_mode": {
    "name": "ipython",
    "version": 3
   },
   "file_extension": ".py",
   "mimetype": "text/x-python",
   "name": "python",
   "nbconvert_exporter": "python",
   "pygments_lexer": "ipython3",
   "version": "3.7.1"
  }
 },
 "nbformat": 4,
 "nbformat_minor": 5
}
