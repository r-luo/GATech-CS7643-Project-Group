{
 "cells": [
  {
   "cell_type": "code",
   "execution_count": 1,
   "id": "619802ef-8335-4789-b02c-7740569430b8",
   "metadata": {},
   "outputs": [
    {
     "name": "stdout",
     "output_type": "stream",
     "text": [
      "Cuda available: True\n"
     ]
    }
   ],
   "source": [
    "%run _common.ipynb"
   ]
  },
  {
   "cell_type": "code",
   "execution_count": 2,
   "id": "459f259a-334e-426f-bf39-a844be16b95d",
   "metadata": {},
   "outputs": [],
   "source": [
    "from src import model_data as md\n",
    "from matplotlib import pylab as plt\n",
    "import pandas as pd"
   ]
  },
  {
   "cell_type": "code",
   "execution_count": 3,
   "id": "58ef9b59-f331-49d4-8b59-6c5fb03e9f01",
   "metadata": {},
   "outputs": [],
   "source": [
    "pipeline = md.MultiTickerPipeline(\n",
    "    target=\"price\",\n",
    "    target_type=\"sequence\",\n",
    "    model_seq_len=30,\n",
    "    max_overlap=20,\n",
    "    train_periods=[\n",
    "        (\"2012-01-01\", \"2019-12-31\"),\n",
    "    ],\n",
    "    test_periods=[\n",
    "        (\"2020-01-01\", \"2021-04-01\"),\n",
    "    ],\n",
    "    normalization_method=\"log\",\n",
    "    cross_validation_folds=5\n",
    ")"
   ]
  },
  {
   "cell_type": "raw",
   "id": "a781c662-af1b-4563-a9ee-2d7afbc10d21",
   "metadata": {
    "tags": []
   },
   "source": [
    "pipeline.prepare_data([\"_all_\"])"
   ]
  },
  {
   "cell_type": "code",
   "execution_count": 4,
   "id": "8df57c8f-f3df-4890-906f-ee43de77db26",
   "metadata": {},
   "outputs": [
    {
     "name": "stderr",
     "output_type": "stream",
     "text": [
      "INFO:src.model_data:Loading generated data from /home/rluo/raid/classes/gatech/cs7643/GATech-CS7643-Project-Group/data/model_data/price-sequence-96tickers...\n",
      "INFO:src.model_data:  Loading train folds...\n",
      "INFO:src.model_data:  Loading test arrays...\n"
     ]
    }
   ],
   "source": [
    "pipeline.load_data('price-sequence-96tickers')"
   ]
  },
  {
   "cell_type": "code",
   "execution_count": 5,
   "id": "eed1a257-5979-48e1-a8ec-accce8c71339",
   "metadata": {},
   "outputs": [],
   "source": [
    "train_data = pipeline._train_out\n",
    "test_data = pipeline._test_out"
   ]
  },
  {
   "cell_type": "code",
   "execution_count": 6,
   "id": "d1f9d19b-c180-4c7f-af17-54f4c45c68fb",
   "metadata": {},
   "outputs": [],
   "source": [
    "fold5 = train_data[4]\n",
    "train = fold5['train']\n",
    "valid = fold5['valid']"
   ]
  },
  {
   "cell_type": "code",
   "execution_count": 7,
   "id": "91eb7948-3393-4c1f-b7f4-a620f8c6f6cf",
   "metadata": {},
   "outputs": [],
   "source": [
    "device = \"cuda:3\""
   ]
  },
  {
   "cell_type": "code",
   "execution_count": 8,
   "id": "4dc3a5fb-7e34-43aa-8340-2a1588d68cb5",
   "metadata": {},
   "outputs": [],
   "source": [
    "# x_train, y_train = torch.from_numpy(train['x']).to(device), torch.from_numpy(train['y']).to(device)\n",
    "x_valid, y_valid = torch.from_numpy(valid['x'].astype(\"float32\")).to(device), torch.from_numpy(valid['y'].astype(\"float32\")).to(device)\n",
    "x_test, y_test = torch.from_numpy(test_data['x'].astype(\"float32\")).to(device), torch.from_numpy(test_data['y'].astype(\"float32\")).to(device)"
   ]
  },
  {
   "cell_type": "code",
   "execution_count": 9,
   "id": "3c31da20-39e8-4f8d-aeb6-23c01ecf5dd4",
   "metadata": {},
   "outputs": [],
   "source": [
    "class SeqDataset(torch.utils.data.Dataset):\n",
    "    def __init__(self, datadict):\n",
    "        self.x = datadict['x'].astype(\"float32\")\n",
    "        self.y = datadict['y'].astype(\"float32\")\n",
    "        \n",
    "    def __len__(self):\n",
    "        return self.x.shape[0]\n",
    "\n",
    "    def __getitem__(self, index):\n",
    "        return self.x[index], self.y[index]"
   ]
  },
  {
   "cell_type": "code",
   "execution_count": 10,
   "id": "a4cc02a7-0291-408a-a470-0add20447e99",
   "metadata": {},
   "outputs": [],
   "source": [
    "class SeqModel(nn.Module):\n",
    "    def __init__(self, input_dim, hidden_dim, num_layers, output_dim):\n",
    "        super().__init__()\n",
    "        self.hidden_dim = hidden_dim\n",
    "        self.num_layers = num_layers\n",
    "        #\n",
    "        self.lstm = nn.GRU(input_dim, hidden_dim, num_layers, batch_first=True)\n",
    "        self.fc = nn.Linear(hidden_dim, output_dim)\n",
    "\n",
    "    def forward(self, x):\n",
    "        h0 = torch.zeros(self.num_layers, x.size(0), self.hidden_dim).requires_grad_().to(device)\n",
    "        out, (hn) = self.lstm(x, (h0.detach()))\n",
    "        out = self.fc(out)\n",
    "        return out"
   ]
  },
  {
   "cell_type": "code",
   "execution_count": 11,
   "id": "dcc31b71-2b73-4e2f-ba58-59a653767009",
   "metadata": {},
   "outputs": [],
   "source": [
    "input_dim = x_valid.shape[2]\n",
    "output_dim = y_valid.shape[2]"
   ]
  },
  {
   "cell_type": "code",
   "execution_count": 12,
   "id": "fc718aa3-6b21-4e12-95bc-bae3ce5cc70a",
   "metadata": {},
   "outputs": [],
   "source": [
    "hidden_dim = 128\n",
    "num_layers = 2\n",
    "num_epochs = 400\n",
    "learning_rate = 0.001"
   ]
  },
  {
   "cell_type": "code",
   "execution_count": 13,
   "id": "e62ac5bc-1eb7-4132-b905-330b8c683e78",
   "metadata": {},
   "outputs": [],
   "source": [
    "data_loader_params = {\n",
    "    \"batch_size\": 64,\n",
    "    \"shuffle\": True,\n",
    "    \"num_workers\": 10\n",
    "}"
   ]
  },
  {
   "cell_type": "code",
   "execution_count": 14,
   "id": "3f39817e-a0c2-4ddc-aed8-c4b644d7e692",
   "metadata": {},
   "outputs": [],
   "source": [
    "train_set = SeqDataset(train)"
   ]
  },
  {
   "cell_type": "code",
   "execution_count": 15,
   "id": "fa2298b6-9dd5-4890-b823-08b1b828c8cb",
   "metadata": {},
   "outputs": [],
   "source": [
    "train_loader = torch.utils.data.DataLoader(train_set, **data_loader_params)"
   ]
  },
  {
   "cell_type": "code",
   "execution_count": 16,
   "id": "c6331ec1-f64d-4df1-94bb-bb1d23c2c58d",
   "metadata": {},
   "outputs": [],
   "source": [
    "model = SeqModel(input_dim, hidden_dim, num_layers, output_dim).to(device)"
   ]
  },
  {
   "cell_type": "code",
   "execution_count": 17,
   "id": "ab7b0804-330f-424f-b2ce-aa1ecfbf121f",
   "metadata": {},
   "outputs": [],
   "source": [
    "optimizer = torch.optim.Adam(model.parameters(), lr=learning_rate)"
   ]
  },
  {
   "cell_type": "code",
   "execution_count": 18,
   "id": "c89a046d-ca12-4619-9661-1950d70128b5",
   "metadata": {},
   "outputs": [],
   "source": [
    "criterion = nn.L1Loss(reduction='mean')"
   ]
  },
  {
   "cell_type": "code",
   "execution_count": 19,
   "id": "69da9fc0-d6f1-43a8-a611-47a31b0cd5ef",
   "metadata": {},
   "outputs": [],
   "source": [
    "num_epochs = 400\n",
    "early_stopping_epochs = 10"
   ]
  },
  {
   "cell_type": "code",
   "execution_count": 20,
   "id": "01922543-2e2d-4afb-97c8-62cf0d0c0052",
   "metadata": {
    "scrolled": true,
    "tags": []
   },
   "outputs": [
    {
     "name": "stdout",
     "output_type": "stream",
     "text": [
      "Epoch 0, train loss: 78.51, validation loss: 142.66, last day valid loss: 143.74\n",
      "Epoch 1, train loss: 64.48, validation loss: 126.17, last day valid loss: 127.19\n",
      "Epoch 2, train loss: 51.38, validation loss: 112.27, last day valid loss: 113.28\n",
      "Epoch 3, train loss: 45.66, validation loss: 103.31, last day valid loss: 104.28\n",
      "Epoch 4, train loss: 41.61, validation loss: 96.75, last day valid loss: 97.70\n",
      "Epoch 5, train loss: 38.86, validation loss: 91.48, last day valid loss: 92.33\n",
      "Epoch 6, train loss: 37.28, validation loss: 86.87, last day valid loss: 87.62\n",
      "Epoch 7, train loss: 34.88, validation loss: 83.11, last day valid loss: 83.83\n",
      "Epoch 8, train loss: 33.29, validation loss: 79.59, last day valid loss: 80.28\n",
      "Epoch 9, train loss: 31.98, validation loss: 76.77, last day valid loss: 77.42\n",
      "Epoch 10, train loss: 30.99, validation loss: 73.74, last day valid loss: 74.40\n",
      "Epoch 11, train loss: 30.05, validation loss: 71.46, last day valid loss: 72.05\n",
      "Epoch 12, train loss: 29.63, validation loss: 69.29, last day valid loss: 69.90\n",
      "Epoch 13, train loss: 28.25, validation loss: 67.33, last day valid loss: 67.88\n",
      "Epoch 14, train loss: 27.50, validation loss: 65.68, last day valid loss: 66.16\n",
      "Epoch 15, train loss: 26.80, validation loss: 64.27, last day valid loss: 64.74\n",
      "Epoch 16, train loss: 26.29, validation loss: 62.71, last day valid loss: 63.14\n",
      "Epoch 17, train loss: 25.56, validation loss: 61.19, last day valid loss: 61.68\n",
      "Epoch 18, train loss: 25.02, validation loss: 59.62, last day valid loss: 60.08\n",
      "Epoch 19, train loss: 24.54, validation loss: 58.53, last day valid loss: 58.99\n",
      "Epoch 20, train loss: 23.95, validation loss: 57.29, last day valid loss: 57.65\n",
      "Epoch 21, train loss: 23.43, validation loss: 56.01, last day valid loss: 56.38\n",
      "Epoch 22, train loss: 22.89, validation loss: 54.99, last day valid loss: 55.32\n",
      "Epoch 23, train loss: 22.49, validation loss: 54.08, last day valid loss: 54.44\n",
      "Epoch 24, train loss: 22.29, validation loss: 53.12, last day valid loss: 53.43\n",
      "Epoch 25, train loss: 21.80, validation loss: 52.47, last day valid loss: 52.87\n",
      "Epoch 26, train loss: 21.32, validation loss: 52.00, last day valid loss: 52.34\n",
      "Epoch 27, train loss: 20.98, validation loss: 50.79, last day valid loss: 51.13\n",
      "Epoch 28, train loss: 20.72, validation loss: 51.02, last day valid loss: 51.28\n",
      "Epoch 29, train loss: 20.59, validation loss: 49.52, last day valid loss: 49.77\n",
      "Epoch 30, train loss: 20.10, validation loss: 48.94, last day valid loss: 49.23\n",
      "Epoch 31, train loss: 19.76, validation loss: 48.48, last day valid loss: 48.84\n",
      "Epoch 32, train loss: 19.53, validation loss: 47.56, last day valid loss: 47.86\n",
      "Epoch 33, train loss: 19.33, validation loss: 47.24, last day valid loss: 47.56\n",
      "Epoch 34, train loss: 18.99, validation loss: 46.68, last day valid loss: 46.95\n",
      "Epoch 35, train loss: 18.77, validation loss: 46.32, last day valid loss: 46.57\n",
      "Epoch 36, train loss: 18.49, validation loss: 45.82, last day valid loss: 46.11\n",
      "Epoch 37, train loss: 18.17, validation loss: 45.83, last day valid loss: 46.20\n",
      "Epoch 38, train loss: 18.03, validation loss: 44.98, last day valid loss: 45.26\n",
      "Epoch 39, train loss: 17.93, validation loss: 44.48, last day valid loss: 44.71\n",
      "Epoch 40, train loss: 17.65, validation loss: 45.47, last day valid loss: 45.85\n",
      "Epoch 41, train loss: 17.42, validation loss: 43.80, last day valid loss: 43.99\n",
      "Epoch 42, train loss: 17.35, validation loss: 43.71, last day valid loss: 43.92\n",
      "Epoch 43, train loss: 17.09, validation loss: 43.29, last day valid loss: 43.49\n",
      "Epoch 44, train loss: 16.88, validation loss: 42.97, last day valid loss: 43.15\n",
      "Epoch 45, train loss: 16.67, validation loss: 42.92, last day valid loss: 43.07\n",
      "Epoch 46, train loss: 16.47, validation loss: 42.85, last day valid loss: 43.04\n",
      "Epoch 47, train loss: 16.31, validation loss: 42.00, last day valid loss: 42.21\n",
      "Epoch 48, train loss: 16.18, validation loss: 42.11, last day valid loss: 42.24\n",
      "Epoch 49, train loss: 16.01, validation loss: 41.28, last day valid loss: 41.40\n",
      "Epoch 50, train loss: 15.76, validation loss: 41.01, last day valid loss: 41.10\n",
      "Epoch 51, train loss: 15.54, validation loss: 41.34, last day valid loss: 41.42\n",
      "Epoch 52, train loss: 15.53, validation loss: 40.54, last day valid loss: 40.64\n",
      "Epoch 53, train loss: 15.35, validation loss: 40.05, last day valid loss: 40.12\n",
      "Epoch 54, train loss: 15.15, validation loss: 40.37, last day valid loss: 40.37\n",
      "Epoch 55, train loss: 15.01, validation loss: 39.44, last day valid loss: 39.51\n",
      "Epoch 56, train loss: 14.79, validation loss: 39.46, last day valid loss: 39.51\n",
      "Epoch 57, train loss: 14.65, validation loss: 39.34, last day valid loss: 39.55\n",
      "Epoch 58, train loss: 14.50, validation loss: 38.54, last day valid loss: 38.61\n",
      "Epoch 59, train loss: 14.39, validation loss: 38.57, last day valid loss: 38.69\n",
      "Epoch 60, train loss: 14.19, validation loss: 38.24, last day valid loss: 38.33\n",
      "Epoch 61, train loss: 14.11, validation loss: 38.09, last day valid loss: 38.21\n",
      "Epoch 62, train loss: 14.11, validation loss: 37.80, last day valid loss: 37.85\n",
      "Epoch 63, train loss: 13.67, validation loss: 38.20, last day valid loss: 38.37\n",
      "Epoch 64, train loss: 13.59, validation loss: 37.29, last day valid loss: 37.40\n",
      "Epoch 65, train loss: 13.50, validation loss: 36.97, last day valid loss: 36.97\n",
      "Epoch 66, train loss: 13.32, validation loss: 37.09, last day valid loss: 37.18\n",
      "Epoch 67, train loss: 13.21, validation loss: 36.69, last day valid loss: 36.76\n",
      "Epoch 68, train loss: 13.27, validation loss: 36.70, last day valid loss: 36.87\n",
      "Epoch 69, train loss: 12.89, validation loss: 36.35, last day valid loss: 36.47\n",
      "Epoch 70, train loss: 12.90, validation loss: 37.47, last day valid loss: 37.55\n",
      "Epoch 71, train loss: 12.68, validation loss: 35.86, last day valid loss: 35.89\n",
      "Epoch 72, train loss: 12.75, validation loss: 36.02, last day valid loss: 35.98\n",
      "Epoch 73, train loss: 12.40, validation loss: 35.55, last day valid loss: 35.63\n",
      "Epoch 74, train loss: 12.33, validation loss: 35.34, last day valid loss: 35.41\n",
      "Epoch 75, train loss: 12.32, validation loss: 35.38, last day valid loss: 35.40\n",
      "Epoch 76, train loss: 12.19, validation loss: 34.83, last day valid loss: 34.89\n",
      "Epoch 77, train loss: 11.95, validation loss: 34.88, last day valid loss: 34.93\n",
      "Epoch 78, train loss: 12.01, validation loss: 34.43, last day valid loss: 34.51\n",
      "Epoch 79, train loss: 11.70, validation loss: 34.19, last day valid loss: 34.28\n",
      "Epoch 80, train loss: 11.54, validation loss: 34.16, last day valid loss: 34.29\n",
      "Epoch 81, train loss: 11.48, validation loss: 34.36, last day valid loss: 34.40\n",
      "Epoch 82, train loss: 11.36, validation loss: 33.66, last day valid loss: 33.74\n",
      "Epoch 83, train loss: 11.43, validation loss: 33.97, last day valid loss: 34.10\n",
      "Epoch 84, train loss: 11.22, validation loss: 33.57, last day valid loss: 33.69\n",
      "Epoch 85, train loss: 11.33, validation loss: 33.39, last day valid loss: 33.49\n",
      "Epoch 86, train loss: 10.93, validation loss: 33.27, last day valid loss: 33.31\n",
      "Epoch 87, train loss: 10.90, validation loss: 33.28, last day valid loss: 33.46\n",
      "Epoch 88, train loss: 10.79, validation loss: 32.91, last day valid loss: 32.91\n",
      "Epoch 89, train loss: 10.76, validation loss: 33.77, last day valid loss: 34.04\n",
      "Epoch 90, train loss: 10.64, validation loss: 32.74, last day valid loss: 32.77\n",
      "Epoch 91, train loss: 10.61, validation loss: 32.37, last day valid loss: 32.39\n",
      "Epoch 92, train loss: 10.40, validation loss: 32.28, last day valid loss: 32.34\n",
      "Epoch 93, train loss: 10.27, validation loss: 32.51, last day valid loss: 32.50\n",
      "Epoch 94, train loss: 10.37, validation loss: 32.00, last day valid loss: 32.14\n",
      "Epoch 95, train loss: 10.15, validation loss: 31.61, last day valid loss: 31.70\n",
      "Epoch 96, train loss: 10.01, validation loss: 31.64, last day valid loss: 31.84\n",
      "Epoch 97, train loss: 9.93, validation loss: 31.39, last day valid loss: 31.42\n",
      "Epoch 98, train loss: 9.97, validation loss: 31.05, last day valid loss: 31.14\n",
      "Epoch 99, train loss: 9.86, validation loss: 31.18, last day valid loss: 31.25\n",
      "Epoch 100, train loss: 9.64, validation loss: 30.69, last day valid loss: 30.77\n",
      "Epoch 101, train loss: 9.82, validation loss: 30.55, last day valid loss: 30.63\n",
      "Epoch 102, train loss: 9.45, validation loss: 30.52, last day valid loss: 30.61\n",
      "Epoch 103, train loss: 9.38, validation loss: 30.44, last day valid loss: 30.42\n",
      "Epoch 104, train loss: 9.43, validation loss: 30.05, last day valid loss: 30.19\n",
      "Epoch 105, train loss: 9.24, validation loss: 29.93, last day valid loss: 30.04\n",
      "Epoch 106, train loss: 9.48, validation loss: 29.85, last day valid loss: 29.94\n",
      "Epoch 107, train loss: 9.18, validation loss: 29.99, last day valid loss: 30.03\n",
      "Epoch 108, train loss: 9.06, validation loss: 29.73, last day valid loss: 29.85\n",
      "Epoch 109, train loss: 9.24, validation loss: 29.62, last day valid loss: 29.75\n",
      "Epoch 110, train loss: 9.35, validation loss: 30.23, last day valid loss: 30.22\n",
      "Epoch 111, train loss: 8.87, validation loss: 30.41, last day valid loss: 30.52\n",
      "Epoch 112, train loss: 8.80, validation loss: 28.89, last day valid loss: 28.95\n",
      "Epoch 113, train loss: 8.74, validation loss: 28.90, last day valid loss: 28.99\n",
      "Epoch 114, train loss: 8.71, validation loss: 28.73, last day valid loss: 28.78\n",
      "Epoch 115, train loss: 8.82, validation loss: 29.32, last day valid loss: 29.30\n",
      "Epoch 116, train loss: 8.46, validation loss: 28.17, last day valid loss: 28.23\n",
      "Epoch 117, train loss: 8.38, validation loss: 28.87, last day valid loss: 28.94\n",
      "Epoch 118, train loss: 8.36, validation loss: 28.09, last day valid loss: 28.11\n",
      "Epoch 119, train loss: 8.37, validation loss: 28.16, last day valid loss: 28.24\n",
      "Epoch 120, train loss: 8.30, validation loss: 27.86, last day valid loss: 27.88\n",
      "Epoch 121, train loss: 8.34, validation loss: 27.56, last day valid loss: 27.55\n",
      "Epoch 122, train loss: 8.06, validation loss: 27.71, last day valid loss: 27.79\n",
      "Epoch 123, train loss: 8.08, validation loss: 27.63, last day valid loss: 27.72\n",
      "Epoch 124, train loss: 7.87, validation loss: 27.32, last day valid loss: 27.37\n",
      "Epoch 125, train loss: 7.98, validation loss: 28.12, last day valid loss: 28.29\n",
      "Epoch 126, train loss: 8.00, validation loss: 27.80, last day valid loss: 28.02\n",
      "Epoch 127, train loss: 7.97, validation loss: 26.89, last day valid loss: 26.98\n",
      "Epoch 128, train loss: 7.78, validation loss: 27.19, last day valid loss: 27.24\n",
      "Epoch 129, train loss: 7.70, validation loss: 26.41, last day valid loss: 26.52\n",
      "Epoch 130, train loss: 7.56, validation loss: 27.26, last day valid loss: 27.25\n",
      "Epoch 131, train loss: 7.57, validation loss: 26.61, last day valid loss: 26.68\n",
      "Epoch 132, train loss: 7.56, validation loss: 26.51, last day valid loss: 26.62\n",
      "Epoch 133, train loss: 7.47, validation loss: 26.87, last day valid loss: 27.01\n",
      "Epoch 134, train loss: 7.39, validation loss: 25.68, last day valid loss: 25.77\n",
      "Epoch 135, train loss: 7.40, validation loss: 25.82, last day valid loss: 25.81\n",
      "Epoch 136, train loss: 7.24, validation loss: 25.93, last day valid loss: 26.04\n",
      "Epoch 137, train loss: 7.53, validation loss: 25.39, last day valid loss: 25.45\n",
      "Epoch 138, train loss: 7.13, validation loss: 24.90, last day valid loss: 24.90\n",
      "Epoch 139, train loss: 6.99, validation loss: 25.27, last day valid loss: 25.29\n",
      "Epoch 140, train loss: 6.95, validation loss: 25.30, last day valid loss: 25.46\n",
      "Epoch 141, train loss: 7.28, validation loss: 24.69, last day valid loss: 24.73\n",
      "Epoch 142, train loss: 6.91, validation loss: 25.19, last day valid loss: 25.24\n",
      "Epoch 143, train loss: 6.93, validation loss: 24.17, last day valid loss: 24.24\n",
      "Epoch 144, train loss: 6.66, validation loss: 25.09, last day valid loss: 25.34\n",
      "Epoch 145, train loss: 6.69, validation loss: 24.01, last day valid loss: 24.06\n",
      "Epoch 146, train loss: 6.61, validation loss: 23.88, last day valid loss: 23.93\n",
      "Epoch 147, train loss: 6.57, validation loss: 24.05, last day valid loss: 24.11\n",
      "Epoch 148, train loss: 6.55, validation loss: 23.83, last day valid loss: 23.85\n",
      "Epoch 149, train loss: 6.56, validation loss: 23.82, last day valid loss: 23.86\n",
      "Epoch 150, train loss: 6.42, validation loss: 23.49, last day valid loss: 23.57\n",
      "Epoch 151, train loss: 6.47, validation loss: 23.48, last day valid loss: 23.55\n",
      "Epoch 152, train loss: 6.31, validation loss: 23.79, last day valid loss: 23.98\n",
      "Epoch 153, train loss: 6.28, validation loss: 23.27, last day valid loss: 23.29\n",
      "Epoch 154, train loss: 6.17, validation loss: 24.33, last day valid loss: 24.59\n",
      "Epoch 155, train loss: 6.20, validation loss: 23.12, last day valid loss: 23.08\n",
      "Epoch 156, train loss: 6.16, validation loss: 22.92, last day valid loss: 22.91\n",
      "Epoch 157, train loss: 6.21, validation loss: 22.48, last day valid loss: 22.41\n",
      "Epoch 158, train loss: 6.15, validation loss: 22.18, last day valid loss: 22.21\n",
      "Epoch 159, train loss: 6.27, validation loss: 22.37, last day valid loss: 22.42\n",
      "Epoch 160, train loss: 5.97, validation loss: 22.00, last day valid loss: 22.05\n",
      "Epoch 161, train loss: 5.97, validation loss: 22.12, last day valid loss: 22.14\n",
      "Epoch 162, train loss: 5.78, validation loss: 21.92, last day valid loss: 21.91\n",
      "Epoch 163, train loss: 6.06, validation loss: 21.92, last day valid loss: 21.84\n",
      "Epoch 164, train loss: 5.78, validation loss: 21.95, last day valid loss: 22.05\n",
      "Epoch 165, train loss: 5.88, validation loss: 21.63, last day valid loss: 21.69\n",
      "Epoch 166, train loss: 5.72, validation loss: 21.64, last day valid loss: 21.73\n",
      "Epoch 167, train loss: 5.75, validation loss: 21.28, last day valid loss: 21.40\n",
      "Epoch 168, train loss: 5.57, validation loss: 21.00, last day valid loss: 21.11\n",
      "Epoch 169, train loss: 5.56, validation loss: 21.13, last day valid loss: 21.24\n",
      "Epoch 170, train loss: 5.64, validation loss: 22.12, last day valid loss: 22.25\n",
      "Epoch 171, train loss: 5.50, validation loss: 20.67, last day valid loss: 20.70\n",
      "Epoch 172, train loss: 5.49, validation loss: 21.03, last day valid loss: 21.11\n",
      "Epoch 173, train loss: 5.56, validation loss: 20.97, last day valid loss: 21.06\n",
      "Epoch 174, train loss: 5.33, validation loss: 20.42, last day valid loss: 20.53\n",
      "Epoch 175, train loss: 5.33, validation loss: 20.51, last day valid loss: 20.55\n",
      "Epoch 176, train loss: 5.26, validation loss: 20.09, last day valid loss: 20.14\n",
      "Epoch 177, train loss: 5.32, validation loss: 20.60, last day valid loss: 20.65\n",
      "Epoch 178, train loss: 5.24, validation loss: 19.83, last day valid loss: 19.92\n",
      "Epoch 179, train loss: 5.20, validation loss: 19.79, last day valid loss: 19.84\n",
      "Epoch 180, train loss: 5.10, validation loss: 19.85, last day valid loss: 19.91\n",
      "Epoch 181, train loss: 5.16, validation loss: 19.44, last day valid loss: 19.44\n",
      "Epoch 182, train loss: 5.03, validation loss: 19.75, last day valid loss: 19.87\n",
      "Epoch 183, train loss: 5.00, validation loss: 19.32, last day valid loss: 19.34\n",
      "Epoch 184, train loss: 4.96, validation loss: 19.64, last day valid loss: 19.74\n",
      "Epoch 185, train loss: 4.95, validation loss: 19.69, last day valid loss: 19.72\n",
      "Epoch 186, train loss: 5.04, validation loss: 19.16, last day valid loss: 19.32\n",
      "Epoch 187, train loss: 5.09, validation loss: 19.24, last day valid loss: 19.26\n",
      "Epoch 188, train loss: 4.86, validation loss: 18.83, last day valid loss: 18.93\n",
      "Epoch 189, train loss: 4.77, validation loss: 18.82, last day valid loss: 18.86\n",
      "Epoch 190, train loss: 4.82, validation loss: 19.64, last day valid loss: 19.72\n",
      "Epoch 191, train loss: 5.06, validation loss: 18.59, last day valid loss: 18.75\n",
      "Epoch 192, train loss: 4.82, validation loss: 19.10, last day valid loss: 19.16\n",
      "Epoch 193, train loss: 4.70, validation loss: 18.48, last day valid loss: 18.50\n",
      "Epoch 194, train loss: 4.71, validation loss: 18.80, last day valid loss: 18.82\n",
      "Epoch 195, train loss: 4.66, validation loss: 17.84, last day valid loss: 17.86\n",
      "Epoch 196, train loss: 4.61, validation loss: 18.11, last day valid loss: 18.18\n",
      "Epoch 197, train loss: 4.52, validation loss: 18.18, last day valid loss: 18.38\n",
      "Epoch 198, train loss: 4.55, validation loss: 17.85, last day valid loss: 17.97\n",
      "Epoch 199, train loss: 4.49, validation loss: 17.99, last day valid loss: 18.09\n",
      "Epoch 200, train loss: 4.54, validation loss: 18.06, last day valid loss: 18.22\n",
      "Epoch 201, train loss: 4.56, validation loss: 17.61, last day valid loss: 17.65\n",
      "Epoch 202, train loss: 4.53, validation loss: 18.60, last day valid loss: 18.79\n",
      "Epoch 203, train loss: 4.46, validation loss: 18.00, last day valid loss: 18.16\n",
      "Epoch 204, train loss: 4.42, validation loss: 17.49, last day valid loss: 17.53\n",
      "Epoch 205, train loss: 4.33, validation loss: 17.75, last day valid loss: 17.82\n",
      "Epoch 206, train loss: 4.39, validation loss: 17.49, last day valid loss: 17.56\n",
      "Epoch 207, train loss: 4.43, validation loss: 17.10, last day valid loss: 17.19\n",
      "Epoch 208, train loss: 4.34, validation loss: 17.02, last day valid loss: 17.10\n",
      "Epoch 209, train loss: 4.24, validation loss: 16.75, last day valid loss: 16.78\n",
      "Epoch 210, train loss: 4.39, validation loss: 16.90, last day valid loss: 16.91\n",
      "Epoch 211, train loss: 4.15, validation loss: 16.65, last day valid loss: 16.73\n",
      "Epoch 212, train loss: 4.14, validation loss: 16.54, last day valid loss: 16.63\n",
      "Epoch 213, train loss: 4.13, validation loss: 16.47, last day valid loss: 16.53\n",
      "Epoch 214, train loss: 4.08, validation loss: 16.38, last day valid loss: 16.43\n",
      "Epoch 215, train loss: 4.30, validation loss: 16.49, last day valid loss: 16.57\n",
      "Epoch 216, train loss: 4.16, validation loss: 17.02, last day valid loss: 17.15\n",
      "Epoch 217, train loss: 4.30, validation loss: 16.65, last day valid loss: 16.76\n",
      "Epoch 218, train loss: 4.06, validation loss: 16.62, last day valid loss: 16.78\n",
      "Epoch 219, train loss: 4.08, validation loss: 16.06, last day valid loss: 16.06\n",
      "Epoch 220, train loss: 4.05, validation loss: 17.03, last day valid loss: 17.37\n",
      "Epoch 221, train loss: 4.08, validation loss: 16.24, last day valid loss: 16.40\n",
      "Epoch 222, train loss: 4.03, validation loss: 16.11, last day valid loss: 16.14\n",
      "Epoch 223, train loss: 4.00, validation loss: 15.86, last day valid loss: 15.89\n",
      "Epoch 224, train loss: 4.08, validation loss: 15.79, last day valid loss: 15.86\n",
      "Epoch 225, train loss: 3.85, validation loss: 15.72, last day valid loss: 15.74\n",
      "Epoch 226, train loss: 4.32, validation loss: 16.04, last day valid loss: 16.08\n",
      "Epoch 227, train loss: 4.11, validation loss: 15.97, last day valid loss: 16.17\n",
      "Epoch 228, train loss: 3.94, validation loss: 15.95, last day valid loss: 16.11\n",
      "Epoch 229, train loss: 3.95, validation loss: 16.50, last day valid loss: 16.74\n",
      "Epoch 230, train loss: 3.94, validation loss: 15.58, last day valid loss: 15.62\n",
      "Epoch 231, train loss: 3.89, validation loss: 15.76, last day valid loss: 15.97\n",
      "Epoch 232, train loss: 3.80, validation loss: 15.17, last day valid loss: 15.37\n",
      "Epoch 233, train loss: 3.77, validation loss: 15.67, last day valid loss: 15.79\n",
      "Epoch 234, train loss: 3.83, validation loss: 15.32, last day valid loss: 15.41\n",
      "Epoch 235, train loss: 3.97, validation loss: 15.20, last day valid loss: 15.26\n",
      "Epoch 236, train loss: 3.70, validation loss: 15.17, last day valid loss: 15.23\n",
      "Epoch 237, train loss: 3.79, validation loss: 15.34, last day valid loss: 15.54\n",
      "Epoch 238, train loss: 3.73, validation loss: 15.15, last day valid loss: 15.24\n",
      "Epoch 239, train loss: 3.87, validation loss: 15.30, last day valid loss: 15.37\n",
      "Epoch 240, train loss: 3.78, validation loss: 14.65, last day valid loss: 14.75\n",
      "Epoch 241, train loss: 3.74, validation loss: 15.20, last day valid loss: 15.34\n",
      "Epoch 242, train loss: 3.68, validation loss: 14.64, last day valid loss: 14.70\n",
      "Epoch 243, train loss: 3.51, validation loss: 14.67, last day valid loss: 14.74\n",
      "Epoch 244, train loss: 3.62, validation loss: 14.68, last day valid loss: 14.84\n",
      "Epoch 245, train loss: 3.73, validation loss: 14.98, last day valid loss: 15.20\n",
      "Epoch 246, train loss: 3.70, validation loss: 14.57, last day valid loss: 14.68\n",
      "Epoch 247, train loss: 3.60, validation loss: 14.41, last day valid loss: 14.54\n",
      "Epoch 248, train loss: 3.58, validation loss: 14.48, last day valid loss: 14.45\n",
      "Epoch 249, train loss: 3.53, validation loss: 14.57, last day valid loss: 14.81\n",
      "Epoch 250, train loss: 3.55, validation loss: 14.62, last day valid loss: 14.84\n",
      "Epoch 251, train loss: 3.46, validation loss: 14.38, last day valid loss: 14.41\n",
      "Epoch 252, train loss: 3.50, validation loss: 15.80, last day valid loss: 16.09\n",
      "Epoch 253, train loss: 3.70, validation loss: 14.20, last day valid loss: 14.27\n",
      "Epoch 254, train loss: 3.65, validation loss: 14.08, last day valid loss: 14.24\n",
      "Epoch 255, train loss: 3.46, validation loss: 14.08, last day valid loss: 14.24\n",
      "Epoch 256, train loss: 3.43, validation loss: 14.59, last day valid loss: 14.65\n",
      "Epoch 257, train loss: 3.37, validation loss: 14.19, last day valid loss: 14.24\n",
      "Epoch 258, train loss: 3.47, validation loss: 14.45, last day valid loss: 14.52\n",
      "Epoch 259, train loss: 3.45, validation loss: 13.80, last day valid loss: 13.80\n",
      "Epoch 260, train loss: 3.44, validation loss: 14.09, last day valid loss: 14.24\n",
      "Epoch 261, train loss: 3.44, validation loss: 14.16, last day valid loss: 14.33\n",
      "Epoch 262, train loss: 3.41, validation loss: 15.71, last day valid loss: 15.87\n",
      "Epoch 263, train loss: 3.49, validation loss: 13.64, last day valid loss: 13.68\n",
      "Epoch 264, train loss: 3.42, validation loss: 13.73, last day valid loss: 13.91\n",
      "Epoch 265, train loss: 3.47, validation loss: 13.76, last day valid loss: 13.90\n",
      "Epoch 266, train loss: 3.49, validation loss: 13.98, last day valid loss: 13.99\n",
      "Epoch 267, train loss: 3.43, validation loss: 13.80, last day valid loss: 13.88\n",
      "Epoch 268, train loss: 3.45, validation loss: 14.06, last day valid loss: 14.40\n",
      "Epoch 269, train loss: 3.41, validation loss: 13.79, last day valid loss: 13.69\n",
      "Epoch 270, train loss: 3.36, validation loss: 13.33, last day valid loss: 13.38\n",
      "Epoch 271, train loss: 3.38, validation loss: 13.93, last day valid loss: 14.13\n",
      "Epoch 272, train loss: 3.33, validation loss: 13.37, last day valid loss: 13.44\n",
      "Epoch 273, train loss: 3.39, validation loss: 13.65, last day valid loss: 13.60\n",
      "Epoch 274, train loss: 3.33, validation loss: 13.14, last day valid loss: 13.15\n",
      "Epoch 275, train loss: 3.28, validation loss: 12.99, last day valid loss: 13.00\n",
      "Epoch 276, train loss: 3.36, validation loss: 13.03, last day valid loss: 12.98\n",
      "Epoch 277, train loss: 3.23, validation loss: 13.12, last day valid loss: 13.18\n",
      "Epoch 278, train loss: 3.35, validation loss: 12.95, last day valid loss: 13.13\n",
      "Epoch 279, train loss: 3.34, validation loss: 13.07, last day valid loss: 13.08\n",
      "Epoch 280, train loss: 3.27, validation loss: 12.59, last day valid loss: 12.69\n",
      "Epoch 281, train loss: 3.15, validation loss: 12.49, last day valid loss: 12.56\n",
      "Epoch 282, train loss: 3.19, validation loss: 12.96, last day valid loss: 13.13\n",
      "Epoch 283, train loss: 3.21, validation loss: 12.71, last day valid loss: 12.80\n",
      "Epoch 284, train loss: 3.28, validation loss: 12.98, last day valid loss: 13.02\n",
      "Epoch 285, train loss: 3.18, validation loss: 13.02, last day valid loss: 13.09\n",
      "Epoch 286, train loss: 3.17, validation loss: 13.10, last day valid loss: 13.12\n",
      "Epoch 287, train loss: 3.23, validation loss: 12.65, last day valid loss: 12.90\n",
      "Epoch 288, train loss: 3.29, validation loss: 13.25, last day valid loss: 13.41\n",
      "Epoch 289, train loss: 3.35, validation loss: 12.56, last day valid loss: 12.57\n",
      "Epoch 290, train loss: 3.12, validation loss: 12.60, last day valid loss: 12.64\n",
      "Epoch 291, train loss: 3.14, validation loss: 12.48, last day valid loss: 12.67\n",
      "Epoch 292, train loss: 3.14, validation loss: 13.32, last day valid loss: 13.45\n",
      "Epoch 293, train loss: 3.21, validation loss: 12.66, last day valid loss: 12.66\n",
      "Epoch 294, train loss: 3.07, validation loss: 12.64, last day valid loss: 12.85\n",
      "Epoch 295, train loss: 3.07, validation loss: 12.52, last day valid loss: 12.53\n",
      "Epoch 296, train loss: 3.17, validation loss: 12.28, last day valid loss: 12.37\n",
      "Epoch 297, train loss: 3.17, validation loss: 11.84, last day valid loss: 11.91\n",
      "Epoch 298, train loss: 3.05, validation loss: 12.07, last day valid loss: 12.20\n",
      "Epoch 299, train loss: 3.06, validation loss: 12.61, last day valid loss: 12.69\n",
      "Epoch 300, train loss: 3.09, validation loss: 11.86, last day valid loss: 12.05\n",
      "Epoch 301, train loss: 3.15, validation loss: 11.97, last day valid loss: 12.00\n",
      "Epoch 302, train loss: 3.20, validation loss: 11.83, last day valid loss: 11.91\n",
      "Epoch 303, train loss: 3.01, validation loss: 12.99, last day valid loss: 13.36\n",
      "Epoch 304, train loss: 3.01, validation loss: 11.86, last day valid loss: 11.92\n",
      "Epoch 305, train loss: 3.09, validation loss: 11.98, last day valid loss: 12.01\n",
      "Epoch 306, train loss: 3.06, validation loss: 12.02, last day valid loss: 12.09\n",
      "Epoch 307, train loss: 3.09, validation loss: 11.87, last day valid loss: 12.07\n",
      "Epoch 308, train loss: 3.00, validation loss: 12.31, last day valid loss: 12.56\n",
      "Epoch 309, train loss: 3.02, validation loss: 12.33, last day valid loss: 12.42\n",
      "Epoch 310, train loss: 3.12, validation loss: 11.63, last day valid loss: 11.78\n",
      "Epoch 311, train loss: 3.11, validation loss: 11.70, last day valid loss: 11.75\n",
      "Epoch 312, train loss: 2.99, validation loss: 11.27, last day valid loss: 11.26\n",
      "Epoch 313, train loss: 2.93, validation loss: 11.67, last day valid loss: 11.93\n",
      "Epoch 314, train loss: 2.98, validation loss: 11.18, last day valid loss: 11.26\n",
      "Epoch 315, train loss: 2.85, validation loss: 11.23, last day valid loss: 11.37\n",
      "Epoch 316, train loss: 2.84, validation loss: 11.19, last day valid loss: 11.19\n",
      "Epoch 317, train loss: 2.87, validation loss: 11.43, last day valid loss: 11.48\n",
      "Epoch 318, train loss: 2.88, validation loss: 11.22, last day valid loss: 11.34\n",
      "Epoch 319, train loss: 3.02, validation loss: 11.23, last day valid loss: 11.36\n",
      "Epoch 320, train loss: 2.86, validation loss: 11.07, last day valid loss: 11.27\n",
      "Epoch 321, train loss: 2.85, validation loss: 10.84, last day valid loss: 10.96\n",
      "Epoch 322, train loss: 2.81, validation loss: 11.19, last day valid loss: 11.26\n",
      "Epoch 323, train loss: 2.95, validation loss: 11.12, last day valid loss: 11.11\n",
      "Epoch 324, train loss: 2.87, validation loss: 11.34, last day valid loss: 11.48\n",
      "Epoch 325, train loss: 2.94, validation loss: 10.91, last day valid loss: 11.00\n",
      "Epoch 326, train loss: 2.95, validation loss: 11.16, last day valid loss: 11.34\n",
      "Epoch 327, train loss: 2.75, validation loss: 10.89, last day valid loss: 10.95\n",
      "Epoch 328, train loss: 2.82, validation loss: 11.42, last day valid loss: 11.42\n",
      "Epoch 329, train loss: 2.71, validation loss: 10.95, last day valid loss: 10.98\n",
      "Epoch 330, train loss: 2.78, validation loss: 10.51, last day valid loss: 10.57\n",
      "Epoch 331, train loss: 2.85, validation loss: 10.93, last day valid loss: 10.99\n",
      "Epoch 332, train loss: 2.73, validation loss: 10.82, last day valid loss: 10.89\n",
      "Epoch 333, train loss: 2.96, validation loss: 11.21, last day valid loss: 11.34\n",
      "Epoch 334, train loss: 2.90, validation loss: 10.22, last day valid loss: 10.25\n",
      "Epoch 335, train loss: 2.83, validation loss: 10.58, last day valid loss: 10.71\n",
      "Epoch 336, train loss: 2.71, validation loss: 10.25, last day valid loss: 10.33\n",
      "Epoch 337, train loss: 2.78, validation loss: 10.18, last day valid loss: 10.21\n",
      "Epoch 338, train loss: 2.64, validation loss: 10.36, last day valid loss: 10.37\n",
      "Epoch 339, train loss: 2.70, validation loss: 10.89, last day valid loss: 11.07\n",
      "Epoch 340, train loss: 2.91, validation loss: 10.69, last day valid loss: 10.69\n",
      "Epoch 341, train loss: 2.86, validation loss: 10.02, last day valid loss: 10.14\n",
      "Epoch 342, train loss: 2.73, validation loss: 10.07, last day valid loss: 10.14\n",
      "Epoch 343, train loss: 2.61, validation loss: 10.31, last day valid loss: 10.38\n",
      "Epoch 344, train loss: 2.73, validation loss: 10.07, last day valid loss: 10.06\n",
      "Epoch 345, train loss: 2.79, validation loss: 9.95, last day valid loss: 10.00\n",
      "Epoch 346, train loss: 2.60, validation loss: 10.28, last day valid loss: 10.44\n",
      "Epoch 347, train loss: 2.74, validation loss: 10.15, last day valid loss: 10.12\n",
      "Epoch 348, train loss: 2.74, validation loss: 10.25, last day valid loss: 10.49\n",
      "Epoch 349, train loss: 2.73, validation loss: 9.77, last day valid loss: 9.92\n",
      "Epoch 350, train loss: 2.68, validation loss: 10.62, last day valid loss: 10.83\n",
      "Epoch 351, train loss: 2.71, validation loss: 9.71, last day valid loss: 9.74\n",
      "Epoch 352, train loss: 2.70, validation loss: 10.47, last day valid loss: 10.73\n",
      "Epoch 353, train loss: 2.63, validation loss: 9.61, last day valid loss: 9.66\n",
      "Epoch 354, train loss: 2.61, validation loss: 9.59, last day valid loss: 9.66\n",
      "Epoch 355, train loss: 2.73, validation loss: 9.64, last day valid loss: 9.63\n",
      "Epoch 356, train loss: 2.62, validation loss: 9.43, last day valid loss: 9.36\n",
      "Epoch 357, train loss: 2.55, validation loss: 9.51, last day valid loss: 9.59\n",
      "Epoch 358, train loss: 2.67, validation loss: 9.65, last day valid loss: 9.79\n",
      "Epoch 359, train loss: 2.67, validation loss: 9.35, last day valid loss: 9.39\n",
      "Epoch 360, train loss: 2.77, validation loss: 9.37, last day valid loss: 9.44\n",
      "Epoch 361, train loss: 2.56, validation loss: 9.13, last day valid loss: 9.17\n",
      "Epoch 362, train loss: 2.56, validation loss: 9.87, last day valid loss: 9.83\n",
      "Epoch 363, train loss: 2.60, validation loss: 9.16, last day valid loss: 9.19\n",
      "Epoch 364, train loss: 2.58, validation loss: 9.43, last day valid loss: 9.30\n",
      "Epoch 365, train loss: 2.59, validation loss: 9.48, last day valid loss: 9.63\n",
      "Epoch 366, train loss: 2.51, validation loss: 9.37, last day valid loss: 9.43\n",
      "Epoch 367, train loss: 2.55, validation loss: 9.21, last day valid loss: 9.30\n",
      "Epoch 368, train loss: 2.49, validation loss: 9.21, last day valid loss: 9.29\n",
      "Epoch 369, train loss: 2.61, validation loss: 9.87, last day valid loss: 10.04\n",
      "Epoch 370, train loss: 2.63, validation loss: 9.84, last day valid loss: 9.90\n",
      "Epoch 371, train loss: 2.61, validation loss: 9.46, last day valid loss: 9.60\n",
      "Validation loss not improved in the last 10 epochs, breaking...\n",
      "test loss: 24.42, last day test loss: 25.76\n"
     ]
    }
   ],
   "source": [
    "train_hist = []\n",
    "valid_hist = []\n",
    "min_observed_valid_loss = np.inf\n",
    "\n",
    "for epoch in range(num_epochs):\n",
    "    train_loss_per_batch = []\n",
    "    for x, y in train_loader:\n",
    "        x = x.to(device)\n",
    "        y = y.to(device)\n",
    "        model.zero_grad()\n",
    "        y_pred = model(x)\n",
    "        loss = criterion(y_pred, y)\n",
    "        \n",
    "        loss.backward()\n",
    "        optimizer.step()\n",
    "        train_loss_per_batch.append(loss.item())\n",
    "        del x, y\n",
    "        torch.cuda.empty_cache()\n",
    "    train_loss_epoch = np.mean(train_loss_per_batch)\n",
    "    \n",
    "    with torch.no_grad():\n",
    "        y_valid_pred = model(x_valid)\n",
    "        valid_loss_epoch = criterion(y_valid_pred, y_valid)\n",
    "\n",
    "        # last-day loss\n",
    "        last_loss_valid = criterion(y_valid_pred[:, -1, :], y_valid[:, -1, :])\n",
    "\n",
    "        del y_valid_pred\n",
    "        torch.cuda.empty_cache()\n",
    "\n",
    "    min_observed_valid_loss = min(min_observed_valid_loss, valid_loss_epoch)\n",
    "    \n",
    "    train_hist.append(train_loss_epoch)\n",
    "    valid_hist.append(valid_loss_epoch)\n",
    "    \n",
    "    print(f\"Epoch {epoch}, train loss: {train_loss_epoch:.2f}, validation loss: {valid_loss_epoch:.2f}, last day valid loss: {last_loss_valid:.2f}\")\n",
    "    \n",
    "    if epoch > early_stopping_epochs:\n",
    "        if min_observed_valid_loss < min(valid_hist[-10:]):\n",
    "            print(f\"Validation loss not improved in the last {early_stopping_epochs} epochs, breaking...\")\n",
    "            break\n",
    "\n",
    "y_test_pred = model(x_test)\n",
    "test_loss = criterion(y_test_pred, y_test)\n",
    "last_loss_test = criterion(y_test_pred[:, -1, :], y_test[:, -1, :])\n",
    "print(f\"test loss: {test_loss:.2f}, last day test loss: {last_loss_test:.2f}\")"
   ]
  },
  {
   "cell_type": "code",
   "execution_count": null,
   "id": "711e6b7e-e58e-42f8-b3e5-d5026e9d8be3",
   "metadata": {},
   "outputs": [],
   "source": [
    "ticker = \"AAPL\""
   ]
  },
  {
   "cell_type": "code",
   "execution_count": 22,
   "id": "03df5558-19ec-4737-ba07-7f12dc2bd807",
   "metadata": {},
   "outputs": [],
   "source": [
    "ticker_ind = np.argwhere(test_data['ticker'] == ticker).squeeze()"
   ]
  },
  {
   "cell_type": "code",
   "execution_count": 23,
   "id": "ba284be7-9f7b-4f06-b0b2-6a3350daba2c",
   "metadata": {},
   "outputs": [],
   "source": [
    "ticker_ypred = y_test_pred.cpu().detach().numpy()[ticker_ind, -1, :]\n",
    "ticker_y = y_test.cpu().detach().numpy()[ticker_ind, -1, :]\n",
    "ticker_dates = test_data['prediction_date'][ticker_ind]"
   ]
  },
  {
   "cell_type": "code",
   "execution_count": 24,
   "id": "513b0b92-949c-44a5-8e56-542787a0eb30",
   "metadata": {},
   "outputs": [
    {
     "data": {
      "text/plain": [
       "[<matplotlib.lines.Line2D at 0x7f438026c820>]"
      ]
     },
     "execution_count": 24,
     "metadata": {},
     "output_type": "execute_result"
    },
    {
     "data": {
      "image/png": "[encoded data removed]",
      "text/plain": [
       "<Figure size 432x288 with 1 Axes>"
      ]
     },
     "metadata": {
      "needs_background": "light"
     },
     "output_type": "display_data"
    }
   ],
   "source": [
    "fig, ax = plt.subplots(figsize=(6, 4))\n",
    "ax.plot(pd.to_datetime(ticker_dates), ticker_y)\n",
    "ax.plot(pd.to_datetime(ticker_dates), ticker_ypred, color=\"C2\")"
   ]
  },
  {
   "cell_type": "code",
   "execution_count": 95,
   "id": "87fade3b-ab6b-455a-8d5e-b037b677f56a",
   "metadata": {},
   "outputs": [
    {
     "data": {
      "text/plain": [
       "torch.Size([64, 30, 53])"
      ]
     },
     "execution_count": 95,
     "metadata": {},
     "output_type": "execute_result"
    }
   ],
   "source": [
    "x.shape"
   ]
  },
  {
   "cell_type": "code",
   "execution_count": 96,
   "id": "e7518070-aaf6-4bc4-8132-ee19e5907dec",
   "metadata": {},
   "outputs": [
    {
     "data": {
      "text/plain": [
       "torch.Size([64, 30, 1])"
      ]
     },
     "execution_count": 96,
     "metadata": {},
     "output_type": "execute_result"
    }
   ],
   "source": [
    "y.shape"
   ]
  },
  {
   "cell_type": "code",
   "execution_count": 94,
   "id": "dfb65646-77c0-489e-af72-57713702443e",
   "metadata": {},
   "outputs": [
    {
     "data": {
      "text/plain": [
       "torch.Size([64, 30, 1])"
      ]
     },
     "execution_count": 94,
     "metadata": {},
     "output_type": "execute_result"
    }
   ],
   "source": [
    "model(x.to(device)).shape"
   ]
  },
  {
   "cell_type": "code",
   "execution_count": null,
   "id": "2d8ef01b-eeb8-44a4-99e4-1b2f3ebf29b3",
   "metadata": {},
   "outputs": [],
   "source": []
  }
 ],
 "metadata": {
  "kernelspec": {
   "display_name": "Python 3",
   "language": "python",
   "name": "python3"
  },
  "language_info": {
   "codemirror_mode": {
    "name": "ipython",
    "version": 3
   },
   "file_extension": ".py",
   "mimetype": "text/x-python",
   "name": "python",
   "nbconvert_exporter": "python",
   "pygments_lexer": "ipython3",
   "version": "3.8.8"
  }
 },
 "nbformat": 4,
 "nbformat_minor": 5
}
