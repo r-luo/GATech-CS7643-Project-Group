{
 "cells": [
  {
   "cell_type": "code",
   "execution_count": 1,
   "id": "619802ef-8335-4789-b02c-7740569430b8",
   "metadata": {},
   "outputs": [
    {
     "name": "stdout",
     "output_type": "stream",
     "text": [
      "Cuda available: True\n"
     ]
    }
   ],
   "source": [
    "%run _common.ipynb"
   ]
  },
  {
   "cell_type": "code",
   "execution_count": 2,
   "id": "459f259a-334e-426f-bf39-a844be16b95d",
   "metadata": {},
   "outputs": [],
   "source": [
    "from src import model_data as md\n",
    "from matplotlib import pylab as plt\n",
    "import pandas as pd"
   ]
  },
  {
   "cell_type": "code",
   "execution_count": 3,
   "id": "58ef9b59-f331-49d4-8b59-6c5fb03e9f01",
   "metadata": {},
   "outputs": [],
   "source": [
    "pipeline = md.MultiTickerPipeline(\n",
    "    target=\"price\",\n",
    "    target_type=\"single\",\n",
    "    model_seq_len=30,\n",
    "    max_overlap=20,\n",
    "    train_periods=[\n",
    "        (\"2012-01-01\", \"2019-12-31\"),\n",
    "    ],\n",
    "    test_periods=[\n",
    "        (\"2020-01-01\", \"2021-04-01\"),\n",
    "    ],\n",
    "    normalization_method=\"log\",\n",
    "    cross_validation_folds=5\n",
    ")"
   ]
  },
  {
   "cell_type": "raw",
   "id": "a68908dd-fbde-4a1e-9858-de251f66b1df",
   "metadata": {
    "tags": []
   },
   "source": [
    "pipeline.prepare_data([\"_all_\"])"
   ]
  },
  {
   "cell_type": "code",
   "execution_count": 4,
   "id": "8df57c8f-f3df-4890-906f-ee43de77db26",
   "metadata": {},
   "outputs": [
    {
     "name": "stderr",
     "output_type": "stream",
     "text": [
      "INFO:src.model_data:Loading generated data from /home/rluo/raid/classes/gatech/cs7643/GATech-CS7643-Project-Group/data/model_data/price-single-96tickers...\n",
      "INFO:src.model_data:  Loading train folds...\n",
      "INFO:src.model_data:  Loading test arrays...\n"
     ]
    }
   ],
   "source": [
    "pipeline.load_data('price-single-96tickers')"
   ]
  },
  {
   "cell_type": "code",
   "execution_count": 5,
   "id": "eed1a257-5979-48e1-a8ec-accce8c71339",
   "metadata": {},
   "outputs": [],
   "source": [
    "train_data = pipeline._train_out\n",
    "test_data = pipeline._test_out"
   ]
  },
  {
   "cell_type": "code",
   "execution_count": 6,
   "id": "d1f9d19b-c180-4c7f-af17-54f4c45c68fb",
   "metadata": {},
   "outputs": [],
   "source": [
    "fold5 = train_data[4]\n",
    "train = fold5['train']\n",
    "valid = fold5['valid']"
   ]
  },
  {
   "cell_type": "code",
   "execution_count": 7,
   "id": "91eb7948-3393-4c1f-b7f4-a620f8c6f6cf",
   "metadata": {},
   "outputs": [],
   "source": [
    "device = \"cuda:0\""
   ]
  },
  {
   "cell_type": "code",
   "execution_count": 8,
   "id": "4dc3a5fb-7e34-43aa-8340-2a1588d68cb5",
   "metadata": {},
   "outputs": [],
   "source": [
    "# x_train, y_train = torch.from_numpy(train['x']).to(device), torch.from_numpy(train['y']).to(device)\n",
    "x_valid, y_valid = torch.from_numpy(valid['x'].astype(\"float32\")).to(device), torch.from_numpy(valid['y'].astype(\"float32\")).to(device)\n",
    "x_test, y_test = torch.from_numpy(test_data['x'].astype(\"float32\")).to(device), torch.from_numpy(test_data['y'].astype(\"float32\")).to(device)"
   ]
  },
  {
   "cell_type": "code",
   "execution_count": 9,
   "id": "3c31da20-39e8-4f8d-aeb6-23c01ecf5dd4",
   "metadata": {},
   "outputs": [],
   "source": [
    "class SeqDataset(torch.utils.data.Dataset):\n",
    "    def __init__(self, datadict):\n",
    "        self.x = datadict['x'].astype(\"float32\")\n",
    "        self.y = datadict['y'].astype(\"float32\")\n",
    "        \n",
    "    def __len__(self):\n",
    "        return self.x.shape[0]\n",
    "\n",
    "    def __getitem__(self, index):\n",
    "        return self.x[index], self.y[index]"
   ]
  },
  {
   "cell_type": "code",
   "execution_count": 10,
   "id": "a4cc02a7-0291-408a-a470-0add20447e99",
   "metadata": {},
   "outputs": [],
   "source": [
    "class SeqModel(nn.Module):\n",
    "    def __init__(self, input_dim, hidden_dim, num_layers, output_dim):\n",
    "        super().__init__()\n",
    "        self.hidden_dim = hidden_dim\n",
    "        self.num_layers = num_layers\n",
    "        #\n",
    "        self.lstm = nn.LSTM(input_dim, hidden_dim, num_layers, batch_first=True)\n",
    "        self.fc = nn.Linear(hidden_dim, output_dim)\n",
    "\n",
    "    def forward(self, x):\n",
    "        h0 = torch.zeros(self.num_layers, x.size(0), self.hidden_dim).requires_grad_().to(device)\n",
    "        c0 = torch.zeros(self.num_layers, x.size(0), self.hidden_dim).requires_grad_().to(device)\n",
    "        out, (hn, cn) = self.lstm(x, (h0.detach(), c0.detach()))\n",
    "        out = self.fc(out[:, -1, :])\n",
    "        return out\n"
   ]
  },
  {
   "cell_type": "code",
   "execution_count": 11,
   "id": "dcc31b71-2b73-4e2f-ba58-59a653767009",
   "metadata": {},
   "outputs": [],
   "source": [
    "input_dim = x_valid.shape[2]\n",
    "output_dim = y_valid.shape[1]"
   ]
  },
  {
   "cell_type": "code",
   "execution_count": 12,
   "id": "fc718aa3-6b21-4e12-95bc-bae3ce5cc70a",
   "metadata": {},
   "outputs": [],
   "source": [
    "hidden_dim = 128\n",
    "num_layers = 2\n",
    "num_epochs = 400\n",
    "learning_rate = 0.001"
   ]
  },
  {
   "cell_type": "code",
   "execution_count": 13,
   "id": "e62ac5bc-1eb7-4132-b905-330b8c683e78",
   "metadata": {},
   "outputs": [],
   "source": [
    "data_loader_params = {\n",
    "    \"batch_size\": 64,\n",
    "    \"shuffle\": True,\n",
    "    \"num_workers\": 10\n",
    "}"
   ]
  },
  {
   "cell_type": "code",
   "execution_count": 14,
   "id": "3f39817e-a0c2-4ddc-aed8-c4b644d7e692",
   "metadata": {},
   "outputs": [],
   "source": [
    "train_set = SeqDataset(train)"
   ]
  },
  {
   "cell_type": "code",
   "execution_count": 15,
   "id": "fa2298b6-9dd5-4890-b823-08b1b828c8cb",
   "metadata": {},
   "outputs": [],
   "source": [
    "train_loader = torch.utils.data.DataLoader(train_set, **data_loader_params)"
   ]
  },
  {
   "cell_type": "code",
   "execution_count": 16,
   "id": "c6331ec1-f64d-4df1-94bb-bb1d23c2c58d",
   "metadata": {},
   "outputs": [],
   "source": [
    "model = SeqModel(input_dim, hidden_dim, num_layers, output_dim).to(device)"
   ]
  },
  {
   "cell_type": "code",
   "execution_count": 17,
   "id": "ab7b0804-330f-424f-b2ce-aa1ecfbf121f",
   "metadata": {},
   "outputs": [],
   "source": [
    "optimizer = torch.optim.Adam(model.parameters(), lr=learning_rate)"
   ]
  },
  {
   "cell_type": "code",
   "execution_count": 18,
   "id": "c89a046d-ca12-4619-9661-1950d70128b5",
   "metadata": {},
   "outputs": [],
   "source": [
    "criterion = nn.L1Loss(reduction='mean')"
   ]
  },
  {
   "cell_type": "code",
   "execution_count": 19,
   "id": "69da9fc0-d6f1-43a8-a611-47a31b0cd5ef",
   "metadata": {},
   "outputs": [],
   "source": [
    "num_epochs = 400\n",
    "early_stopping_epochs = 10"
   ]
  },
  {
   "cell_type": "code",
   "execution_count": 20,
   "id": "01922543-2e2d-4afb-97c8-62cf0d0c0052",
   "metadata": {
    "scrolled": true,
    "tags": []
   },
   "outputs": [
    {
     "name": "stdout",
     "output_type": "stream",
     "text": [
      "Epoch 0, train loss: 79.39, validation loss: 143.46\n",
      "Epoch 1, train loss: 68.03, validation loss: 132.65\n",
      "Epoch 2, train loss: 64.51, validation loss: 124.24\n",
      "Epoch 3, train loss: 50.50, validation loss: 109.04\n",
      "Epoch 4, train loss: 44.22, validation loss: 100.38\n",
      "Epoch 5, train loss: 40.66, validation loss: 93.74\n",
      "Epoch 6, train loss: 38.00, validation loss: 88.38\n",
      "Epoch 7, train loss: 36.24, validation loss: 84.41\n",
      "Epoch 8, train loss: 34.12, validation loss: 80.25\n",
      "Epoch 9, train loss: 32.49, validation loss: 76.84\n",
      "Epoch 10, train loss: 31.22, validation loss: 73.52\n",
      "Epoch 11, train loss: 30.45, validation loss: 70.86\n",
      "Epoch 12, train loss: 29.06, validation loss: 68.71\n",
      "Epoch 13, train loss: 28.20, validation loss: 66.01\n",
      "Epoch 14, train loss: 27.61, validation loss: 64.29\n",
      "Epoch 15, train loss: 26.44, validation loss: 61.94\n",
      "Epoch 16, train loss: 25.68, validation loss: 60.35\n",
      "Epoch 17, train loss: 24.96, validation loss: 58.89\n",
      "Epoch 18, train loss: 24.23, validation loss: 56.88\n",
      "Epoch 19, train loss: 23.58, validation loss: 55.28\n",
      "Epoch 20, train loss: 22.95, validation loss: 54.66\n",
      "Epoch 21, train loss: 22.50, validation loss: 53.59\n",
      "Epoch 22, train loss: 21.95, validation loss: 52.13\n",
      "Epoch 23, train loss: 21.37, validation loss: 50.96\n",
      "Epoch 24, train loss: 20.93, validation loss: 50.32\n",
      "Epoch 25, train loss: 20.55, validation loss: 48.98\n",
      "Epoch 26, train loss: 19.91, validation loss: 48.28\n",
      "Epoch 27, train loss: 19.92, validation loss: 47.40\n",
      "Epoch 28, train loss: 19.49, validation loss: 46.31\n",
      "Epoch 29, train loss: 18.83, validation loss: 46.22\n",
      "Epoch 30, train loss: 18.50, validation loss: 45.81\n",
      "Epoch 31, train loss: 17.96, validation loss: 44.60\n",
      "Epoch 32, train loss: 17.56, validation loss: 44.00\n",
      "Epoch 33, train loss: 17.55, validation loss: 43.75\n",
      "Epoch 34, train loss: 17.04, validation loss: 42.61\n",
      "Epoch 35, train loss: 16.87, validation loss: 42.25\n",
      "Epoch 36, train loss: 16.35, validation loss: 41.37\n",
      "Epoch 37, train loss: 16.03, validation loss: 40.78\n",
      "Epoch 38, train loss: 15.75, validation loss: 40.28\n",
      "Epoch 39, train loss: 15.20, validation loss: 40.03\n",
      "Epoch 40, train loss: 15.60, validation loss: 39.58\n",
      "Epoch 41, train loss: 14.62, validation loss: 39.05\n",
      "Epoch 42, train loss: 14.35, validation loss: 38.98\n",
      "Epoch 43, train loss: 14.11, validation loss: 37.91\n",
      "Epoch 44, train loss: 13.80, validation loss: 37.64\n",
      "Epoch 45, train loss: 13.49, validation loss: 37.49\n",
      "Epoch 46, train loss: 13.30, validation loss: 37.66\n",
      "Epoch 47, train loss: 13.11, validation loss: 36.15\n",
      "Epoch 48, train loss: 12.82, validation loss: 36.13\n",
      "Epoch 49, train loss: 12.54, validation loss: 36.09\n",
      "Epoch 50, train loss: 12.34, validation loss: 35.54\n",
      "Epoch 51, train loss: 11.99, validation loss: 34.72\n",
      "Epoch 52, train loss: 12.08, validation loss: 35.35\n",
      "Epoch 53, train loss: 11.72, validation loss: 34.25\n",
      "Epoch 54, train loss: 11.64, validation loss: 34.29\n",
      "Epoch 55, train loss: 11.61, validation loss: 34.43\n",
      "Epoch 56, train loss: 11.21, validation loss: 33.25\n",
      "Epoch 57, train loss: 10.77, validation loss: 34.01\n",
      "Epoch 58, train loss: 10.61, validation loss: 32.20\n",
      "Epoch 59, train loss: 10.51, validation loss: 32.98\n",
      "Epoch 60, train loss: 10.33, validation loss: 31.73\n",
      "Epoch 61, train loss: 10.22, validation loss: 31.59\n",
      "Epoch 62, train loss: 10.06, validation loss: 32.30\n",
      "Epoch 63, train loss: 9.85, validation loss: 31.01\n",
      "Epoch 64, train loss: 9.68, validation loss: 30.91\n",
      "Epoch 65, train loss: 9.55, validation loss: 29.84\n",
      "Epoch 66, train loss: 9.55, validation loss: 30.18\n",
      "Epoch 67, train loss: 9.56, validation loss: 30.10\n",
      "Epoch 68, train loss: 9.49, validation loss: 29.34\n",
      "Epoch 69, train loss: 9.21, validation loss: 29.44\n",
      "Epoch 70, train loss: 9.03, validation loss: 29.57\n",
      "Epoch 71, train loss: 8.77, validation loss: 29.68\n",
      "Epoch 72, train loss: 8.70, validation loss: 28.36\n",
      "Epoch 73, train loss: 8.46, validation loss: 27.79\n",
      "Epoch 74, train loss: 8.28, validation loss: 26.69\n",
      "Epoch 75, train loss: 8.03, validation loss: 28.10\n",
      "Epoch 76, train loss: 7.89, validation loss: 26.98\n",
      "Epoch 77, train loss: 7.78, validation loss: 26.52\n",
      "Epoch 78, train loss: 7.78, validation loss: 25.69\n",
      "Epoch 79, train loss: 7.88, validation loss: 26.90\n",
      "Epoch 80, train loss: 7.46, validation loss: 25.18\n",
      "Epoch 81, train loss: 7.45, validation loss: 26.91\n",
      "Epoch 82, train loss: 7.24, validation loss: 25.10\n",
      "Epoch 83, train loss: 7.17, validation loss: 24.11\n",
      "Epoch 84, train loss: 7.20, validation loss: 24.18\n",
      "Epoch 85, train loss: 6.84, validation loss: 25.00\n",
      "Epoch 86, train loss: 6.75, validation loss: 22.68\n",
      "Epoch 87, train loss: 6.51, validation loss: 23.21\n",
      "Epoch 88, train loss: 6.29, validation loss: 22.81\n",
      "Epoch 89, train loss: 6.33, validation loss: 22.41\n",
      "Epoch 90, train loss: 6.20, validation loss: 22.65\n",
      "Epoch 91, train loss: 6.25, validation loss: 22.20\n",
      "Epoch 92, train loss: 6.21, validation loss: 21.41\n",
      "Epoch 93, train loss: 5.90, validation loss: 21.24\n",
      "Epoch 94, train loss: 6.00, validation loss: 22.99\n",
      "Epoch 95, train loss: 5.76, validation loss: 20.65\n",
      "Epoch 96, train loss: 5.68, validation loss: 20.98\n",
      "Epoch 97, train loss: 5.61, validation loss: 20.17\n",
      "Epoch 98, train loss: 5.55, validation loss: 20.25\n",
      "Epoch 99, train loss: 5.39, validation loss: 19.77\n",
      "Epoch 100, train loss: 5.46, validation loss: 20.44\n",
      "Epoch 101, train loss: 5.40, validation loss: 19.57\n",
      "Epoch 102, train loss: 5.26, validation loss: 19.38\n",
      "Epoch 103, train loss: 5.23, validation loss: 19.69\n",
      "Epoch 104, train loss: 5.08, validation loss: 18.77\n",
      "Epoch 105, train loss: 5.22, validation loss: 18.44\n",
      "Epoch 106, train loss: 5.10, validation loss: 18.52\n",
      "Epoch 107, train loss: 4.98, validation loss: 18.07\n",
      "Epoch 108, train loss: 4.98, validation loss: 18.03\n",
      "Epoch 109, train loss: 4.72, validation loss: 17.08\n",
      "Epoch 110, train loss: 4.68, validation loss: 17.67\n",
      "Epoch 111, train loss: 4.82, validation loss: 17.31\n",
      "Epoch 112, train loss: 4.70, validation loss: 18.36\n",
      "Epoch 113, train loss: 4.85, validation loss: 17.17\n",
      "Epoch 114, train loss: 4.65, validation loss: 17.46\n",
      "Epoch 115, train loss: 4.62, validation loss: 16.80\n",
      "Epoch 116, train loss: 4.45, validation loss: 16.59\n",
      "Epoch 117, train loss: 4.54, validation loss: 16.28\n",
      "Epoch 118, train loss: 4.41, validation loss: 16.03\n",
      "Epoch 119, train loss: 4.49, validation loss: 16.75\n",
      "Epoch 120, train loss: 4.42, validation loss: 16.53\n",
      "Epoch 121, train loss: 4.23, validation loss: 15.72\n",
      "Epoch 122, train loss: 4.36, validation loss: 15.76\n",
      "Epoch 123, train loss: 4.30, validation loss: 16.18\n",
      "Epoch 124, train loss: 4.28, validation loss: 15.51\n",
      "Epoch 125, train loss: 4.33, validation loss: 16.16\n",
      "Epoch 126, train loss: 4.35, validation loss: 15.62\n",
      "Epoch 127, train loss: 4.31, validation loss: 15.73\n",
      "Epoch 128, train loss: 4.21, validation loss: 15.43\n",
      "Epoch 129, train loss: 4.24, validation loss: 15.08\n",
      "Epoch 130, train loss: 4.12, validation loss: 15.43\n",
      "Epoch 131, train loss: 4.20, validation loss: 15.72\n",
      "Epoch 132, train loss: 4.07, validation loss: 14.56\n",
      "Epoch 133, train loss: 4.08, validation loss: 15.50\n",
      "Epoch 134, train loss: 4.14, validation loss: 15.23\n",
      "Epoch 135, train loss: 3.99, validation loss: 14.95\n",
      "Epoch 136, train loss: 3.90, validation loss: 14.56\n",
      "Epoch 137, train loss: 3.99, validation loss: 14.17\n",
      "Epoch 138, train loss: 3.93, validation loss: 14.10\n",
      "Epoch 139, train loss: 3.90, validation loss: 14.71\n",
      "Epoch 140, train loss: 3.92, validation loss: 13.71\n",
      "Epoch 141, train loss: 3.75, validation loss: 13.79\n",
      "Epoch 142, train loss: 3.80, validation loss: 13.88\n",
      "Epoch 143, train loss: 3.66, validation loss: 13.47\n",
      "Epoch 144, train loss: 3.67, validation loss: 14.98\n",
      "Epoch 145, train loss: 3.84, validation loss: 12.70\n",
      "Epoch 146, train loss: 3.70, validation loss: 12.99\n",
      "Epoch 147, train loss: 3.78, validation loss: 12.69\n",
      "Epoch 148, train loss: 3.76, validation loss: 13.04\n",
      "Epoch 149, train loss: 3.54, validation loss: 13.80\n",
      "Epoch 150, train loss: 3.58, validation loss: 12.53\n",
      "Epoch 151, train loss: 3.62, validation loss: 12.63\n",
      "Epoch 152, train loss: 3.69, validation loss: 12.47\n",
      "Epoch 153, train loss: 3.70, validation loss: 12.56\n",
      "Epoch 154, train loss: 3.53, validation loss: 12.44\n",
      "Epoch 155, train loss: 3.46, validation loss: 13.25\n",
      "Epoch 156, train loss: 3.52, validation loss: 12.47\n",
      "Epoch 157, train loss: 3.40, validation loss: 11.34\n",
      "Epoch 158, train loss: 3.39, validation loss: 12.71\n",
      "Epoch 159, train loss: 3.47, validation loss: 13.19\n",
      "Epoch 160, train loss: 3.59, validation loss: 12.13\n",
      "Epoch 161, train loss: 3.71, validation loss: 11.86\n",
      "Epoch 162, train loss: 3.55, validation loss: 11.83\n",
      "Epoch 163, train loss: 3.48, validation loss: 11.54\n",
      "Epoch 164, train loss: 3.60, validation loss: 11.76\n",
      "Epoch 165, train loss: 3.33, validation loss: 11.60\n",
      "Epoch 166, train loss: 3.45, validation loss: 11.12\n",
      "Epoch 167, train loss: 3.35, validation loss: 11.35\n",
      "Epoch 168, train loss: 3.46, validation loss: 11.97\n",
      "Epoch 169, train loss: 3.42, validation loss: 10.80\n",
      "Epoch 170, train loss: 3.32, validation loss: 11.55\n",
      "Epoch 171, train loss: 3.32, validation loss: 11.29\n",
      "Epoch 172, train loss: 3.45, validation loss: 10.91\n",
      "Epoch 173, train loss: 3.40, validation loss: 10.48\n",
      "Epoch 174, train loss: 3.50, validation loss: 11.48\n",
      "Epoch 175, train loss: 3.47, validation loss: 10.87\n",
      "Epoch 176, train loss: 3.20, validation loss: 11.65\n",
      "Epoch 177, train loss: 3.31, validation loss: 10.44\n",
      "Epoch 178, train loss: 3.25, validation loss: 10.57\n",
      "Epoch 179, train loss: 3.19, validation loss: 10.35\n",
      "Epoch 180, train loss: 3.13, validation loss: 10.22\n",
      "Epoch 181, train loss: 3.13, validation loss: 11.16\n",
      "Epoch 182, train loss: 3.10, validation loss: 11.42\n",
      "Epoch 183, train loss: 3.07, validation loss: 10.49\n",
      "Epoch 184, train loss: 3.13, validation loss: 9.73\n",
      "Epoch 185, train loss: 3.27, validation loss: 10.55\n",
      "Epoch 186, train loss: 3.19, validation loss: 9.89\n",
      "Epoch 187, train loss: 3.12, validation loss: 10.30\n",
      "Epoch 188, train loss: 3.11, validation loss: 9.28\n",
      "Epoch 189, train loss: 3.23, validation loss: 9.85\n",
      "Epoch 190, train loss: 3.24, validation loss: 9.99\n",
      "Epoch 191, train loss: 3.07, validation loss: 9.35\n",
      "Epoch 192, train loss: 3.04, validation loss: 9.14\n",
      "Epoch 193, train loss: 3.05, validation loss: 9.23\n",
      "Epoch 194, train loss: 3.18, validation loss: 10.51\n",
      "Epoch 195, train loss: 3.25, validation loss: 10.01\n",
      "Epoch 196, train loss: 3.17, validation loss: 10.03\n",
      "Epoch 197, train loss: 2.96, validation loss: 8.86\n",
      "Epoch 198, train loss: 2.99, validation loss: 8.90\n",
      "Epoch 199, train loss: 2.95, validation loss: 9.33\n",
      "Epoch 200, train loss: 2.90, validation loss: 9.02\n",
      "Epoch 201, train loss: 2.99, validation loss: 8.52\n",
      "Epoch 202, train loss: 2.85, validation loss: 9.40\n",
      "Epoch 203, train loss: 2.89, validation loss: 8.33\n",
      "Epoch 204, train loss: 3.00, validation loss: 8.78\n",
      "Epoch 205, train loss: 2.88, validation loss: 8.37\n",
      "Epoch 206, train loss: 3.00, validation loss: 9.11\n",
      "Epoch 207, train loss: 3.03, validation loss: 8.71\n",
      "Epoch 208, train loss: 2.99, validation loss: 9.70\n",
      "Epoch 209, train loss: 2.99, validation loss: 8.55\n",
      "Epoch 210, train loss: 2.74, validation loss: 7.90\n",
      "Epoch 211, train loss: 2.81, validation loss: 7.96\n",
      "Epoch 212, train loss: 2.82, validation loss: 7.49\n",
      "Epoch 213, train loss: 2.88, validation loss: 8.70\n",
      "Epoch 214, train loss: 2.86, validation loss: 7.74\n",
      "Epoch 215, train loss: 2.70, validation loss: 8.44\n",
      "Epoch 216, train loss: 2.79, validation loss: 8.02\n",
      "Epoch 217, train loss: 2.70, validation loss: 7.67\n",
      "Epoch 218, train loss: 2.71, validation loss: 7.22\n",
      "Epoch 219, train loss: 2.75, validation loss: 6.90\n",
      "Epoch 220, train loss: 2.70, validation loss: 7.11\n",
      "Epoch 221, train loss: 2.69, validation loss: 7.12\n",
      "Epoch 222, train loss: 2.57, validation loss: 7.17\n",
      "Epoch 223, train loss: 2.49, validation loss: 7.45\n",
      "Epoch 224, train loss: 2.56, validation loss: 6.76\n",
      "Epoch 225, train loss: 2.60, validation loss: 7.34\n",
      "Epoch 226, train loss: 2.69, validation loss: 6.95\n",
      "Epoch 227, train loss: 2.68, validation loss: 6.42\n",
      "Epoch 228, train loss: 2.68, validation loss: 6.96\n",
      "Epoch 229, train loss: 2.78, validation loss: 6.54\n",
      "Epoch 230, train loss: 2.67, validation loss: 6.65\n",
      "Epoch 231, train loss: 2.60, validation loss: 6.19\n",
      "Epoch 232, train loss: 2.67, validation loss: 6.36\n",
      "Epoch 233, train loss: 2.57, validation loss: 8.04\n",
      "Epoch 234, train loss: 2.51, validation loss: 5.75\n",
      "Epoch 235, train loss: 2.47, validation loss: 6.11\n",
      "Epoch 236, train loss: 2.43, validation loss: 5.83\n",
      "Epoch 237, train loss: 2.30, validation loss: 6.07\n",
      "Epoch 238, train loss: 2.52, validation loss: 6.06\n",
      "Epoch 239, train loss: 2.62, validation loss: 5.71\n",
      "Epoch 240, train loss: 2.51, validation loss: 6.14\n",
      "Epoch 241, train loss: 2.54, validation loss: 5.99\n",
      "Epoch 242, train loss: 2.72, validation loss: 8.80\n",
      "Epoch 243, train loss: 2.57, validation loss: 5.82\n",
      "Epoch 244, train loss: 3.09, validation loss: 12.66\n",
      "Epoch 245, train loss: 3.07, validation loss: 6.27\n",
      "Epoch 246, train loss: 2.42, validation loss: 5.99\n",
      "Epoch 247, train loss: 2.44, validation loss: 5.94\n",
      "Epoch 248, train loss: 2.33, validation loss: 5.47\n",
      "Epoch 249, train loss: 2.49, validation loss: 5.21\n",
      "Epoch 250, train loss: 2.31, validation loss: 5.10\n",
      "Epoch 251, train loss: 2.37, validation loss: 5.50\n",
      "Epoch 252, train loss: 2.29, validation loss: 5.19\n",
      "Epoch 253, train loss: 2.25, validation loss: 5.85\n",
      "Epoch 254, train loss: 2.40, validation loss: 5.30\n",
      "Epoch 255, train loss: 2.49, validation loss: 5.58\n",
      "Epoch 256, train loss: 2.31, validation loss: 5.93\n",
      "Epoch 257, train loss: 2.38, validation loss: 5.90\n",
      "Epoch 258, train loss: 2.33, validation loss: 5.39\n",
      "Epoch 259, train loss: 2.49, validation loss: 5.20\n",
      "Epoch 260, train loss: 2.38, validation loss: 5.47\n",
      "Validation loss not improved in the last 10 epochs, breaking...\n",
      "test loss: 20.51\n"
     ]
    }
   ],
   "source": [
    "train_hist = []\n",
    "valid_hist = []\n",
    "min_observed_valid_loss = np.inf\n",
    "\n",
    "for epoch in range(num_epochs):\n",
    "    train_loss_per_batch = []\n",
    "    for x, y in train_loader:\n",
    "        x = x.to(device)\n",
    "        y = y.to(device)\n",
    "        model.zero_grad()\n",
    "        y_pred = model(x)\n",
    "        loss = criterion(y_pred, y)\n",
    "        \n",
    "        loss.backward()\n",
    "        optimizer.step()\n",
    "        train_loss_per_batch.append(loss.item())\n",
    "        del x, y\n",
    "        torch.cuda.empty_cache()\n",
    "    train_loss_epoch = np.mean(train_loss_per_batch)\n",
    "    \n",
    "    with torch.no_grad():\n",
    "        y_valid_pred = model(x_valid)\n",
    "        valid_loss_epoch = criterion(y_valid_pred, y_valid)\n",
    "        del y_valid_pred\n",
    "        torch.cuda.empty_cache()\n",
    "\n",
    "    min_observed_valid_loss = min(min_observed_valid_loss, valid_loss_epoch)\n",
    "    \n",
    "    train_hist.append(train_loss_epoch)\n",
    "    valid_hist.append(valid_loss_epoch)\n",
    "    \n",
    "    print(f\"Epoch {epoch}, train loss: {train_loss_epoch:.2f}, validation loss: {valid_loss_epoch:.2f}\")\n",
    "    \n",
    "    if epoch > early_stopping_epochs:\n",
    "        if min_observed_valid_loss < min(valid_hist[-10:]):\n",
    "            print(f\"Validation loss not improved in the last {early_stopping_epochs} epochs, breaking...\")\n",
    "            break\n",
    "\n",
    "y_test_pred = model(x_test)\n",
    "test_loss = criterion(y_test_pred, y_test)\n",
    "print(f\"test loss: {test_loss:.2f}\")"
   ]
  },
  {
   "cell_type": "code",
   "execution_count": 30,
   "id": "711e6b7e-e58e-42f8-b3e5-d5026e9d8be3",
   "metadata": {},
   "outputs": [],
   "source": [
    "ticker = \"MSFT\""
   ]
  },
  {
   "cell_type": "code",
   "execution_count": 31,
   "id": "03df5558-19ec-4737-ba07-7f12dc2bd807",
   "metadata": {},
   "outputs": [],
   "source": [
    "ticker_ind = np.argwhere(test_data['ticker'] == ticker).squeeze()"
   ]
  },
  {
   "cell_type": "code",
   "execution_count": 32,
   "id": "ba284be7-9f7b-4f06-b0b2-6a3350daba2c",
   "metadata": {},
   "outputs": [],
   "source": [
    "ticker_ypred = y_test_pred.cpu().detach().numpy()[ticker_ind, :]\n",
    "ticker_y = y_test.cpu().detach().numpy()[ticker_ind, :]\n",
    "ticker_dates = test_data['prediction_date'][ticker_ind]"
   ]
  },
  {
   "cell_type": "code",
   "execution_count": 33,
   "id": "513b0b92-949c-44a5-8e56-542787a0eb30",
   "metadata": {},
   "outputs": [
    {
     "data": {
      "text/plain": [
       "[<matplotlib.lines.Line2D at 0x7fec008329a0>]"
      ]
     },
     "execution_count": 33,
     "metadata": {},
     "output_type": "execute_result"
    },
    {
     "data": {
      "image/png": "[encoded data removed]",
      "text/plain": [
       "<Figure size 432x288 with 1 Axes>"
      ]
     },
     "metadata": {
      "needs_background": "light"
     },
     "output_type": "display_data"
    }
   ],
   "source": [
    "fig, ax = plt.subplots(figsize=(6, 4))\n",
    "ax.plot(pd.to_datetime(ticker_dates), ticker_y)\n",
    "ax.plot(pd.to_datetime(ticker_dates), ticker_ypred, color=\"C2\")"
   ]
  },
  {
   "cell_type": "code",
   "execution_count": 35,
   "id": "622e723a-b7b2-431e-a496-4f75d30d6331",
   "metadata": {},
   "outputs": [
    {
     "data": {
      "text/plain": [
       "tensor(4.2914, device='cuda:0', grad_fn=<L1LossBackward>)"
      ]
     },
     "execution_count": 35,
     "metadata": {},
     "output_type": "execute_result"
    }
   ],
   "source": [
    "criterion(y_test_pred[ticker_ind, :], y_test[ticker_ind, :])"
   ]
  },
  {
   "cell_type": "code",
   "execution_count": 96,
   "id": "e7518070-aaf6-4bc4-8132-ee19e5907dec",
   "metadata": {},
   "outputs": [
    {
     "data": {
      "text/plain": [
       "torch.Size([64, 30, 1])"
      ]
     },
     "execution_count": 96,
     "metadata": {},
     "output_type": "execute_result"
    }
   ],
   "source": [
    "y.shape"
   ]
  },
  {
   "cell_type": "code",
   "execution_count": 94,
   "id": "dfb65646-77c0-489e-af72-57713702443e",
   "metadata": {},
   "outputs": [
    {
     "data": {
      "text/plain": [
       "torch.Size([64, 30, 1])"
      ]
     },
     "execution_count": 94,
     "metadata": {},
     "output_type": "execute_result"
    }
   ],
   "source": [
    "model(x.to(device)).shape"
   ]
  },
  {
   "cell_type": "code",
   "execution_count": null,
   "id": "2d8ef01b-eeb8-44a4-99e4-1b2f3ebf29b3",
   "metadata": {},
   "outputs": [],
   "source": []
  }
 ],
 "metadata": {
  "kernelspec": {
   "display_name": "Python 3",
   "language": "python",
   "name": "python3"
  },
  "language_info": {
   "codemirror_mode": {
    "name": "ipython",
    "version": 3
   },
   "file_extension": ".py",
   "mimetype": "text/x-python",
   "name": "python",
   "nbconvert_exporter": "python",
   "pygments_lexer": "ipython3",
   "version": "3.8.8"
  }
 },
 "nbformat": 4,
 "nbformat_minor": 5
}
